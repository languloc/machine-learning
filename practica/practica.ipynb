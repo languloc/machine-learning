{
 "cells": [
  {
   "cell_type": "markdown",
   "metadata": {
    "deletable": false,
    "editable": false,
    "nbgrader": {
     "checksum": "e8da009ad9ac3ca56723ea5e498dee14",
     "grade": false,
     "grade_id": "cell-ed2a5dbb38d52468",
     "locked": true,
     "schema_version": 1,
     "solution": false
    }
   },
   "source": [
    "# Campaña \"Seguro Vivienda\" de compañía financiera"
   ]
  },
  {
   "cell_type": "markdown",
   "metadata": {
    "deletable": false,
    "editable": false,
    "nbgrader": {
     "checksum": "fecd1202cdf3628d395822847eef8cf6",
     "grade": false,
     "grade_id": "cell-38459ea608c74e99",
     "locked": true,
     "schema_version": 1,
     "solution": false
    }
   },
   "source": [
    "Los correos a todos los potenciales clientes de un producto no son una estrategia de marketing efectiva, ya que muchos de ellos no están interesados. Identificando a los más propensos a contratar el producto se podría dirigir la campaña de marketing con mayor precisión y reducir su coste.\n",
    "\n",
    "La compañía financiera ofrece seguros, créditos, etc. y nos proporciona un listado de clientes a los que ha dirigido una campaña de marketing ofreciendo el nuevo producto “Seguro Vivienda”. En el fichero se encuentran los datos de dichos clientes, así como información de otros productos ya contratados y si contrataron el nuevo producto o no. También se dispone de un fichero con información sociodemográfica asociada a diferentes zonas de residencia.\n",
    "\n",
    "Se pide que planifiquemos una campaña más efectiva sobre un segundo conjunto de clientes, para lo que utilizaremos el primer conjunto para construir modelos predictivos que usaremos sobre el segundo conjunto para seleccionar los clientes más propensos a contratar el producto. Una vez seleccionados los candidatos, la compañía les ofrecerá el producto y medirá la eficacia del modelo según la proporción de ellos que lo contratan."
   ]
  },
  {
   "cell_type": "markdown",
   "metadata": {
    "deletable": false,
    "editable": false,
    "nbgrader": {
     "checksum": "9eac7c9cb107c92d571be38c143f71dc",
     "grade": false,
     "grade_id": "cell-282b598909a3dbcc",
     "locked": true,
     "schema_version": 1,
     "solution": false
    }
   },
   "source": [
    "## Conjuntos de datos"
   ]
  },
  {
   "cell_type": "markdown",
   "metadata": {
    "deletable": false,
    "editable": false,
    "nbgrader": {
     "checksum": "2705c3483bf4bead2597fc4ff1e9520a",
     "grade": false,
     "grade_id": "cell-419b51f273275864",
     "locked": true,
     "schema_version": 1,
     "solution": false
    }
   },
   "source": [
    "### Clientes"
   ]
  },
  {
   "cell_type": "markdown",
   "metadata": {
    "deletable": false,
    "editable": false,
    "nbgrader": {
     "checksum": "f20acbc4d387f7e4c80115711ca5eb27",
     "grade": false,
     "grade_id": "cell-d8f6f4d34067395d",
     "locked": true,
     "schema_version": 1,
     "solution": false
    }
   },
   "source": [
    "* ID_Cliente: identificador único del cliente\n",
    "* Fecha_Nacimiento: fecha de nacimiento del cliente\n",
    "* Fecha_Alta: fecha de alta del cliente\n",
    "* Sexo: sexo del cliente\n",
    "* ID_Zona: identificador único de zona de residencia\n",
    "* Productos_X: número de productos contratados por tipo\n",
    "* Gasto_X: gasto anual en los distintos productos\n",
    "* Seguro_Vivienda: el cliente contrató el producto ofrecido o no"
   ]
  },
  {
   "cell_type": "markdown",
   "metadata": {
    "deletable": false,
    "editable": false,
    "nbgrader": {
     "checksum": "518570867ca295fb885b93b1a9396733",
     "grade": false,
     "grade_id": "cell-818cf311a91deaa2",
     "locked": true,
     "schema_version": 1,
     "solution": false
    }
   },
   "source": [
    "### Zonas"
   ]
  },
  {
   "cell_type": "markdown",
   "metadata": {
    "deletable": false,
    "editable": false,
    "nbgrader": {
     "checksum": "03a66b1fad0e5e796a17f500798d87c3",
     "grade": false,
     "grade_id": "cell-d626faf64928537b",
     "locked": true,
     "schema_version": 1,
     "solution": false
    }
   },
   "source": [
    "* ID_Zona: identificador único de zona\n",
    "* Tipo_X: porcentaje de población por tipología familiar\n",
    "* Educacion_X: porcentaje de población por nivel de estudios\n",
    "* Poblacion_X: porcentaje de población por tipo de población\n",
    "* Vivienda_X: porcentaje de población por tipo de vivienda\n",
    "* Medico_X: porcentaje de población por tipo de seguro médico\n",
    "* Ingresos_X: porcentaje de población por nivel de ingresos"
   ]
  },
  {
   "cell_type": "markdown",
   "metadata": {
    "deletable": false,
    "editable": false,
    "nbgrader": {
     "checksum": "b86b14ca77c1642bd034bfe8466c11fa",
     "grade": false,
     "grade_id": "cell-334857c00c04d04a",
     "locked": true,
     "schema_version": 1,
     "solution": false
    }
   },
   "source": [
    "## Cruce de datos"
   ]
  },
  {
   "cell_type": "markdown",
   "metadata": {
    "deletable": false,
    "editable": false,
    "nbgrader": {
     "checksum": "9cf920be15e2d9c61dd142b6dd2fe0a4",
     "grade": false,
     "grade_id": "cell-7fa352c165d7cf4f",
     "locked": true,
     "schema_version": 1,
     "solution": false
    }
   },
   "source": [
    "Primero vamos a cruzar los datos de clientes con los datos de zonas, para tener toda la información en una sola tabla por cada cliente. En el siguiente código, deberás introducir en la variable 'datos_path' la ruta a la carpeta donde se encuentran los ficheros de datos, por ejemplo \"~/Escritorio\" si están en el escritorio."
   ]
  },
  {
   "cell_type": "code",
   "execution_count": 8,
   "metadata": {},
   "outputs": [
    {
     "name": "stdout",
     "output_type": "stream",
     "text": [
      "Datos de Entrenamiento Combinados:\n",
      "  ID_Cliente Fecha_Nacimiento  Fecha_Alta    Sexo ID_Zona  Productos_Vida  \\\n",
      "0      C3088       29/03/1968  27/03/1989   Mujer   Z1143               0   \n",
      "1      C3441       01/05/1962  26/12/1984  Hombre   Z1143               0   \n",
      "2      C0412       19/01/1967  29/04/1987  Hombre   Z1143               0   \n",
      "3      C3565       20/04/1948  06/09/1969  Hombre   Z1143               0   \n",
      "4      C0315       28/07/1979  18/06/2001   Mujer   Z1143               0   \n",
      "\n",
      "   Productos_Vehiculos  Productos_Otros  Gasto_Vida  Gasto_Vehiculos  ...  \\\n",
      "0                    1                0         0.0           617.55  ...   \n",
      "1                    0                0         0.0             0.00  ...   \n",
      "2                    0                1         0.0             0.00  ...   \n",
      "3                    1                0         0.0          3315.54  ...   \n",
      "4                    1                2         0.0          2561.45  ...   \n",
      "\n",
      "   Poblacion_Funcionario  Poblacion_Trabajador_Cualificado  \\\n",
      "0                  28.17                             21.01   \n",
      "1                  28.17                             21.01   \n",
      "2                  28.17                             21.01   \n",
      "3                  28.17                             21.01   \n",
      "4                  28.17                             21.01   \n",
      "\n",
      "   Poblacion_Trabajador_No_Cualificado  Vivienda_Propiedad  Vivienda_Alquiler  \\\n",
      "0                                27.13               71.34              28.66   \n",
      "1                                27.13               71.34              28.66   \n",
      "2                                27.13               71.34              28.66   \n",
      "3                                27.13               71.34              28.66   \n",
      "4                                27.13               71.34              28.66   \n",
      "\n",
      "   Medico_Seguro_Privado  Medico_Seguridad_Social  Ingresos_Mas_De_40000  \\\n",
      "0                  32.77                    67.23                   2.23   \n",
      "1                  32.77                    67.23                   2.23   \n",
      "2                  32.77                    67.23                   2.23   \n",
      "3                  32.77                    67.23                   2.23   \n",
      "4                  32.77                    67.23                   2.23   \n",
      "\n",
      "   Ingresos_De_20000_Hasta_40000  Ingresos_Hasta_20000  \n",
      "0                           1.47                  96.3  \n",
      "1                           1.47                  96.3  \n",
      "2                           1.47                  96.3  \n",
      "3                           1.47                  96.3  \n",
      "4                           1.47                  96.3  \n",
      "\n",
      "[5 rows x 29 columns]\n",
      "\n",
      "Datos de Prueba Combinados:\n",
      "  ID_Cliente Fecha_Nacimiento  Fecha_Alta    Sexo ID_Zona  Productos_Vida  \\\n",
      "0      C2172       05/10/1981  04/02/2005  Hombre   Z0403               1   \n",
      "1      C3005       05/04/1974  26/11/1995  Hombre   Z0403               0   \n",
      "2      C1627       21/09/1983  27/12/2004   Mujer   Z0700               0   \n",
      "3      C3120       16/02/1986  24/09/2007   Mujer   Z0700               0   \n",
      "4      C0649       24/01/1945  02/12/1967  Hombre   Z1023               0   \n",
      "\n",
      "   Productos_Vehiculos  Productos_Otros  Gasto_Vida  Gasto_Vehiculos  ...  \\\n",
      "0                    2                2      735.14          2535.49  ...   \n",
      "1                    0                1        0.00             0.00  ...   \n",
      "2                    1                1        0.00          3195.94  ...   \n",
      "3                    3                0        0.00          4610.12  ...   \n",
      "4                    0                0        0.00             0.00  ...   \n",
      "\n",
      "   Poblacion_Funcionario  Poblacion_Trabajador_Cualificado  \\\n",
      "0                  41.42                              0.00   \n",
      "1                  41.42                              0.00   \n",
      "2                  46.35                             16.59   \n",
      "3                  46.35                             16.59   \n",
      "4                  21.16                             19.46   \n",
      "\n",
      "   Poblacion_Trabajador_No_Cualificado  Vivienda_Propiedad  Vivienda_Alquiler  \\\n",
      "0                                 0.00               33.04              66.96   \n",
      "1                                 0.00               33.04              66.96   \n",
      "2                                 1.30                0.00             100.00   \n",
      "3                                 1.30                0.00             100.00   \n",
      "4                                41.63               17.29              82.71   \n",
      "\n",
      "   Medico_Seguro_Privado  Medico_Seguridad_Social  Ingresos_Mas_De_40000  \\\n",
      "0                  78.78                    21.22                    0.0   \n",
      "1                  78.78                    21.22                    0.0   \n",
      "2                  31.24                    68.76                    0.0   \n",
      "3                  31.24                    68.76                    0.0   \n",
      "4                  17.86                    82.14                    0.0   \n",
      "\n",
      "   Ingresos_De_20000_Hasta_40000  Ingresos_Hasta_20000  \n",
      "0                            0.0                100.00  \n",
      "1                            0.0                100.00  \n",
      "2                            0.0                100.00  \n",
      "3                            0.0                100.00  \n",
      "4                            8.9                 91.11  \n",
      "\n",
      "[5 rows x 28 columns]\n"
     ]
    }
   ],
   "source": [
    "import pandas as pd\n",
    "\n",
    "datos_path = \"C:/master/11_MachineLearning/practica\"\n",
    "\n",
    "clientes_train_path = f\"{datos_path}/Clientes_train.csv\"\n",
    "clientes_test_path = f\"{datos_path}/Clientes_test.csv\"\n",
    "zonas_path = f\"{datos_path}/Zonas.csv\"\n",
    "\n",
    "clientes_train = pd.read_csv(clientes_train_path, sep='\\t')\n",
    "clientes_test = pd.read_csv(clientes_test_path, sep='\\t')\n",
    "zonas = pd.read_csv(zonas_path, sep='\\t')\n",
    "\n",
    "datos_completos_train = pd.merge(clientes_train, zonas, on='ID_Zona')\n",
    "datos_completos_test = pd.merge(clientes_test, zonas, on='ID_Zona')\n",
    "\n",
    "print(\"Datos de Entrenamiento Combinados:\")\n",
    "print(datos_completos_train.head())\n",
    "\n",
    "print(\"\\nDatos de Prueba Combinados:\")\n",
    "print(datos_completos_test.head())\n"
   ]
  },
  {
   "cell_type": "code",
   "execution_count": 9,
   "metadata": {
    "deletable": false,
    "editable": false,
    "nbgrader": {
     "checksum": "fcf2f36b896c1ac32e49f79584514ac9",
     "grade": false,
     "grade_id": "cell-0fc9218bd047292c",
     "locked": true,
     "schema_version": 1,
     "solution": false
    }
   },
   "outputs": [],
   "source": [
    "import pandas as pd\n",
    "import matplotlib.pyplot as plt\n",
    "\n",
    "import os\n",
    "\n",
    "%matplotlib inline\n",
    "\n",
    "clientes_file = \"Clientes_train.csv\"\n",
    "zonas_file = \"Zonas.csv\"\n",
    "\n",
    "clientes = pd.read_csv(os.path.join(datos_path, clientes_file), sep='\\t')\n",
    "zonas = pd.read_csv(os.path.join(datos_path, zonas_file), sep='\\t')\n",
    "\n",
    "datos = pd.merge(clientes, zonas, on=\"ID_Zona\", how=\"inner\")\n",
    "\n",
    "targets = datos[\"Seguro_Vivienda\"]\n",
    "variables = datos.drop([\"Seguro_Vivienda\"], axis=1, inplace=False)"
   ]
  },
  {
   "cell_type": "markdown",
   "metadata": {
    "deletable": false,
    "editable": false,
    "nbgrader": {
     "checksum": "4fd7300c2f5e514f7f1d5a20d256385a",
     "grade": false,
     "grade_id": "cell-2cb90124a03d2782",
     "locked": true,
     "schema_version": 1,
     "solution": false
    }
   },
   "source": [
    "## Estudio de datos"
   ]
  },
  {
   "cell_type": "markdown",
   "metadata": {
    "deletable": false,
    "editable": false,
    "nbgrader": {
     "checksum": "a8a4933a5d19b54fed6a0db2a335ea3a",
     "grade": false,
     "grade_id": "cell-bc84075c3714a532",
     "locked": true,
     "schema_version": 1,
     "solution": false
    }
   },
   "source": [
    "Hacemos un estudio de los datos con el objetivo de comprenderlos y encontrar en ellos posibles anomalías. Empezamos por una inspección visual de una muestra de filas de la tabla:"
   ]
  },
  {
   "cell_type": "code",
   "execution_count": 10,
   "metadata": {
    "deletable": false,
    "editable": false,
    "nbgrader": {
     "checksum": "5f1089a4055eb5b64c168d4d4e86c984",
     "grade": false,
     "grade_id": "cell-8d65790100995403",
     "locked": true,
     "schema_version": 1,
     "solution": false
    }
   },
   "outputs": [
    {
     "data": {
      "text/html": [
       "<div>\n",
       "<style scoped>\n",
       "    .dataframe tbody tr th:only-of-type {\n",
       "        vertical-align: middle;\n",
       "    }\n",
       "\n",
       "    .dataframe tbody tr th {\n",
       "        vertical-align: top;\n",
       "    }\n",
       "\n",
       "    .dataframe thead th {\n",
       "        text-align: right;\n",
       "    }\n",
       "</style>\n",
       "<table border=\"1\" class=\"dataframe\">\n",
       "  <thead>\n",
       "    <tr style=\"text-align: right;\">\n",
       "      <th></th>\n",
       "      <th>ID_Cliente</th>\n",
       "      <th>Fecha_Nacimiento</th>\n",
       "      <th>Fecha_Alta</th>\n",
       "      <th>Sexo</th>\n",
       "      <th>ID_Zona</th>\n",
       "      <th>Productos_Vida</th>\n",
       "      <th>Productos_Vehiculos</th>\n",
       "      <th>Productos_Otros</th>\n",
       "      <th>Gasto_Vida</th>\n",
       "      <th>Gasto_Vehiculos</th>\n",
       "      <th>...</th>\n",
       "      <th>Poblacion_Funcionario</th>\n",
       "      <th>Poblacion_Trabajador_Cualificado</th>\n",
       "      <th>Poblacion_Trabajador_No_Cualificado</th>\n",
       "      <th>Vivienda_Propiedad</th>\n",
       "      <th>Vivienda_Alquiler</th>\n",
       "      <th>Medico_Seguro_Privado</th>\n",
       "      <th>Medico_Seguridad_Social</th>\n",
       "      <th>Ingresos_Mas_De_40000</th>\n",
       "      <th>Ingresos_De_20000_Hasta_40000</th>\n",
       "      <th>Ingresos_Hasta_20000</th>\n",
       "    </tr>\n",
       "  </thead>\n",
       "  <tbody>\n",
       "    <tr>\n",
       "      <th>0</th>\n",
       "      <td>C3088</td>\n",
       "      <td>29/03/1968</td>\n",
       "      <td>27/03/1989</td>\n",
       "      <td>Mujer</td>\n",
       "      <td>Z1143</td>\n",
       "      <td>0</td>\n",
       "      <td>1</td>\n",
       "      <td>0</td>\n",
       "      <td>0.0</td>\n",
       "      <td>617.55</td>\n",
       "      <td>...</td>\n",
       "      <td>28.17</td>\n",
       "      <td>21.01</td>\n",
       "      <td>27.13</td>\n",
       "      <td>71.34</td>\n",
       "      <td>28.66</td>\n",
       "      <td>32.77</td>\n",
       "      <td>67.23</td>\n",
       "      <td>2.23</td>\n",
       "      <td>1.47</td>\n",
       "      <td>96.3</td>\n",
       "    </tr>\n",
       "    <tr>\n",
       "      <th>1</th>\n",
       "      <td>C3441</td>\n",
       "      <td>01/05/1962</td>\n",
       "      <td>26/12/1984</td>\n",
       "      <td>Hombre</td>\n",
       "      <td>Z1143</td>\n",
       "      <td>0</td>\n",
       "      <td>0</td>\n",
       "      <td>0</td>\n",
       "      <td>0.0</td>\n",
       "      <td>0.00</td>\n",
       "      <td>...</td>\n",
       "      <td>28.17</td>\n",
       "      <td>21.01</td>\n",
       "      <td>27.13</td>\n",
       "      <td>71.34</td>\n",
       "      <td>28.66</td>\n",
       "      <td>32.77</td>\n",
       "      <td>67.23</td>\n",
       "      <td>2.23</td>\n",
       "      <td>1.47</td>\n",
       "      <td>96.3</td>\n",
       "    </tr>\n",
       "    <tr>\n",
       "      <th>2</th>\n",
       "      <td>C0412</td>\n",
       "      <td>19/01/1967</td>\n",
       "      <td>29/04/1987</td>\n",
       "      <td>Hombre</td>\n",
       "      <td>Z1143</td>\n",
       "      <td>0</td>\n",
       "      <td>0</td>\n",
       "      <td>1</td>\n",
       "      <td>0.0</td>\n",
       "      <td>0.00</td>\n",
       "      <td>...</td>\n",
       "      <td>28.17</td>\n",
       "      <td>21.01</td>\n",
       "      <td>27.13</td>\n",
       "      <td>71.34</td>\n",
       "      <td>28.66</td>\n",
       "      <td>32.77</td>\n",
       "      <td>67.23</td>\n",
       "      <td>2.23</td>\n",
       "      <td>1.47</td>\n",
       "      <td>96.3</td>\n",
       "    </tr>\n",
       "    <tr>\n",
       "      <th>3</th>\n",
       "      <td>C3565</td>\n",
       "      <td>20/04/1948</td>\n",
       "      <td>06/09/1969</td>\n",
       "      <td>Hombre</td>\n",
       "      <td>Z1143</td>\n",
       "      <td>0</td>\n",
       "      <td>1</td>\n",
       "      <td>0</td>\n",
       "      <td>0.0</td>\n",
       "      <td>3315.54</td>\n",
       "      <td>...</td>\n",
       "      <td>28.17</td>\n",
       "      <td>21.01</td>\n",
       "      <td>27.13</td>\n",
       "      <td>71.34</td>\n",
       "      <td>28.66</td>\n",
       "      <td>32.77</td>\n",
       "      <td>67.23</td>\n",
       "      <td>2.23</td>\n",
       "      <td>1.47</td>\n",
       "      <td>96.3</td>\n",
       "    </tr>\n",
       "    <tr>\n",
       "      <th>4</th>\n",
       "      <td>C0315</td>\n",
       "      <td>28/07/1979</td>\n",
       "      <td>18/06/2001</td>\n",
       "      <td>Mujer</td>\n",
       "      <td>Z1143</td>\n",
       "      <td>0</td>\n",
       "      <td>1</td>\n",
       "      <td>2</td>\n",
       "      <td>0.0</td>\n",
       "      <td>2561.45</td>\n",
       "      <td>...</td>\n",
       "      <td>28.17</td>\n",
       "      <td>21.01</td>\n",
       "      <td>27.13</td>\n",
       "      <td>71.34</td>\n",
       "      <td>28.66</td>\n",
       "      <td>32.77</td>\n",
       "      <td>67.23</td>\n",
       "      <td>2.23</td>\n",
       "      <td>1.47</td>\n",
       "      <td>96.3</td>\n",
       "    </tr>\n",
       "  </tbody>\n",
       "</table>\n",
       "<p>5 rows × 28 columns</p>\n",
       "</div>"
      ],
      "text/plain": [
       "  ID_Cliente Fecha_Nacimiento  Fecha_Alta    Sexo ID_Zona  Productos_Vida  \\\n",
       "0      C3088       29/03/1968  27/03/1989   Mujer   Z1143               0   \n",
       "1      C3441       01/05/1962  26/12/1984  Hombre   Z1143               0   \n",
       "2      C0412       19/01/1967  29/04/1987  Hombre   Z1143               0   \n",
       "3      C3565       20/04/1948  06/09/1969  Hombre   Z1143               0   \n",
       "4      C0315       28/07/1979  18/06/2001   Mujer   Z1143               0   \n",
       "\n",
       "   Productos_Vehiculos  Productos_Otros  Gasto_Vida  Gasto_Vehiculos  ...  \\\n",
       "0                    1                0         0.0           617.55  ...   \n",
       "1                    0                0         0.0             0.00  ...   \n",
       "2                    0                1         0.0             0.00  ...   \n",
       "3                    1                0         0.0          3315.54  ...   \n",
       "4                    1                2         0.0          2561.45  ...   \n",
       "\n",
       "   Poblacion_Funcionario  Poblacion_Trabajador_Cualificado  \\\n",
       "0                  28.17                             21.01   \n",
       "1                  28.17                             21.01   \n",
       "2                  28.17                             21.01   \n",
       "3                  28.17                             21.01   \n",
       "4                  28.17                             21.01   \n",
       "\n",
       "   Poblacion_Trabajador_No_Cualificado  Vivienda_Propiedad  Vivienda_Alquiler  \\\n",
       "0                                27.13               71.34              28.66   \n",
       "1                                27.13               71.34              28.66   \n",
       "2                                27.13               71.34              28.66   \n",
       "3                                27.13               71.34              28.66   \n",
       "4                                27.13               71.34              28.66   \n",
       "\n",
       "   Medico_Seguro_Privado  Medico_Seguridad_Social  Ingresos_Mas_De_40000  \\\n",
       "0                  32.77                    67.23                   2.23   \n",
       "1                  32.77                    67.23                   2.23   \n",
       "2                  32.77                    67.23                   2.23   \n",
       "3                  32.77                    67.23                   2.23   \n",
       "4                  32.77                    67.23                   2.23   \n",
       "\n",
       "   Ingresos_De_20000_Hasta_40000  Ingresos_Hasta_20000  \n",
       "0                           1.47                  96.3  \n",
       "1                           1.47                  96.3  \n",
       "2                           1.47                  96.3  \n",
       "3                           1.47                  96.3  \n",
       "4                           1.47                  96.3  \n",
       "\n",
       "[5 rows x 28 columns]"
      ]
     },
     "execution_count": 10,
     "metadata": {},
     "output_type": "execute_result"
    }
   ],
   "source": [
    "variables.head()"
   ]
  },
  {
   "cell_type": "code",
   "execution_count": 11,
   "metadata": {
    "deletable": false,
    "editable": false,
    "nbgrader": {
     "checksum": "33a4a2409fe80ddf71dd4c2b03918e54",
     "grade": false,
     "grade_id": "cell-6431f8a395042b55",
     "locked": true,
     "schema_version": 1,
     "solution": false
    }
   },
   "outputs": [
    {
     "data": {
      "text/plain": [
       "0    False\n",
       "1    False\n",
       "2    False\n",
       "3    False\n",
       "4    False\n",
       "Name: Seguro_Vivienda, dtype: bool"
      ]
     },
     "execution_count": 11,
     "metadata": {},
     "output_type": "execute_result"
    }
   ],
   "source": [
    "targets.head()"
   ]
  },
  {
   "cell_type": "markdown",
   "metadata": {
    "deletable": false,
    "editable": false,
    "nbgrader": {
     "checksum": "1bbe81327160abb010035dafd11960a0",
     "grade": false,
     "grade_id": "cell-beca2a7771c59184",
     "locked": true,
     "schema_version": 1,
     "solution": false
    }
   },
   "source": [
    " Seguimos con un estudio de estadísticos básicos que nos indiquen el rango de valores de cada variable (columna) numérica:"
   ]
  },
  {
   "cell_type": "code",
   "execution_count": 12,
   "metadata": {
    "deletable": false,
    "editable": false,
    "nbgrader": {
     "checksum": "72eb888bef02cc42bbcdb67aa0dcef9d",
     "grade": false,
     "grade_id": "cell-8ae12b4bf14c7c2b",
     "locked": true,
     "schema_version": 1,
     "solution": false
    }
   },
   "outputs": [
    {
     "data": {
      "text/html": [
       "<div>\n",
       "<style scoped>\n",
       "    .dataframe tbody tr th:only-of-type {\n",
       "        vertical-align: middle;\n",
       "    }\n",
       "\n",
       "    .dataframe tbody tr th {\n",
       "        vertical-align: top;\n",
       "    }\n",
       "\n",
       "    .dataframe thead th {\n",
       "        text-align: right;\n",
       "    }\n",
       "</style>\n",
       "<table border=\"1\" class=\"dataframe\">\n",
       "  <thead>\n",
       "    <tr style=\"text-align: right;\">\n",
       "      <th></th>\n",
       "      <th>Productos_Vida</th>\n",
       "      <th>Productos_Vehiculos</th>\n",
       "      <th>Productos_Otros</th>\n",
       "      <th>Gasto_Vida</th>\n",
       "      <th>Gasto_Vehiculos</th>\n",
       "      <th>Gasto_Otros</th>\n",
       "      <th>Tipo_Familia</th>\n",
       "      <th>Tipo_Pareja</th>\n",
       "      <th>Tipo_Soltero</th>\n",
       "      <th>Educacion_Superior</th>\n",
       "      <th>...</th>\n",
       "      <th>Poblacion_Funcionario</th>\n",
       "      <th>Poblacion_Trabajador_Cualificado</th>\n",
       "      <th>Poblacion_Trabajador_No_Cualificado</th>\n",
       "      <th>Vivienda_Propiedad</th>\n",
       "      <th>Vivienda_Alquiler</th>\n",
       "      <th>Medico_Seguro_Privado</th>\n",
       "      <th>Medico_Seguridad_Social</th>\n",
       "      <th>Ingresos_Mas_De_40000</th>\n",
       "      <th>Ingresos_De_20000_Hasta_40000</th>\n",
       "      <th>Ingresos_Hasta_20000</th>\n",
       "    </tr>\n",
       "  </thead>\n",
       "  <tbody>\n",
       "    <tr>\n",
       "      <th>count</th>\n",
       "      <td>2927.000000</td>\n",
       "      <td>2927.000000</td>\n",
       "      <td>2927.000000</td>\n",
       "      <td>2927.000000</td>\n",
       "      <td>2927.000000</td>\n",
       "      <td>2927.000000</td>\n",
       "      <td>2927.000000</td>\n",
       "      <td>2927.000000</td>\n",
       "      <td>2927.000000</td>\n",
       "      <td>2927.000000</td>\n",
       "      <td>...</td>\n",
       "      <td>2927.000000</td>\n",
       "      <td>2927.000000</td>\n",
       "      <td>2927.000000</td>\n",
       "      <td>2927.000000</td>\n",
       "      <td>2927.000000</td>\n",
       "      <td>2927.000000</td>\n",
       "      <td>2927.000000</td>\n",
       "      <td>2927.000000</td>\n",
       "      <td>2927.000000</td>\n",
       "      <td>2927.000000</td>\n",
       "    </tr>\n",
       "    <tr>\n",
       "      <th>mean</th>\n",
       "      <td>0.080287</td>\n",
       "      <td>0.750940</td>\n",
       "      <td>1.066279</td>\n",
       "      <td>37.133915</td>\n",
       "      <td>1583.312689</td>\n",
       "      <td>273.471145</td>\n",
       "      <td>47.392026</td>\n",
       "      <td>34.010779</td>\n",
       "      <td>18.597458</td>\n",
       "      <td>14.136502</td>\n",
       "      <td>...</td>\n",
       "      <td>29.345565</td>\n",
       "      <td>22.355572</td>\n",
       "      <td>26.771343</td>\n",
       "      <td>54.007017</td>\n",
       "      <td>45.992983</td>\n",
       "      <td>27.863485</td>\n",
       "      <td>72.136515</td>\n",
       "      <td>1.449713</td>\n",
       "      <td>6.700150</td>\n",
       "      <td>91.850126</td>\n",
       "    </tr>\n",
       "    <tr>\n",
       "      <th>std</th>\n",
       "      <td>0.365148</td>\n",
       "      <td>0.795887</td>\n",
       "      <td>1.001220</td>\n",
       "      <td>289.125502</td>\n",
       "      <td>2008.636888</td>\n",
       "      <td>741.281246</td>\n",
       "      <td>24.955844</td>\n",
       "      <td>20.001426</td>\n",
       "      <td>20.498031</td>\n",
       "      <td>18.661422</td>\n",
       "      <td>...</td>\n",
       "      <td>21.739949</td>\n",
       "      <td>20.322406</td>\n",
       "      <td>21.439939</td>\n",
       "      <td>37.375465</td>\n",
       "      <td>37.375465</td>\n",
       "      <td>24.390093</td>\n",
       "      <td>24.390093</td>\n",
       "      <td>5.362351</td>\n",
       "      <td>12.187754</td>\n",
       "      <td>14.078293</td>\n",
       "    </tr>\n",
       "    <tr>\n",
       "      <th>min</th>\n",
       "      <td>0.000000</td>\n",
       "      <td>0.000000</td>\n",
       "      <td>0.000000</td>\n",
       "      <td>0.000000</td>\n",
       "      <td>0.000000</td>\n",
       "      <td>0.000000</td>\n",
       "      <td>0.000000</td>\n",
       "      <td>0.000000</td>\n",
       "      <td>0.000000</td>\n",
       "      <td>0.000000</td>\n",
       "      <td>...</td>\n",
       "      <td>0.000000</td>\n",
       "      <td>0.000000</td>\n",
       "      <td>0.000000</td>\n",
       "      <td>0.000000</td>\n",
       "      <td>0.000000</td>\n",
       "      <td>0.000000</td>\n",
       "      <td>0.000000</td>\n",
       "      <td>0.000000</td>\n",
       "      <td>0.000000</td>\n",
       "      <td>0.000000</td>\n",
       "    </tr>\n",
       "    <tr>\n",
       "      <th>25%</th>\n",
       "      <td>0.000000</td>\n",
       "      <td>0.000000</td>\n",
       "      <td>0.000000</td>\n",
       "      <td>0.000000</td>\n",
       "      <td>0.000000</td>\n",
       "      <td>0.000000</td>\n",
       "      <td>29.410000</td>\n",
       "      <td>19.980000</td>\n",
       "      <td>0.000000</td>\n",
       "      <td>0.000000</td>\n",
       "      <td>...</td>\n",
       "      <td>15.230000</td>\n",
       "      <td>3.880000</td>\n",
       "      <td>9.420000</td>\n",
       "      <td>14.900000</td>\n",
       "      <td>8.175000</td>\n",
       "      <td>7.275000</td>\n",
       "      <td>56.530000</td>\n",
       "      <td>0.000000</td>\n",
       "      <td>0.000000</td>\n",
       "      <td>90.120000</td>\n",
       "    </tr>\n",
       "    <tr>\n",
       "      <th>50%</th>\n",
       "      <td>0.000000</td>\n",
       "      <td>1.000000</td>\n",
       "      <td>1.000000</td>\n",
       "      <td>0.000000</td>\n",
       "      <td>649.610000</td>\n",
       "      <td>117.630000</td>\n",
       "      <td>48.180000</td>\n",
       "      <td>32.140000</td>\n",
       "      <td>14.350000</td>\n",
       "      <td>6.440000</td>\n",
       "      <td>...</td>\n",
       "      <td>27.480000</td>\n",
       "      <td>19.550000</td>\n",
       "      <td>22.220000</td>\n",
       "      <td>58.410000</td>\n",
       "      <td>41.590000</td>\n",
       "      <td>20.570000</td>\n",
       "      <td>79.430000</td>\n",
       "      <td>0.000000</td>\n",
       "      <td>0.000000</td>\n",
       "      <td>99.990000</td>\n",
       "    </tr>\n",
       "    <tr>\n",
       "      <th>75%</th>\n",
       "      <td>0.000000</td>\n",
       "      <td>1.000000</td>\n",
       "      <td>2.000000</td>\n",
       "      <td>0.000000</td>\n",
       "      <td>2948.910000</td>\n",
       "      <td>303.705000</td>\n",
       "      <td>65.450000</td>\n",
       "      <td>44.705000</td>\n",
       "      <td>30.530000</td>\n",
       "      <td>20.700000</td>\n",
       "      <td>...</td>\n",
       "      <td>41.150000</td>\n",
       "      <td>33.700000</td>\n",
       "      <td>41.020000</td>\n",
       "      <td>91.825000</td>\n",
       "      <td>85.100000</td>\n",
       "      <td>43.470000</td>\n",
       "      <td>92.725000</td>\n",
       "      <td>0.000000</td>\n",
       "      <td>8.325000</td>\n",
       "      <td>100.000000</td>\n",
       "    </tr>\n",
       "    <tr>\n",
       "      <th>max</th>\n",
       "      <td>4.000000</td>\n",
       "      <td>10.000000</td>\n",
       "      <td>7.000000</td>\n",
       "      <td>4934.590000</td>\n",
       "      <td>16735.670000</td>\n",
       "      <td>17188.620000</td>\n",
       "      <td>100.000000</td>\n",
       "      <td>100.000000</td>\n",
       "      <td>100.000000</td>\n",
       "      <td>100.000000</td>\n",
       "      <td>...</td>\n",
       "      <td>100.000000</td>\n",
       "      <td>100.000000</td>\n",
       "      <td>100.000000</td>\n",
       "      <td>100.000000</td>\n",
       "      <td>100.000000</td>\n",
       "      <td>100.000000</td>\n",
       "      <td>100.000000</td>\n",
       "      <td>100.000000</td>\n",
       "      <td>100.000000</td>\n",
       "      <td>100.010000</td>\n",
       "    </tr>\n",
       "  </tbody>\n",
       "</table>\n",
       "<p>8 rows × 23 columns</p>\n",
       "</div>"
      ],
      "text/plain": [
       "       Productos_Vida  Productos_Vehiculos  Productos_Otros   Gasto_Vida  \\\n",
       "count     2927.000000          2927.000000      2927.000000  2927.000000   \n",
       "mean         0.080287             0.750940         1.066279    37.133915   \n",
       "std          0.365148             0.795887         1.001220   289.125502   \n",
       "min          0.000000             0.000000         0.000000     0.000000   \n",
       "25%          0.000000             0.000000         0.000000     0.000000   \n",
       "50%          0.000000             1.000000         1.000000     0.000000   \n",
       "75%          0.000000             1.000000         2.000000     0.000000   \n",
       "max          4.000000            10.000000         7.000000  4934.590000   \n",
       "\n",
       "       Gasto_Vehiculos   Gasto_Otros  Tipo_Familia  Tipo_Pareja  Tipo_Soltero  \\\n",
       "count      2927.000000   2927.000000   2927.000000  2927.000000   2927.000000   \n",
       "mean       1583.312689    273.471145     47.392026    34.010779     18.597458   \n",
       "std        2008.636888    741.281246     24.955844    20.001426     20.498031   \n",
       "min           0.000000      0.000000      0.000000     0.000000      0.000000   \n",
       "25%           0.000000      0.000000     29.410000    19.980000      0.000000   \n",
       "50%         649.610000    117.630000     48.180000    32.140000     14.350000   \n",
       "75%        2948.910000    303.705000     65.450000    44.705000     30.530000   \n",
       "max       16735.670000  17188.620000    100.000000   100.000000    100.000000   \n",
       "\n",
       "       Educacion_Superior  ...  Poblacion_Funcionario  \\\n",
       "count         2927.000000  ...            2927.000000   \n",
       "mean            14.136502  ...              29.345565   \n",
       "std             18.661422  ...              21.739949   \n",
       "min              0.000000  ...               0.000000   \n",
       "25%              0.000000  ...              15.230000   \n",
       "50%              6.440000  ...              27.480000   \n",
       "75%             20.700000  ...              41.150000   \n",
       "max            100.000000  ...             100.000000   \n",
       "\n",
       "       Poblacion_Trabajador_Cualificado  Poblacion_Trabajador_No_Cualificado  \\\n",
       "count                       2927.000000                          2927.000000   \n",
       "mean                          22.355572                            26.771343   \n",
       "std                           20.322406                            21.439939   \n",
       "min                            0.000000                             0.000000   \n",
       "25%                            3.880000                             9.420000   \n",
       "50%                           19.550000                            22.220000   \n",
       "75%                           33.700000                            41.020000   \n",
       "max                          100.000000                           100.000000   \n",
       "\n",
       "       Vivienda_Propiedad  Vivienda_Alquiler  Medico_Seguro_Privado  \\\n",
       "count         2927.000000        2927.000000            2927.000000   \n",
       "mean            54.007017          45.992983              27.863485   \n",
       "std             37.375465          37.375465              24.390093   \n",
       "min              0.000000           0.000000               0.000000   \n",
       "25%             14.900000           8.175000               7.275000   \n",
       "50%             58.410000          41.590000              20.570000   \n",
       "75%             91.825000          85.100000              43.470000   \n",
       "max            100.000000         100.000000             100.000000   \n",
       "\n",
       "       Medico_Seguridad_Social  Ingresos_Mas_De_40000  \\\n",
       "count              2927.000000            2927.000000   \n",
       "mean                 72.136515               1.449713   \n",
       "std                  24.390093               5.362351   \n",
       "min                   0.000000               0.000000   \n",
       "25%                  56.530000               0.000000   \n",
       "50%                  79.430000               0.000000   \n",
       "75%                  92.725000               0.000000   \n",
       "max                 100.000000             100.000000   \n",
       "\n",
       "       Ingresos_De_20000_Hasta_40000  Ingresos_Hasta_20000  \n",
       "count                    2927.000000           2927.000000  \n",
       "mean                        6.700150             91.850126  \n",
       "std                        12.187754             14.078293  \n",
       "min                         0.000000              0.000000  \n",
       "25%                         0.000000             90.120000  \n",
       "50%                         0.000000             99.990000  \n",
       "75%                         8.325000            100.000000  \n",
       "max                       100.000000            100.010000  \n",
       "\n",
       "[8 rows x 23 columns]"
      ]
     },
     "execution_count": 12,
     "metadata": {},
     "output_type": "execute_result"
    }
   ],
   "source": [
    "variables.describe()"
   ]
  },
  {
   "cell_type": "code",
   "execution_count": 13,
   "metadata": {
    "deletable": false,
    "editable": false,
    "nbgrader": {
     "checksum": "04254ea0e7214e5bb58a94f41c0691e2",
     "grade": false,
     "grade_id": "cell-e2a28cf0766d791a",
     "locked": true,
     "schema_version": 1,
     "solution": false
    }
   },
   "outputs": [
    {
     "data": {
      "text/plain": [
       "count      2927\n",
       "unique        2\n",
       "top       False\n",
       "freq       2762\n",
       "Name: Seguro_Vivienda, dtype: object"
      ]
     },
     "execution_count": 13,
     "metadata": {},
     "output_type": "execute_result"
    }
   ],
   "source": [
    "targets.describe()"
   ]
  },
  {
   "cell_type": "markdown",
   "metadata": {
    "deletable": false,
    "editable": false,
    "nbgrader": {
     "checksum": "136c922ae20c5e0e2a7bd4decbbb2d93",
     "grade": false,
     "grade_id": "cell-0c2e40210fb4999c",
     "locked": true,
     "schema_version": 1,
     "solution": false
    }
   },
   "source": [
    "Podemos obtener detalles adicionales de cada variable individualmente:"
   ]
  },
  {
   "cell_type": "code",
   "execution_count": 14,
   "metadata": {
    "deletable": false,
    "editable": false,
    "nbgrader": {
     "checksum": "bca8ff5972a7d5a0c3a852620fb278f6",
     "grade": false,
     "grade_id": "cell-260778b99845f0af",
     "locked": true,
     "schema_version": 1,
     "solution": false
    }
   },
   "outputs": [
    {
     "data": {
      "text/plain": [
       "649.61"
      ]
     },
     "execution_count": 14,
     "metadata": {},
     "output_type": "execute_result"
    }
   ],
   "source": [
    "variables[\"Gasto_Vehiculos\"].median()"
   ]
  },
  {
   "cell_type": "code",
   "execution_count": 15,
   "metadata": {
    "deletable": false,
    "editable": false,
    "nbgrader": {
     "checksum": "0fb1c74da931ef327abf98534cee07ca",
     "grade": false,
     "grade_id": "cell-564826376e9a65ea",
     "locked": true,
     "schema_version": 1,
     "solution": false
    }
   },
   "outputs": [
    {
     "data": {
      "image/png": "[encoded data removed]",
      "text/plain": [
       "<Figure size 640x480 with 1 Axes>"
      ]
     },
     "metadata": {},
     "output_type": "display_data"
    }
   ],
   "source": [
    "fig = plt.figure()\n",
    "ax = fig.add_subplot(111)\n",
    "ax.hist(datos[\"Gasto_Vehiculos\"], bins = 10, range = (datos[\"Gasto_Vehiculos\"].min(), datos[\"Gasto_Vehiculos\"].max()))\n",
    "plt.title(\"Gasto Vehiculos\")\n",
    "plt.xlabel(\"Gasto Vehiculos\")\n",
    "plt.ylabel(\"Euros\")\n",
    "plt.show()"
   ]
  },
  {
   "cell_type": "code",
   "execution_count": 16,
   "metadata": {
    "deletable": false,
    "editable": false,
    "nbgrader": {
     "checksum": "4d55cd066587273c0500513d54af6130",
     "grade": false,
     "grade_id": "cell-e2b34c113f71b4b8",
     "locked": true,
     "schema_version": 1,
     "solution": false
    }
   },
   "outputs": [
    {
     "data": {
      "image/png": "[encoded data removed]",
      "text/plain": [
       "<Figure size 640x480 with 1 Axes>"
      ]
     },
     "metadata": {},
     "output_type": "display_data"
    }
   ],
   "source": [
    "variables.boxplot(column=\"Gasto_Vehiculos\")\n",
    "plt.show()"
   ]
  },
  {
   "cell_type": "markdown",
   "metadata": {
    "deletable": false,
    "editable": false,
    "nbgrader": {
     "checksum": "1a3b6ab4117d25ac23aaa640d292bcfd",
     "grade": false,
     "grade_id": "cell-be2f154e1bd4df4e",
     "locked": true,
     "schema_version": 1,
     "solution": false
    }
   },
   "source": [
    "También podemos obtener información de variables categóricas:"
   ]
  },
  {
   "cell_type": "code",
   "execution_count": 17,
   "metadata": {
    "deletable": false,
    "editable": false,
    "nbgrader": {
     "checksum": "0b60b82f9811fe9c5c6bf214b65d0bcc",
     "grade": false,
     "grade_id": "cell-aa75c3e2ac1fc404",
     "locked": true,
     "schema_version": 1,
     "solution": false
    }
   },
   "outputs": [
    {
     "data": {
      "text/plain": [
       "array(['Mujer', 'Hombre'], dtype=object)"
      ]
     },
     "execution_count": 17,
     "metadata": {},
     "output_type": "execute_result"
    }
   ],
   "source": [
    "variables[\"Sexo\"].unique()"
   ]
  },
  {
   "cell_type": "code",
   "execution_count": 18,
   "metadata": {
    "deletable": false,
    "editable": false,
    "nbgrader": {
     "checksum": "5056772e531eeaf94b8ce7e26927d468",
     "grade": false,
     "grade_id": "cell-61a66c0f924d39da",
     "locked": true,
     "schema_version": 1,
     "solution": false
    }
   },
   "outputs": [
    {
     "data": {
      "image/png": "[encoded data removed]",
      "text/plain": [
       "<Figure size 640x480 with 1 Axes>"
      ]
     },
     "metadata": {},
     "output_type": "display_data"
    }
   ],
   "source": [
    "ax = variables[\"Sexo\"].value_counts().plot(kind=\"bar\")\n",
    "plt.title(\"Sexo\")\n",
    "plt.xlabel(\"Sexo\")\n",
    "plt.ylabel(\"Casos\")\n",
    "plt.show()"
   ]
  },
  {
   "cell_type": "code",
   "execution_count": 19,
   "metadata": {
    "deletable": false,
    "editable": false,
    "nbgrader": {
     "checksum": "067283520557fbe1ec1ca7e8de6c588a",
     "grade": false,
     "grade_id": "cell-1e4541b22a596733",
     "locked": true,
     "schema_version": 1,
     "solution": false
    }
   },
   "outputs": [
    {
     "data": {
      "text/plain": [
       "<Axes: xlabel='Sexo'>"
      ]
     },
     "execution_count": 19,
     "metadata": {},
     "output_type": "execute_result"
    },
    {
     "data": {
      "image/png": "[encoded data removed]",
      "text/plain": [
       "<Figure size 640x480 with 1 Axes>"
      ]
     },
     "metadata": {},
     "output_type": "display_data"
    }
   ],
   "source": [
    "tmp = pd.crosstab([datos.Sexo], datos.Seguro_Vivienda)\n",
    "tmp.plot(kind='bar', stacked=True, color=['red','blue'], grid=False)"
   ]
  },
  {
   "cell_type": "code",
   "execution_count": 20,
   "metadata": {
    "deletable": false,
    "editable": false,
    "nbgrader": {
     "checksum": "d62d1ffbbeffde23a65dd59e6fd25fda",
     "grade": false,
     "grade_id": "cell-491c5db5edf8ee41",
     "locked": true,
     "schema_version": 1,
     "solution": false
    }
   },
   "outputs": [
    {
     "name": "stdout",
     "output_type": "stream",
     "text": [
      "<class 'pandas.core.frame.DataFrame'>\n",
      "RangeIndex: 2927 entries, 0 to 2926\n",
      "Data columns (total 28 columns):\n",
      " #   Column                               Non-Null Count  Dtype  \n",
      "---  ------                               --------------  -----  \n",
      " 0   ID_Cliente                           2927 non-null   object \n",
      " 1   Fecha_Nacimiento                     2927 non-null   object \n",
      " 2   Fecha_Alta                           2927 non-null   object \n",
      " 3   Sexo                                 2927 non-null   object \n",
      " 4   ID_Zona                              2927 non-null   object \n",
      " 5   Productos_Vida                       2927 non-null   int64  \n",
      " 6   Productos_Vehiculos                  2927 non-null   int64  \n",
      " 7   Productos_Otros                      2927 non-null   int64  \n",
      " 8   Gasto_Vida                           2927 non-null   float64\n",
      " 9   Gasto_Vehiculos                      2927 non-null   float64\n",
      " 10  Gasto_Otros                          2927 non-null   float64\n",
      " 11  Tipo_Familia                         2927 non-null   float64\n",
      " 12  Tipo_Pareja                          2927 non-null   float64\n",
      " 13  Tipo_Soltero                         2927 non-null   float64\n",
      " 14  Educacion_Superior                   2927 non-null   float64\n",
      " 15  Educacion_Media                      2927 non-null   float64\n",
      " 16  Educacion_Baja                       2927 non-null   float64\n",
      " 17  Poblacion_Empresario                 2927 non-null   float64\n",
      " 18  Poblacion_Funcionario                2927 non-null   float64\n",
      " 19  Poblacion_Trabajador_Cualificado     2927 non-null   float64\n",
      " 20  Poblacion_Trabajador_No_Cualificado  2927 non-null   float64\n",
      " 21  Vivienda_Propiedad                   2927 non-null   float64\n",
      " 22  Vivienda_Alquiler                    2927 non-null   float64\n",
      " 23  Medico_Seguro_Privado                2927 non-null   float64\n",
      " 24  Medico_Seguridad_Social              2927 non-null   float64\n",
      " 25  Ingresos_Mas_De_40000                2927 non-null   float64\n",
      " 26  Ingresos_De_20000_Hasta_40000        2927 non-null   float64\n",
      " 27  Ingresos_Hasta_20000                 2927 non-null   float64\n",
      "dtypes: float64(20), int64(3), object(5)\n",
      "memory usage: 640.4+ KB\n"
     ]
    }
   ],
   "source": [
    "variables.info()"
   ]
  },
  {
   "cell_type": "markdown",
   "metadata": {
    "deletable": false,
    "editable": false,
    "nbgrader": {
     "checksum": "cf200f0d416f79a41d03d90f60aabf45",
     "grade": false,
     "grade_id": "cell-fe8c7ee1289a7cc0",
     "locked": true,
     "schema_version": 1,
     "solution": false
    }
   },
   "source": [
    "## Selección de variables"
   ]
  },
  {
   "cell_type": "markdown",
   "metadata": {
    "deletable": false,
    "editable": false,
    "nbgrader": {
     "checksum": "9c48d83d5e1bd8748d6d2b0fbc18bc41",
     "grade": false,
     "grade_id": "cell-e8485aa1ddbbc8e3",
     "locked": true,
     "schema_version": 1,
     "solution": false
    }
   },
   "source": [
    "Hay diversos métodos que nos permiten identificar las mejores variables para resolver nuestro problema. Scikit permite identificar las mejores variables según diversos tests estadísticos, aunque para algunos de ellos debemos utilizar sólo las variables numéricas:"
   ]
  },
  {
   "cell_type": "code",
   "execution_count": 21,
   "metadata": {
    "deletable": false,
    "editable": false,
    "nbgrader": {
     "checksum": "273546a1a9010f4d995b42b658be6d0a",
     "grade": false,
     "grade_id": "cell-472dcf08e5b52f04",
     "locked": true,
     "schema_version": 1,
     "solution": false
    }
   },
   "outputs": [
    {
     "name": "stdout",
     "output_type": "stream",
     "text": [
      "Gasto_Vida\n",
      "Gasto_Vehiculos\n",
      "Gasto_Otros\n",
      "Educacion_Superior\n",
      "Educacion_Baja\n",
      "Poblacion_Empresario\n",
      "Poblacion_Trabajador_No_Cualificado\n",
      "Vivienda_Propiedad\n",
      "Vivienda_Alquiler\n",
      "Medico_Seguro_Privado\n"
     ]
    }
   ],
   "source": [
    "from sklearn.feature_selection import SelectKBest\n",
    "from sklearn.feature_selection import chi2\n",
    "\n",
    "chi2 = SelectKBest(chi2, k=10).fit(variables._get_numeric_data(), targets)\n",
    "for (col, sel) in zip(variables._get_numeric_data().columns.values, chi2.get_support()):\n",
    "    if sel:\n",
    "        print(col)\n",
    "seleccion = chi2.transform(variables._get_numeric_data())"
   ]
  },
  {
   "cell_type": "markdown",
   "metadata": {
    "deletable": false,
    "editable": false,
    "nbgrader": {
     "checksum": "bdc96397d93f9799f168710dd3f387d1",
     "grade": false,
     "grade_id": "cell-148ab3eee6a2d674",
     "locked": true,
     "schema_version": 1,
     "solution": false
    }
   },
   "source": [
    "Veamos cómo queda representada una muestra del dataset respecto de las dos mejores variables:"
   ]
  },
  {
   "cell_type": "code",
   "execution_count": 22,
   "metadata": {
    "deletable": false,
    "editable": false,
    "nbgrader": {
     "checksum": "ab84952e817586af47696b31470a8154",
     "grade": false,
     "grade_id": "cell-a7f665e370ea2906",
     "locked": true,
     "schema_version": 1,
     "solution": false
    }
   },
   "outputs": [
    {
     "data": {
      "image/png": "[encoded data removed]",
      "text/plain": [
       "<Figure size 640x480 with 1 Axes>"
      ]
     },
     "metadata": {},
     "output_type": "display_data"
    }
   ],
   "source": [
    "import matplotlib.pyplot as plt\n",
    "from matplotlib.colors import ListedColormap\n",
    "\n",
    "cm = plt.cm.RdBu\n",
    "cm_bright = ListedColormap(['#FF0000', '#0000FF'])\n",
    "plt.scatter(seleccion[1:200, 0], seleccion[1:200, 1], c=targets[1:200], cmap=cm_bright)\n",
    "plt.show()"
   ]
  },
  {
   "cell_type": "markdown",
   "metadata": {
    "deletable": false,
    "editable": false,
    "nbgrader": {
     "checksum": "89190c7363bdfd2e069e1c6c0d79af0f",
     "grade": false,
     "grade_id": "cell-f828aa7bb39ae567",
     "locked": true,
     "schema_version": 1,
     "solution": false
    }
   },
   "source": [
    "Se puede ver cómo al representar las muestras respecto de estas dos variables, los casos de clientes que han contratado el producto se distinguen más fácilmente, ya que tienden a tener un valor alto en una de ellas (puntos azules). Por tanto, estas variables parecen ser buenas a la hora de distinguir casos positivos y negativos.\n",
    "\n",
    "Cuando el proceso de modelización es costoso, reducir el número de variables puede ser de gran ayuda. Las técnicas de selección de variables se usan ampliamente en los procesos de análisis de datos y modelización."
   ]
  },
  {
   "cell_type": "markdown",
   "metadata": {
    "deletable": false,
    "editable": false,
    "nbgrader": {
     "checksum": "d5f9ee2f44fc96ca0235b746094f5469",
     "grade": false,
     "grade_id": "cell-814f662dab59e9de",
     "locked": true,
     "schema_version": 1,
     "solution": false
    }
   },
   "source": [
    "## Transformación de variables"
   ]
  },
  {
   "cell_type": "markdown",
   "metadata": {
    "deletable": false,
    "editable": false,
    "nbgrader": {
     "checksum": "b6ff4f4d71e2ee5defa8e196797929e7",
     "grade": false,
     "grade_id": "cell-b83b1134327c3db6",
     "locked": true,
     "schema_version": 1,
     "solution": false
    }
   },
   "source": [
    "Es posible también realizar una transformación de variables, obteniendo combinaciones, normalmente lineales, de las variables originales que nos den mejores resultados al introducirlas en los modelos predictivos. SVD, PCA o ICA son algunos ejemplos:"
   ]
  },
  {
   "cell_type": "code",
   "execution_count": 23,
   "metadata": {
    "deletable": false,
    "editable": false,
    "nbgrader": {
     "checksum": "2db51d3b5d66ab7ca5a7fc5bf18a5f49",
     "grade": false,
     "grade_id": "cell-713ea20a9df86165",
     "locked": true,
     "schema_version": 1,
     "solution": false
    }
   },
   "outputs": [
    {
     "name": "stdout",
     "output_type": "stream",
     "text": [
      "[[ 1.13272484e-05  2.49947982e-04  7.73521138e-05  3.07643903e-03\n",
      "   9.98926227e-01  4.61104027e-02  4.83515690e-04  9.64832896e-05\n",
      "  -5.79992186e-04  4.74753804e-04 -3.82916687e-05 -4.36431988e-04\n",
      "   7.76395166e-04 -1.67202699e-04 -4.09448513e-04 -1.99807434e-04\n",
      "   1.92596102e-03 -1.92596102e-03  8.38968477e-04 -8.38968477e-04\n",
      "   1.45851838e-06  1.21989814e-04 -1.23418552e-04]\n",
      " [ 2.29104271e-05  9.00357437e-05  4.87987707e-04  1.41580431e-02\n",
      "  -4.61751332e-02  9.98791715e-01  5.98078053e-05  7.42107667e-04\n",
      "  -8.02017454e-04 -3.99451289e-04  1.67935439e-04  2.31606373e-04\n",
      "   1.51812400e-03 -1.35632862e-03 -8.08457612e-04  6.46470913e-04\n",
      "   5.99488232e-03 -5.99488232e-03  1.36589999e-03 -1.36589999e-03\n",
      "  -3.22428480e-05 -3.69649764e-05  6.92457105e-05]\n",
      " [ 5.40217286e-04 -2.46878994e-05  1.66385989e-04  9.99876166e-01\n",
      "  -2.43492037e-03 -1.43238167e-02  2.16244726e-03 -2.04578733e-05\n",
      "  -2.14247137e-03  4.83553780e-04  1.64118780e-03 -2.12421051e-03\n",
      "   9.03270170e-04  5.64289594e-04 -6.95432253e-04 -7.71874125e-04\n",
      "   2.71853936e-03 -2.71853936e-03  1.09316649e-03 -1.09316649e-03\n",
      "  -2.92763450e-04  6.78606701e-05  2.24909406e-04]\n",
      " [-4.21153229e-05 -1.66706942e-04  3.44716888e-04 -5.38522141e-03\n",
      "  -2.80300277e-03 -7.79738186e-03  8.79914308e-02  3.76127781e-02\n",
      "  -1.25604889e-01  1.63012431e-01  1.03806838e-01 -2.66821378e-01\n",
      "   2.31111002e-01  1.89064169e-02 -1.17689046e-01 -1.32323724e-01\n",
      "   5.52873786e-01 -5.52873786e-01  2.77117553e-01 -2.77117553e-01\n",
      "   2.28121541e-02  7.68800359e-02 -9.96882651e-02]\n",
      " [ 1.90443137e-04 -6.52003585e-04  4.49878477e-04  2.84729363e-04\n",
      "   4.21667199e-04  3.60884194e-03 -2.65406555e-01  1.18503651e-01\n",
      "   1.46900439e-01  1.90430375e-01  2.69360349e-01 -4.59786886e-01\n",
      "   2.25552682e-01  1.51189484e-01 -2.47454645e-01 -1.29286909e-01\n",
      "  -3.66702620e-01  3.66702620e-01  2.71852824e-01 -2.71852824e-01\n",
      "   1.26398913e-02  4.38294757e-02 -5.64654460e-02]\n",
      " [ 4.54899802e-04 -3.13229007e-04  2.79803439e-04 -1.93337304e-03\n",
      "   2.78610352e-04  1.43364634e-03  2.22532406e-01 -1.04313286e-01\n",
      "  -1.18214634e-01 -1.35681609e-01  4.37900003e-01 -3.02217590e-01\n",
      "  -2.86794331e-01  5.54672836e-01 -3.23442836e-02 -2.35531085e-01\n",
      "   5.10731064e-02 -5.10731064e-02 -2.87584805e-01  2.87584805e-01\n",
      "  -1.38515711e-02 -5.12451222e-02  6.50910731e-02]\n",
      " [ 5.23982370e-05 -3.76708352e-05 -3.84776650e-04 -1.41099604e-03\n",
      "  -2.04444050e-04  2.04953914e-03  7.17517472e-01 -4.19247403e-01\n",
      "  -2.98274686e-01  1.02377869e-01 -7.63906838e-02 -2.59834501e-02\n",
      "   9.95173622e-02 -8.64220728e-02  6.35257743e-02 -7.66147538e-02\n",
      "  -2.18404391e-01  2.18404391e-01  1.87371181e-01 -1.87371181e-01\n",
      "   1.32705234e-02  6.50402946e-02 -7.83145447e-02]\n",
      " [-3.72661379e-05 -1.14968299e-03  4.19476543e-04  1.47943539e-04\n",
      "   4.20993330e-05  1.13046641e-03 -8.49783415e-02  3.10018703e-01\n",
      "  -2.25033882e-01  1.41267555e-01 -1.67147620e-01  2.58689488e-02\n",
      "   2.23143320e-01 -1.82390612e-02  4.87293424e-01 -6.92215835e-01\n",
      "  -5.71704459e-02  5.71704459e-02 -1.05999909e-01  1.05999909e-01\n",
      "   5.32672192e-03  2.61911272e-02 -3.15199362e-02]\n",
      " [-4.10592962e-04 -1.74854885e-03  2.15384057e-03  1.13125175e-03\n",
      "   8.78754556e-05  5.71550983e-04 -6.28284251e-02 -5.88639594e-01\n",
      "   6.51472642e-01  2.25401772e-01 -1.63071027e-01 -6.23341685e-02\n",
      "   1.59048387e-01  2.94004418e-02  6.84206607e-02 -2.56881322e-01\n",
      "   7.48130887e-02 -7.48130887e-02 -1.33664340e-01  1.33664340e-01\n",
      "   3.74624064e-03  3.99396240e-03 -7.73288160e-03]\n",
      " [-4.41563753e-05 -1.95020442e-04 -4.01863894e-04  6.24994353e-04\n",
      "  -1.97262928e-05  1.99857334e-04 -7.49324224e-02 -4.63682215e-02\n",
      "   1.21318779e-01 -2.06109809e-01 -1.99383139e-01  4.05501522e-01\n",
      "  -2.93319807e-01  5.19117264e-01  2.15373006e-02 -2.47328124e-01\n",
      "   2.52356615e-03 -2.52356615e-03  3.93952352e-01 -3.93952352e-01\n",
      "  -4.49430174e-03 -3.81000906e-02  4.25923100e-02]]\n",
      "[8.64261511e-01 1.15928367e-01 1.78463489e-02 7.59291675e-04\n",
      " 3.66743306e-04 1.86052863e-04 1.74530908e-04 1.11696163e-04\n",
      " 9.86811505e-05 8.42543077e-05]\n"
     ]
    }
   ],
   "source": [
    "from sklearn.decomposition import PCA\n",
    "\n",
    "pca = PCA(n_components=10)\n",
    "pca.fit(variables._get_numeric_data())\n",
    "print(pca.components_)\n",
    "print(pca.explained_variance_ratio_)\n",
    "transformacion = pca.transform(variables._get_numeric_data())"
   ]
  },
  {
   "cell_type": "markdown",
   "metadata": {
    "deletable": false,
    "editable": false,
    "nbgrader": {
     "checksum": "33bb19a098625607c684167d0e7fce35",
     "grade": false,
     "grade_id": "cell-ce750501d5c3a459",
     "locked": true,
     "schema_version": 1,
     "solution": false
    }
   },
   "source": [
    "Veamos cómo queda representada una muestra del dataset respecto de las dos mejores variables sintéticas:"
   ]
  },
  {
   "cell_type": "code",
   "execution_count": 24,
   "metadata": {
    "deletable": false,
    "editable": false,
    "nbgrader": {
     "checksum": "40076e765768dd917fa47c73ee89346b",
     "grade": false,
     "grade_id": "cell-308e5c9af16146f8",
     "locked": true,
     "schema_version": 1,
     "solution": false
    }
   },
   "outputs": [
    {
     "data": {
      "image/png": "[encoded data removed]",
      "text/plain": [
       "<Figure size 640x480 with 1 Axes>"
      ]
     },
     "metadata": {},
     "output_type": "display_data"
    }
   ],
   "source": [
    "cm = plt.cm.RdBu\n",
    "cm_bright = ListedColormap(['#FF0000', '#0000FF'])\n",
    "plt.scatter(transformacion[1:200, 0], transformacion[1:200, 1], c=targets[1:200], cmap=cm_bright)\n",
    "plt.show()"
   ]
  },
  {
   "cell_type": "markdown",
   "metadata": {
    "deletable": false,
    "editable": false,
    "nbgrader": {
     "checksum": "8a7995a53d0e32e834a7ec32a28949ce",
     "grade": false,
     "grade_id": "cell-b71f14f505362d49",
     "locked": true,
     "schema_version": 1,
     "solution": false
    }
   },
   "source": [
    "Como en el caso anterior, se puede ver que los casos positivos se pueden separar más fácilmente de los negativos al quedar la mayoría de ellos a la derecha de la gráfica.\n",
    "\n",
    "Es habitual que las variables sintéticas generadas con métodos como PCA sean incluso mejores que las mejores variables seleccionadas con otras técnicas. Como contrapartida, el cálculo de estas variables es costoso y suele ser difícil darles un sentido de negocio."
   ]
  },
  {
   "cell_type": "markdown",
   "metadata": {
    "deletable": false,
    "editable": false,
    "nbgrader": {
     "checksum": "4ae2ec94c245a71e5a27519f3e255a5b",
     "grade": false,
     "grade_id": "cell-0af4b779c21d3c08",
     "locked": true,
     "schema_version": 1,
     "solution": false
    }
   },
   "source": [
    "¿Podrías probar varias técnicas de selección y transformación de variables? Ten en cuenta que no sólo es importante lo buenas que sean las variables finales para la predicción, sino también que el coste de calcularlas sea razonable y que seas capaz de explicar y justificar estas variables en caso de que el cliente lo solicite.\n",
    "\n",
    "* http://scikit-learn.org/stable/modules/feature_selection.html\n",
    "* http://scikit-learn.org/stable/modules/decomposition.html"
   ]
  },
  {
   "cell_type": "code",
   "execution_count": 26,
   "metadata": {
    "deletable": false,
    "nbgrader": {
     "checksum": "57b5c3ba1b2ab2d6587fdfb5179e5871",
     "grade": true,
     "grade_id": "cell-91b32683a97b0a80",
     "locked": false,
     "points": 3,
     "schema_version": 1,
     "solution": true
    }
   },
   "outputs": [
    {
     "data": {
      "image/png": "[encoded data removed]",
      "text/plain": [
       "<Figure size 640x480 with 1 Axes>"
      ]
     },
     "metadata": {},
     "output_type": "display_data"
    },
    {
     "name": "stdout",
     "output_type": "stream",
     "text": [
      "Componentes de PCA: [[ 1.13272484e-05  2.49947982e-04  7.73521138e-05  3.07643903e-03\n",
      "   9.98926227e-01  4.61104027e-02  4.83515690e-04  9.64832896e-05\n",
      "  -5.79992186e-04  4.74753804e-04 -3.82916687e-05 -4.36431988e-04\n",
      "   7.76395166e-04 -1.67202699e-04 -4.09448513e-04 -1.99807434e-04\n",
      "   1.92596102e-03 -1.92596102e-03  8.38968477e-04 -8.38968477e-04\n",
      "   1.45851838e-06  1.21989814e-04 -1.23418552e-04]\n",
      " [ 2.29104271e-05  9.00357437e-05  4.87987707e-04  1.41580431e-02\n",
      "  -4.61751332e-02  9.98791715e-01  5.98078053e-05  7.42107667e-04\n",
      "  -8.02017454e-04 -3.99451289e-04  1.67935439e-04  2.31606373e-04\n",
      "   1.51812400e-03 -1.35632862e-03 -8.08457612e-04  6.46470913e-04\n",
      "   5.99488232e-03 -5.99488232e-03  1.36589999e-03 -1.36589999e-03\n",
      "  -3.22428480e-05 -3.69649764e-05  6.92457105e-05]]\n",
      "Varianza explicada por cada componente: [0.86426151 0.11592837]\n"
     ]
    }
   ],
   "source": [
    "from sklearn.feature_selection import SelectKBest, chi2\n",
    "\n",
    "chi2_selector = SelectKBest(chi2, k=10) \n",
    "chi2_selector.fit(variables._get_numeric_data(), targets)\n",
    "\n",
    "selected_features = chi2_selector.get_support(indices=True)\n",
    "selected_variable_names = variables._get_numeric_data().columns[selected_features]\n",
    "\n",
    "from sklearn.decomposition import PCA\n",
    "import matplotlib.pyplot as plt\n",
    "from matplotlib.colors import ListedColormap\n",
    "\n",
    "\n",
    "pca = PCA(n_components=2)\n",
    "pca.fit(variables._get_numeric_data())\n",
    "\n",
    "transformed_data = pca.transform(variables._get_numeric_data())\n",
    "\n",
    "cm_bright = ListedColormap(['#FF0000', '#0000FF'])\n",
    "plt.scatter(transformed_data[:, 0], transformed_data[:, 1], c=targets, cmap=cm_bright)\n",
    "plt.title(\"Visualización con PCA\")\n",
    "plt.xlabel(\"Componente Principal 1\")\n",
    "plt.ylabel(\"Componente Principal 2\")\n",
    "plt.show()\n",
    "\n",
    "print(\"Componentes de PCA:\", pca.components_)\n",
    "print(\"Varianza explicada por cada componente:\", pca.explained_variance_ratio_)"
   ]
  },
  {
   "cell_type": "markdown",
   "metadata": {
    "deletable": false,
    "editable": false,
    "nbgrader": {
     "checksum": "10597da066304af497f5740b1fdff162",
     "grade": false,
     "grade_id": "cell-68e7dac2d2208f26",
     "locked": true,
     "schema_version": 1,
     "solution": false
    }
   },
   "source": [
    "## Entrenamiento del modelo"
   ]
  },
  {
   "cell_type": "markdown",
   "metadata": {
    "deletable": false,
    "editable": false,
    "nbgrader": {
     "checksum": "19926abb1c3b3d8b79b93ba5f4b51bc1",
     "grade": false,
     "grade_id": "cell-74db65134c61b716",
     "locked": true,
     "schema_version": 1,
     "solution": false
    }
   },
   "source": [
    "No es evidente cuál es el mejor tipo de modelo para resolver nuestro problema. Por lo tanto, empezaremos con los modelos más sencillos y estables, los modelos lineales. Si los resultados no son suficientemente buenos, probaremos modelos más complejos."
   ]
  },
  {
   "cell_type": "markdown",
   "metadata": {
    "deletable": false,
    "editable": false,
    "nbgrader": {
     "checksum": "72150111f1883ca439b051c9cdc20ed7",
     "grade": false,
     "grade_id": "cell-3455f3301f3a30fd",
     "locked": true,
     "schema_version": 1,
     "solution": false
    }
   },
   "source": [
    "Utilizaremos las variables originales, seleccionadas o transformadas y estudiaremos medidas de calidad como la precisión y el \"recall\" para evaluar cada uno de los modelos. Para ello, dividiremos el conjunto de datos de entrenamiento de modo que los primeros 2000 patrones servirán para entrenar los modelos, y el resto para validar:"
   ]
  },
  {
   "cell_type": "code",
   "execution_count": 27,
   "metadata": {
    "deletable": false,
    "editable": false,
    "nbgrader": {
     "checksum": "16fc1c41789e2873165dd20e67de3fee",
     "grade": false,
     "grade_id": "cell-7a8f6cda1dd92fae",
     "locked": true,
     "schema_version": 1,
     "solution": false
    }
   },
   "outputs": [],
   "source": [
    "import numpy as np\n",
    "\n",
    "from sklearn.metrics import classification_report\n",
    "\n",
    "X_train = variables._get_numeric_data()[1:2000]\n",
    "X_val = variables._get_numeric_data()[2001:]\n",
    "y_train = targets[1:2000]\n",
    "y_val = targets[2001:]"
   ]
  },
  {
   "cell_type": "markdown",
   "metadata": {
    "deletable": false,
    "editable": false,
    "nbgrader": {
     "checksum": "5a7519248e540daf4cd8546587b09b1a",
     "grade": false,
     "grade_id": "cell-d63d25014c5247b3",
     "locked": true,
     "schema_version": 1,
     "solution": false
    }
   },
   "source": [
    "El primer modelo a probar serán la regresión logística:"
   ]
  },
  {
   "cell_type": "code",
   "execution_count": null,
   "metadata": {
    "deletable": false,
    "editable": false,
    "nbgrader": {
     "checksum": "16967776d987eb2da87071ad48a60337",
     "grade": false,
     "grade_id": "cell-cb11a6f054f4b763",
     "locked": true,
     "schema_version": 1,
     "solution": false
    }
   },
   "outputs": [],
   "source": [
    "from sklearn.linear_model import LogisticRegression\n",
    "from sklearn.pipeline import Pipeline\n",
    "from sklearn.preprocessing import StandardScaler\n",
    "\n",
    "logr = Pipeline([('std', StandardScaler()), ('lr', LogisticRegression())])\n",
    "logr.fit(X_train, y_train)\n",
    "print(classification_report(y_val, logr.predict(X_val)))"
   ]
  },
  {
   "cell_type": "markdown",
   "metadata": {
    "deletable": false,
    "editable": false,
    "nbgrader": {
     "checksum": "dcbcb7ea4566ac1097ed99ee66c246bb",
     "grade": false,
     "grade_id": "cell-c48ab6ab4da1132b",
     "locked": true,
     "schema_version": 1,
     "solution": false
    }
   },
   "source": [
    "Vemos que los modelos lineales tienden a clasificar los patrones de la clase minoritaria como pertenecientes a la clase mayoritaria, por lo que vamos a probar con modelos también sencillos pero no lineales, como árboles de decisión, con la esperanza de obtener mejores resultados:"
   ]
  },
  {
   "cell_type": "code",
   "execution_count": null,
   "metadata": {
    "deletable": false,
    "editable": false,
    "nbgrader": {
     "checksum": "af5b1a3208a39754fb82f95a2f34f14e",
     "grade": false,
     "grade_id": "cell-a43b15150531ce04",
     "locked": true,
     "schema_version": 1,
     "solution": false
    }
   },
   "outputs": [],
   "source": [
    "from sklearn.tree import DecisionTreeClassifier\n",
    "\n",
    "t = DecisionTreeClassifier()\n",
    "t.fit(X_train, y_train)\n",
    "print(classification_report(y_val, t.predict(X_val)))"
   ]
  },
  {
   "cell_type": "markdown",
   "metadata": {
    "deletable": false,
    "editable": false,
    "nbgrader": {
     "checksum": "5b87188b1481a620dd02511ab22f4a4b",
     "grade": false,
     "grade_id": "cell-8581a785a4f4700f",
     "locked": true,
     "schema_version": 1,
     "solution": false
    }
   },
   "source": [
    "Elegir qué modelo utilizar y ajustarlo no es una tarea fácil. Habitualmente se prueban modelos sencillos y se va subiendo en complejidad si los resultados no son todo lo buenos que nos gustaría. La búsqueda de meta-parámetros es un proceso complejo que habitualmente necesita de cierta experiencia y conocimiento de los modelos.\n",
    "\n",
    "Intenta mejorar los resultados vistos hasta ahora eligiendo alguno de los modelos e intentando ajustar sus meta-parámetros. Puedes probar a combinar técnicas de selección o transformación de variables con los modelos predictivos, con la ayuda de los pipelines de Scikit-learn.\n",
    "\n",
    "* http://scikit-learn.org/stable/modules/linear_model.html\n",
    "* http://scikit-learn.org/stable/modules/neural_network.html\n",
    "* http://scikit-learn.org/stable/modules/tree.html\n",
    "* http://scikit-learn.org/stable/modules/svm.html\n",
    "* http://en.wikipedia.org/wiki/Precision_and_recall"
   ]
  },
  {
   "cell_type": "code",
   "execution_count": 28,
   "metadata": {
    "deletable": false,
    "nbgrader": {
     "checksum": "89ea2f8920a8fc7c8281aa78184478b7",
     "grade": true,
     "grade_id": "cell-af42990ea25cade7",
     "locked": false,
     "points": 4,
     "schema_version": 1,
     "solution": true
    }
   },
   "outputs": [
    {
     "name": "stdout",
     "output_type": "stream",
     "text": [
      "Mejores parámetros:  {'dt__max_depth': 10, 'dt__min_samples_leaf': 1, 'dt__min_samples_split': 20}\n",
      "              precision    recall  f1-score   support\n",
      "\n",
      "       False       0.98      0.98      0.98       870\n",
      "        True       0.68      0.68      0.68        56\n",
      "\n",
      "    accuracy                           0.96       926\n",
      "   macro avg       0.83      0.83      0.83       926\n",
      "weighted avg       0.96      0.96      0.96       926\n",
      "\n"
     ]
    }
   ],
   "source": [
    "from sklearn.tree import DecisionTreeClassifier\n",
    "from sklearn.model_selection import GridSearchCV\n",
    "from sklearn.pipeline import Pipeline\n",
    "from sklearn.preprocessing import StandardScaler\n",
    "\n",
    "pipeline = Pipeline([\n",
    "    ('std', StandardScaler()),\n",
    "    ('dt', DecisionTreeClassifier(random_state=42))\n",
    "])\n",
    "\n",
    "param_grid = {\n",
    "    'dt__max_depth': [None, 10, 20, 30],\n",
    "    'dt__min_samples_split': [2, 10, 20],\n",
    "    'dt__min_samples_leaf': [1, 5, 10]\n",
    "}\n",
    "\n",
    "grid_search = GridSearchCV(pipeline, param_grid, cv=5, scoring='f1_weighted')\n",
    "\n",
    "grid_search.fit(X_train, y_train)\n",
    "\n",
    "print(\"Mejores parámetros: \", grid_search.best_params_)\n",
    "\n",
    "print(classification_report(y_val, grid_search.predict(X_val)))"
   ]
  },
  {
   "cell_type": "markdown",
   "metadata": {
    "deletable": false,
    "editable": false,
    "nbgrader": {
     "checksum": "0328a1963e2b733c5988941e0f3d8cdd",
     "grade": false,
     "grade_id": "cell-4d806d8511ceb9ea",
     "locked": true,
     "schema_version": 1,
     "solution": false
    }
   },
   "source": [
    "## Evaluación del modelo"
   ]
  },
  {
   "cell_type": "markdown",
   "metadata": {
    "deletable": false,
    "editable": false,
    "nbgrader": {
     "checksum": "6ca4fce12d6f9451f49e1152c5c3eae4",
     "grade": false,
     "grade_id": "cell-b20fe9034a99937c",
     "locked": true,
     "schema_version": 1,
     "solution": false
    }
   },
   "source": [
    "Ya vimos en el apartado anterior algunos indicadores de la calidad del modelo. También podemos utilizar gráficas como la curva precisión-recall o la curva ROC:"
   ]
  },
  {
   "cell_type": "code",
   "execution_count": 29,
   "metadata": {
    "deletable": false,
    "editable": false,
    "nbgrader": {
     "checksum": "53b88f79d7be69f645dbbfce16f35381",
     "grade": false,
     "grade_id": "cell-b7cf668babbe143f",
     "locked": true,
     "schema_version": 1,
     "solution": false
    }
   },
   "outputs": [
    {
     "ename": "NameError",
     "evalue": "name 'logr' is not defined",
     "output_type": "error",
     "traceback": [
      "\u001b[1;31m---------------------------------------------------------------------------\u001b[0m",
      "\u001b[1;31mNameError\u001b[0m                                 Traceback (most recent call last)",
      "Cell \u001b[1;32mIn[29], line 3\u001b[0m\n\u001b[0;32m      1\u001b[0m \u001b[38;5;28;01mfrom\u001b[39;00m \u001b[38;5;21;01msklearn\u001b[39;00m\u001b[38;5;21;01m.\u001b[39;00m\u001b[38;5;21;01mmetrics\u001b[39;00m \u001b[38;5;28;01mimport\u001b[39;00m precision_recall_curve, roc_curve, auc\n\u001b[1;32m----> 3\u001b[0m precision, recall, thresholds \u001b[38;5;241m=\u001b[39m precision_recall_curve(y_val, logr\u001b[38;5;241m.\u001b[39mpredict(X_val))\n\u001b[0;32m      4\u001b[0m pr_auc \u001b[38;5;241m=\u001b[39m auc(precision, recall)\n\u001b[0;32m      5\u001b[0m plt\u001b[38;5;241m.\u001b[39mfigure()\n",
      "\u001b[1;31mNameError\u001b[0m: name 'logr' is not defined"
     ]
    }
   ],
   "source": [
    "from sklearn.metrics import precision_recall_curve, roc_curve, auc\n",
    "\n",
    "precision, recall, thresholds = precision_recall_curve(y_val, logr.predict(X_val))\n",
    "pr_auc = auc(precision, recall)\n",
    "plt.figure()\n",
    "plt.plot(precision, recall, label='Precision-recall curve (area = %0.2f)' % pr_auc)\n",
    "plt.plot([0, 1], [0, 1], 'k--')\n",
    "plt.xlim([0.0, 1.0])\n",
    "plt.ylim([0.0, 1.0])\n",
    "plt.xlabel('Precision')\n",
    "plt.ylabel('Recall')\n",
    "plt.title('Precision-recall curve')\n",
    "plt.legend(loc=\"lower right\")\n",
    "plt.show()\n",
    "\n",
    "fpr, tpr, thresholds = roc_curve(y_val, logr.predict_proba(X_val)[:, 1])\n",
    "roc_auc = auc(fpr, tpr)\n",
    "plt.figure()\n",
    "plt.plot(fpr, tpr, label='ROC curve (area = %0.2f)' % roc_auc)\n",
    "plt.plot([0, 1], [0, 1], 'k--')\n",
    "plt.xlim([0.0, 1.0])\n",
    "plt.ylim([0.0, 1.0])\n",
    "plt.xlabel('False Positive Rate')\n",
    "plt.ylabel('True Positive Rate')\n",
    "plt.title('ROC curve')\n",
    "plt.legend(loc=\"lower right\")\n",
    "plt.show()"
   ]
  },
  {
   "cell_type": "markdown",
   "metadata": {
    "deletable": false,
    "editable": false,
    "nbgrader": {
     "checksum": "7e220248520fd90c195ec83121c87216",
     "grade": false,
     "grade_id": "cell-17691bc4a1f832c1",
     "locked": true,
     "schema_version": 1,
     "solution": false
    }
   },
   "source": [
    "Es muy habitual utilizar estas gráficas, especialmente la curva ROC, para decidir si los resultados son satisfactorios. Cuanto mayor sea el área que queda bajo la curva, mejores son los resultados del modelo que estamos probando."
   ]
  },
  {
   "cell_type": "markdown",
   "metadata": {
    "deletable": false,
    "editable": false,
    "nbgrader": {
     "checksum": "5295a3442d164918777987b6ae47ffe4",
     "grade": false,
     "grade_id": "cell-236e2d957e5f7944",
     "locked": true,
     "schema_version": 1,
     "solution": false
    }
   },
   "source": [
    "Utiliza gráficas (estas u otras que puedas encontrar útiles) para hacer una valoración final de los resultados. Razona las conclusiones.\n",
    "\n",
    "* http://scikit-learn.org/stable/modules/model_evaluation.html\n",
    "* http://scikit-learn.org/stable/modules/classes.html#module-sklearn.metrics"
   ]
  },
  {
   "cell_type": "code",
   "execution_count": 32,
   "metadata": {
    "deletable": false,
    "nbgrader": {
     "checksum": "8d40558ed09a91d46b3c8dd306a43d81",
     "grade": true,
     "grade_id": "cell-938cb7fd3bbc7bef",
     "locked": false,
     "points": 3,
     "schema_version": 1,
     "solution": true
    }
   },
   "outputs": [
    {
     "data": {
      "image/png": "[encoded data removed]",
      "text/plain": [
       "<Figure size 640x480 with 1 Axes>"
      ]
     },
     "metadata": {},
     "output_type": "display_data"
    }
   ],
   "source": [
    "from sklearn.linear_model import LogisticRegression\n",
    "from sklearn.pipeline import Pipeline\n",
    "from sklearn.preprocessing import StandardScaler\n",
    "\n",
    "logr = Pipeline([\n",
    "    ('std', StandardScaler()), \n",
    "    ('lr', LogisticRegression())\n",
    "])\n",
    "\n",
    "logr.fit(X_train, y_train)\n",
    "\n",
    "precision, recall, thresholds = precision_recall_curve(y_val, logr.predict_proba(X_val)[:, 1])\n",
    "pr_auc = auc(recall, precision)\n",
    "\n",
    "plt.figure()\n",
    "plt.plot(recall, precision, label=f'Precision-Recall curve (area = {pr_auc:0.2f})')\n",
    "plt.xlabel('Recall')\n",
    "plt.ylabel('Precision')\n",
    "plt.title('Precision-Recall Curve')\n",
    "plt.legend(loc=\"lower right\")\n",
    "plt.show()\n"
   ]
  },
  {
   "cell_type": "code",
   "execution_count": 33,
   "metadata": {},
   "outputs": [
    {
     "data": {
      "image/png": "[encoded data removed]",
      "text/plain": [
       "<Figure size 640x480 with 1 Axes>"
      ]
     },
     "metadata": {},
     "output_type": "display_data"
    }
   ],
   "source": [
    "fpr, tpr, thresholds = roc_curve(y_val, logr.predict_proba(X_val)[:, 1])\n",
    "roc_auc = auc(fpr, tpr)\n",
    "\n",
    "plt.figure()\n",
    "plt.plot(fpr, tpr, label=f'ROC curve (area = {roc_auc:0.2f})')\n",
    "plt.xlabel('False Positive Rate')\n",
    "plt.ylabel('True Positive Rate')\n",
    "plt.title('ROC Curve')\n",
    "plt.legend(loc=\"lower right\")\n",
    "plt.show()"
   ]
  },
  {
   "cell_type": "markdown",
   "metadata": {},
   "source": [
    "Al evaluar el modelo de regresión logística con las curvas de precisión-recall y ROC, observamos su capacidad para distinguir entre clases. Aunque los detalles específicos dependen de las áreas bajo las curvas (AUC), un AUC cercano a 1 indica un rendimiento sobresaliente. Sin embargo, si el AUC es bajo, explorar modelos más complejos o ajustar los meta-parámetros podría mejorar los resultados."
   ]
  }
 ],
 "metadata": {
  "kernelspec": {
   "display_name": "Python 3",
   "language": "python",
   "name": "python3"
  },
  "language_info": {
   "codemirror_mode": {
    "name": "ipython",
    "version": 3
   },
   "file_extension": ".py",
   "mimetype": "text/x-python",
   "name": "python",
   "nbconvert_exporter": "python",
   "pygments_lexer": "ipython3",
   "version": "3.11.8"
  }
 },
 "nbformat": 4,
 "nbformat_minor": 2
}
