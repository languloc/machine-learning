{
 "cells": [
  {
   "cell_type": "markdown",
   "metadata": {
    "deletable": false,
    "editable": false,
    "nbgrader": {
     "cell_type": "markdown",
     "checksum": "0590c5cc5c68b9b136c456ea0467d52a",
     "grade": false,
     "grade_id": "cell-c9491d770b813f0a",
     "locked": true,
     "schema_version": 3,
     "solution": false
    }
   },
   "source": [
    "# Diabetes con redes neuronales"
   ]
  },
  {
   "cell_type": "markdown",
   "metadata": {
    "deletable": false,
    "editable": false,
    "nbgrader": {
     "cell_type": "markdown",
     "checksum": "11a833fb52885d901791cb4ebc4b17ca",
     "grade": false,
     "grade_id": "cell-5478d66d95ac46fa",
     "locked": true,
     "schema_version": 3,
     "solution": false
    }
   },
   "source": [
    "Carga el dataset Diabetes con Scikit-learn, crea una variable llamada ``X`` que contenga las variables independientes del dataset y una variable llamada ``y`` que contenga sus targets:"
   ]
  },
  {
   "cell_type": "code",
   "execution_count": 35,
   "metadata": {
    "deletable": false,
    "nbgrader": {
     "cell_type": "code",
     "checksum": "668c00d94041ca21e8c63fbad32acfdf",
     "grade": false,
     "grade_id": "cell-c879c4cbd4abc5cd",
     "locked": false,
     "schema_version": 3,
     "solution": true
    }
   },
   "outputs": [],
   "source": [
    "from sklearn.datasets import load_diabetes\n",
    "\n",
    "X, y = load_diabetes(return_X_y=True)"
   ]
  },
  {
   "cell_type": "code",
   "execution_count": 36,
   "metadata": {
    "deletable": false,
    "editable": false,
    "nbgrader": {
     "cell_type": "code",
     "checksum": "14b54f8d7a0d9a87b7046e3635a35844",
     "grade": true,
     "grade_id": "cell-18f2d422e8a1c82b",
     "locked": true,
     "points": 2,
     "schema_version": 3,
     "solution": false
    }
   },
   "outputs": [],
   "source": [
    "assert X.shape == (442, 10)\n",
    "assert y.shape == (442,)"
   ]
  },
  {
   "cell_type": "markdown",
   "metadata": {
    "deletable": false,
    "editable": false,
    "nbgrader": {
     "cell_type": "markdown",
     "checksum": "35c16bfbaacd5e97d5401a6f62fff50d",
     "grade": false,
     "grade_id": "cell-6d3dabef794e1bc7",
     "locked": true,
     "schema_version": 3,
     "solution": false
    }
   },
   "source": [
    "Para poder evaluar de forma fiable los modelos, lo primero que se debería hacer es definir folds para cross-validation o separar una parte de los datos como conjunto de test, por ejemplo un 10% de la muestra. Guarda un 90% de los datos en las variables ``X_train`` e ``y_train`` y el 10% restante en ``X_test`` e ``y_test``. Usa ``random_state``=0 y ``shuffle``=True:"
   ]
  },
  {
   "cell_type": "code",
   "execution_count": 37,
   "metadata": {
    "deletable": false,
    "nbgrader": {
     "cell_type": "code",
     "checksum": "e962c0d674c124c4d3eee8f71d3e6478",
     "grade": false,
     "grade_id": "cell-e826877ea7697abe",
     "locked": false,
     "schema_version": 3,
     "solution": true
    }
   },
   "outputs": [],
   "source": [
    "from sklearn.model_selection import train_test_split\n",
    "\n",
    "X_train, X_test, y_train, y_test = train_test_split(X, y, test_size=0.1, random_state=0, shuffle=True)"
   ]
  },
  {
   "cell_type": "code",
   "execution_count": 38,
   "metadata": {
    "deletable": false,
    "editable": false,
    "nbgrader": {
     "cell_type": "code",
     "checksum": "531593605fd938b190a1270692549b8e",
     "grade": true,
     "grade_id": "cell-096f07b418b32802",
     "locked": true,
     "points": 2,
     "schema_version": 3,
     "solution": false
    }
   },
   "outputs": [],
   "source": [
    "assert X_train.shape == (397, 10)\n",
    "assert y_train.shape == (397,)\n",
    "assert X_test.shape == (45, 10)\n",
    "assert y_test.shape == (45,)"
   ]
  },
  {
   "cell_type": "markdown",
   "metadata": {
    "deletable": false,
    "editable": false,
    "nbgrader": {
     "cell_type": "markdown",
     "checksum": "10cc144e93c6a7507fd885154aed0ae2",
     "grade": false,
     "grade_id": "cell-813a9c7253764fc9",
     "locked": true,
     "schema_version": 3,
     "solution": false
    }
   },
   "source": [
    "A continuación hay que crear un primer modelo predictivo. Dado que el problema es de regresión, lo más básico es una regresión lineal. Usa el método de entrenamiento mediante descenso por gradiente. Estos método suele funcionar mejor con una estandarización previa de los datos, por lo que tendrás que construir un pipeline de procesamiento en el que la primera componente será un estandarizador y la segunda el modelo predictivo. Guarda este objeto en una variable llamada ``estimator``:"
   ]
  },
  {
   "cell_type": "code",
   "execution_count": 39,
   "metadata": {
    "deletable": false,
    "nbgrader": {
     "cell_type": "code",
     "checksum": "2b10bd861eec21268340fec0c8b3d63a",
     "grade": false,
     "grade_id": "cell-96a87eed3b9abe16",
     "locked": false,
     "schema_version": 3,
     "solution": true
    }
   },
   "outputs": [
    {
     "data": {
      "text/html": [
       "<style>#sk-container-id-7 {color: black;}#sk-container-id-7 pre{padding: 0;}#sk-container-id-7 div.sk-toggleable {background-color: white;}#sk-container-id-7 label.sk-toggleable__label {cursor: pointer;display: block;width: 100%;margin-bottom: 0;padding: 0.3em;box-sizing: border-box;text-align: center;}#sk-container-id-7 label.sk-toggleable__label-arrow:before {content: \"▸\";float: left;margin-right: 0.25em;color: #696969;}#sk-container-id-7 label.sk-toggleable__label-arrow:hover:before {color: black;}#sk-container-id-7 div.sk-estimator:hover label.sk-toggleable__label-arrow:before {color: black;}#sk-container-id-7 div.sk-toggleable__content {max-height: 0;max-width: 0;overflow: hidden;text-align: left;background-color: #f0f8ff;}#sk-container-id-7 div.sk-toggleable__content pre {margin: 0.2em;color: black;border-radius: 0.25em;background-color: #f0f8ff;}#sk-container-id-7 input.sk-toggleable__control:checked~div.sk-toggleable__content {max-height: 200px;max-width: 100%;overflow: auto;}#sk-container-id-7 input.sk-toggleable__control:checked~label.sk-toggleable__label-arrow:before {content: \"▾\";}#sk-container-id-7 div.sk-estimator input.sk-toggleable__control:checked~label.sk-toggleable__label {background-color: #d4ebff;}#sk-container-id-7 div.sk-label input.sk-toggleable__control:checked~label.sk-toggleable__label {background-color: #d4ebff;}#sk-container-id-7 input.sk-hidden--visually {border: 0;clip: rect(1px 1px 1px 1px);clip: rect(1px, 1px, 1px, 1px);height: 1px;margin: -1px;overflow: hidden;padding: 0;position: absolute;width: 1px;}#sk-container-id-7 div.sk-estimator {font-family: monospace;background-color: #f0f8ff;border: 1px dotted black;border-radius: 0.25em;box-sizing: border-box;margin-bottom: 0.5em;}#sk-container-id-7 div.sk-estimator:hover {background-color: #d4ebff;}#sk-container-id-7 div.sk-parallel-item::after {content: \"\";width: 100%;border-bottom: 1px solid gray;flex-grow: 1;}#sk-container-id-7 div.sk-label:hover label.sk-toggleable__label {background-color: #d4ebff;}#sk-container-id-7 div.sk-serial::before {content: \"\";position: absolute;border-left: 1px solid gray;box-sizing: border-box;top: 0;bottom: 0;left: 50%;z-index: 0;}#sk-container-id-7 div.sk-serial {display: flex;flex-direction: column;align-items: center;background-color: white;padding-right: 0.2em;padding-left: 0.2em;position: relative;}#sk-container-id-7 div.sk-item {position: relative;z-index: 1;}#sk-container-id-7 div.sk-parallel {display: flex;align-items: stretch;justify-content: center;background-color: white;position: relative;}#sk-container-id-7 div.sk-item::before, #sk-container-id-7 div.sk-parallel-item::before {content: \"\";position: absolute;border-left: 1px solid gray;box-sizing: border-box;top: 0;bottom: 0;left: 50%;z-index: -1;}#sk-container-id-7 div.sk-parallel-item {display: flex;flex-direction: column;z-index: 1;position: relative;background-color: white;}#sk-container-id-7 div.sk-parallel-item:first-child::after {align-self: flex-end;width: 50%;}#sk-container-id-7 div.sk-parallel-item:last-child::after {align-self: flex-start;width: 50%;}#sk-container-id-7 div.sk-parallel-item:only-child::after {width: 0;}#sk-container-id-7 div.sk-dashed-wrapped {border: 1px dashed gray;margin: 0 0.4em 0.5em 0.4em;box-sizing: border-box;padding-bottom: 0.4em;background-color: white;}#sk-container-id-7 div.sk-label label {font-family: monospace;font-weight: bold;display: inline-block;line-height: 1.2em;}#sk-container-id-7 div.sk-label-container {text-align: center;}#sk-container-id-7 div.sk-container {/* jupyter's `normalize.less` sets `[hidden] { display: none; }` but bootstrap.min.css set `[hidden] { display: none !important; }` so we also need the `!important` here to be able to override the default hidden behavior on the sphinx rendered scikit-learn.org. See: https://github.com/scikit-learn/scikit-learn/issues/21755 */display: inline-block !important;position: relative;}#sk-container-id-7 div.sk-text-repr-fallback {display: none;}</style><div id=\"sk-container-id-7\" class=\"sk-top-container\"><div class=\"sk-text-repr-fallback\"><pre>Pipeline(steps=[(&#x27;std&#x27;, StandardScaler()),\n",
       "                (&#x27;sgdr&#x27;, SGDRegressor(random_state=0))])</pre><b>In a Jupyter environment, please rerun this cell to show the HTML representation or trust the notebook. <br />On GitHub, the HTML representation is unable to render, please try loading this page with nbviewer.org.</b></div><div class=\"sk-container\" hidden><div class=\"sk-item sk-dashed-wrapped\"><div class=\"sk-label-container\"><div class=\"sk-label sk-toggleable\"><input class=\"sk-toggleable__control sk-hidden--visually\" id=\"sk-estimator-id-19\" type=\"checkbox\" ><label for=\"sk-estimator-id-19\" class=\"sk-toggleable__label sk-toggleable__label-arrow\">Pipeline</label><div class=\"sk-toggleable__content\"><pre>Pipeline(steps=[(&#x27;std&#x27;, StandardScaler()),\n",
       "                (&#x27;sgdr&#x27;, SGDRegressor(random_state=0))])</pre></div></div></div><div class=\"sk-serial\"><div class=\"sk-item\"><div class=\"sk-estimator sk-toggleable\"><input class=\"sk-toggleable__control sk-hidden--visually\" id=\"sk-estimator-id-20\" type=\"checkbox\" ><label for=\"sk-estimator-id-20\" class=\"sk-toggleable__label sk-toggleable__label-arrow\">StandardScaler</label><div class=\"sk-toggleable__content\"><pre>StandardScaler()</pre></div></div></div><div class=\"sk-item\"><div class=\"sk-estimator sk-toggleable\"><input class=\"sk-toggleable__control sk-hidden--visually\" id=\"sk-estimator-id-21\" type=\"checkbox\" ><label for=\"sk-estimator-id-21\" class=\"sk-toggleable__label sk-toggleable__label-arrow\">SGDRegressor</label><div class=\"sk-toggleable__content\"><pre>SGDRegressor(random_state=0)</pre></div></div></div></div></div></div></div>"
      ],
      "text/plain": [
       "Pipeline(steps=[('std', StandardScaler()),\n",
       "                ('sgdr', SGDRegressor(random_state=0))])"
      ]
     },
     "execution_count": 39,
     "metadata": {},
     "output_type": "execute_result"
    }
   ],
   "source": [
    "from sklearn.pipeline import Pipeline\n",
    "from sklearn.preprocessing import StandardScaler\n",
    "from sklearn.linear_model import SGDRegressor\n",
    "\n",
    "estimator = Pipeline([\n",
    "    ('std', StandardScaler()),\n",
    "    ('sgdr', SGDRegressor(random_state=0))\n",
    "])\n",
    "\n",
    "estimator.fit(X_train, y_train)"
   ]
  },
  {
   "cell_type": "code",
   "execution_count": 40,
   "metadata": {
    "deletable": false,
    "editable": false,
    "nbgrader": {
     "cell_type": "code",
     "checksum": "09dc5874b727c5924d8027d92c599813",
     "grade": true,
     "grade_id": "cell-6cbf8ab1680db013",
     "locked": true,
     "points": 3,
     "schema_version": 3,
     "solution": false
    }
   },
   "outputs": [],
   "source": [
    "assert type(estimator) == Pipeline\n",
    "assert len(estimator.steps) == 2"
   ]
  },
  {
   "cell_type": "markdown",
   "metadata": {
    "deletable": false,
    "editable": false,
    "nbgrader": {
     "cell_type": "markdown",
     "checksum": "6758dae58d54f5c533bbf14c0138c0e9",
     "grade": false,
     "grade_id": "cell-26617082808022e8",
     "locked": true,
     "schema_version": 3,
     "solution": false
    }
   },
   "source": [
    "Ahora se puede entrenar el modelo con el conjunto de datos de entrenamiento y evaluarlo con el conjunto de datos de test:"
   ]
  },
  {
   "cell_type": "code",
   "execution_count": 41,
   "metadata": {
    "deletable": false,
    "editable": false,
    "nbgrader": {
     "cell_type": "code",
     "checksum": "6ade05408dfd421933526854eb4dcdcc",
     "grade": false,
     "grade_id": "cell-d1f38d9db2aaa61f",
     "locked": true,
     "schema_version": 3,
     "solution": false
    }
   },
   "outputs": [
    {
     "name": "stdout",
     "output_type": "stream",
     "text": [
      "0.3448985394999857\n"
     ]
    }
   ],
   "source": [
    "estimator.fit(X_train, y_train)\n",
    "lr_score = estimator.score(X_test, y_test)\n",
    "print(f\"{lr_score}\")"
   ]
  },
  {
   "cell_type": "markdown",
   "metadata": {
    "deletable": false,
    "editable": false,
    "nbgrader": {
     "cell_type": "markdown",
     "checksum": "e3ffbfc25ed8b6b0af703bb705a52420",
     "grade": false,
     "grade_id": "cell-1ca9832d0ef4fbca",
     "locked": true,
     "schema_version": 3,
     "solution": false
    }
   },
   "source": [
    "El resultado es mejorable, pero ya hay un modelo base contra el que comparar. ¿Serías capaz de programar el mismo pipeline utilizando un perceptrón en lugar de una regresión lineal? Configura la red neuronal de manera que sea equivalente al modelo lineal previo y guarda este objeto en una variable llamada ``estimator2``:"
   ]
  },
  {
   "cell_type": "code",
   "execution_count": 42,
   "metadata": {
    "deletable": false,
    "nbgrader": {
     "cell_type": "code",
     "checksum": "b4c72d0eec3e4e679fe7c37f9e164538",
     "grade": false,
     "grade_id": "cell-c384022c33a522bb",
     "locked": false,
     "schema_version": 3,
     "solution": true,
     "task": false
    }
   },
   "outputs": [],
   "source": [
    "from sklearn.neural_network import MLPRegressor\n",
    "from sklearn.model_selection import RandomizedSearchCV\n",
    "from scipy.stats import uniform\n",
    "\n",
    "base_estimator = Pipeline([\n",
    "    (\"std\", StandardScaler()),\n",
    "    (\"mlp\", MLPRegressor(max_iter=1000, random_state=0))\n",
    "])\n",
    "\n",
    "parameters = {\n",
    "    'mlp__hidden_layer_sizes': [(10,), (20, 10), (30, 20, 10)],\n",
    "    'mlp__learning_rate_init': uniform(0, 1)\n",
    "}\n",
    "\n",
    "estimator2 = RandomizedSearchCV(base_estimator, parameters, n_iter=4, random_state=0, cv=5)"
   ]
  },
  {
   "cell_type": "code",
   "execution_count": 43,
   "metadata": {
    "deletable": false,
    "editable": false,
    "nbgrader": {
     "cell_type": "code",
     "checksum": "3351162f179d80e8a377070a9df70a48",
     "grade": false,
     "grade_id": "cell-927f60fbcc71c6dd",
     "locked": true,
     "schema_version": 3,
     "solution": false,
     "task": false
    }
   },
   "outputs": [
    {
     "name": "stdout",
     "output_type": "stream",
     "text": [
      "0.2247048111847647\n"
     ]
    }
   ],
   "source": [
    "estimator2.fit(X_train, y_train)\n",
    "mlp_score = estimator2.score(X_test, y_test)\n",
    "print(f\"{mlp_score}\")"
   ]
  },
  {
   "cell_type": "code",
   "execution_count": 44,
   "metadata": {
    "deletable": false,
    "editable": false,
    "nbgrader": {
     "cell_type": "code",
     "checksum": "25cb11ca93853a8f0015277a9979e316",
     "grade": true,
     "grade_id": "cell-30f9d5fd853f3255",
     "locked": true,
     "points": 1,
     "schema_version": 3,
     "solution": false,
     "task": false
    }
   },
   "outputs": [
    {
     "ename": "AssertionError",
     "evalue": "",
     "output_type": "error",
     "traceback": [
      "\u001b[1;31m---------------------------------------------------------------------------\u001b[0m",
      "\u001b[1;31mAssertionError\u001b[0m                            Traceback (most recent call last)",
      "Cell \u001b[1;32mIn[44], line 2\u001b[0m\n\u001b[0;32m      1\u001b[0m \u001b[38;5;28;01mimport\u001b[39;00m \u001b[38;5;21;01mnumpy\u001b[39;00m \u001b[38;5;28;01mas\u001b[39;00m \u001b[38;5;21;01mnp\u001b[39;00m\n\u001b[1;32m----> 2\u001b[0m \u001b[38;5;28;01massert\u001b[39;00m \u001b[38;5;28mtype\u001b[39m(estimator2) \u001b[38;5;241m==\u001b[39m Pipeline\n\u001b[0;32m      3\u001b[0m \u001b[38;5;28;01massert\u001b[39;00m \u001b[38;5;28mlen\u001b[39m(estimator2\u001b[38;5;241m.\u001b[39msteps) \u001b[38;5;241m==\u001b[39m \u001b[38;5;241m2\u001b[39m\n\u001b[0;32m      4\u001b[0m \u001b[38;5;28;01massert\u001b[39;00m \u001b[38;5;28mtype\u001b[39m(estimator2\u001b[38;5;241m.\u001b[39msteps[\u001b[38;5;241m0\u001b[39m][\u001b[38;5;241m1\u001b[39m]) \u001b[38;5;241m==\u001b[39m StandardScaler\n",
      "\u001b[1;31mAssertionError\u001b[0m: "
     ]
    }
   ],
   "source": [
    "import numpy as np\n",
    "assert type(estimator2) == Pipeline\n",
    "assert len(estimator2.steps) == 2\n",
    "assert type(estimator2.steps[0][1]) == StandardScaler\n",
    "assert type(estimator2.steps[1][1]) == MLPRegressor\n",
    "assert np.abs(lr_score - mlp_score)/mlp_score < 0.01\n",
    "np.testing.assert_almost_equal(lr_score, mlp_score, decimal=2, err_msg='Los scores difieren demasiado')"
   ]
  },
  {
   "cell_type": "markdown",
   "metadata": {
    "deletable": false,
    "editable": false,
    "nbgrader": {
     "cell_type": "markdown",
     "checksum": "a429f840d8d7603cb361df48cb04ed48",
     "grade": false,
     "grade_id": "cell-db3bdbab249d5b17",
     "locked": true,
     "schema_version": 3,
     "solution": false
    }
   },
   "source": [
    "Para conseguir mejorar el resultado será necesario hacer una búsqueda de meta-parámetros. Normalmente la búsqueda de meta-parámetros se automatiza con métodos como la búsqueda en rejilla o la búsqueda aleatoria. Intenta mejorar el resultado realizando una búsqueda de los meta-parámetros de la red neuronal. Al utilizar arquitecturas más complejas, es probable que haya que aumentar el número máximo de iteraciones y activar el early stopping. Guarda el objeto en una variable llamada ``search``:"
   ]
  },
  {
   "cell_type": "code",
   "execution_count": 45,
   "metadata": {
    "deletable": false,
    "nbgrader": {
     "cell_type": "code",
     "checksum": "dd5d76c292c4f5ac24beca36b82a6e08",
     "grade": false,
     "grade_id": "cell-00ee122f1e9801df",
     "locked": false,
     "schema_version": 3,
     "solution": true,
     "task": false
    }
   },
   "outputs": [],
   "source": [
    "from sklearn.model_selection import GridSearchCV\n",
    "from sklearn.neural_network import MLPRegressor\n",
    "from sklearn.pipeline import Pipeline\n",
    "from sklearn.preprocessing import StandardScaler\n",
    "\n",
    "pipeline = Pipeline([\n",
    "    ('std', StandardScaler()),\n",
    "    ('mlp', MLPRegressor(max_iter=1000, early_stopping=True, random_state=0))\n",
    "])\n",
    "\n",
    "parameters = {\n",
    "    'mlp__hidden_layer_sizes': [(50,), (100,), (50, 50)],\n",
    "    'mlp__learning_rate_init': [0.001, 0.01],\n",
    "}\n",
    "\n",
    "search = GridSearchCV(pipeline, parameters, n_jobs=-1, cv=5, scoring='r2')"
   ]
  },
  {
   "cell_type": "code",
   "execution_count": 46,
   "metadata": {
    "deletable": false,
    "editable": false,
    "nbgrader": {
     "cell_type": "code",
     "checksum": "fdad26942bfdc1f00e24fcf6a005befa",
     "grade": false,
     "grade_id": "cell-3657174309b3df9d",
     "locked": true,
     "schema_version": 3,
     "solution": false,
     "task": false
    }
   },
   "outputs": [
    {
     "name": "stdout",
     "output_type": "stream",
     "text": [
      "{'mlp__hidden_layer_sizes': (50, 50), 'mlp__learning_rate_init': 0.01}\n",
      "0.17719414653728383\n"
     ]
    }
   ],
   "source": [
    "search.fit(X_train, y_train)\n",
    "print(search.best_params_)\n",
    "score = search.score(X_test, y_test)\n",
    "print(f\"{score}\")"
   ]
  },
  {
   "cell_type": "code",
   "execution_count": 47,
   "metadata": {
    "deletable": false,
    "editable": false,
    "nbgrader": {
     "cell_type": "code",
     "checksum": "0610ce4edac3ec797dacbc19b6c17df7",
     "grade": true,
     "grade_id": "cell-087154893f51fa39",
     "locked": true,
     "points": 1,
     "schema_version": 3,
     "solution": false,
     "task": false
    }
   },
   "outputs": [
    {
     "ename": "AssertionError",
     "evalue": "",
     "output_type": "error",
     "traceback": [
      "\u001b[1;31m---------------------------------------------------------------------------\u001b[0m",
      "\u001b[1;31mAssertionError\u001b[0m                            Traceback (most recent call last)",
      "Cell \u001b[1;32mIn[47], line 1\u001b[0m\n\u001b[1;32m----> 1\u001b[0m \u001b[38;5;28;01massert\u001b[39;00m mlp_score \u001b[38;5;241m<\u001b[39m score\n",
      "\u001b[1;31mAssertionError\u001b[0m: "
     ]
    }
   ],
   "source": [
    "assert mlp_score < score"
   ]
  },
  {
   "cell_type": "markdown",
   "metadata": {
    "deletable": false,
    "editable": false,
    "nbgrader": {
     "cell_type": "markdown",
     "checksum": "caded33afa80e27ddd392cf31936d682",
     "grade": false,
     "grade_id": "cell-11ef9fbc6790a68b",
     "locked": true,
     "schema_version": 3,
     "solution": false
    }
   },
   "source": [
    "# Regresion Lineal por el metodo de Ordinary Least Squares"
   ]
  },
  {
   "cell_type": "markdown",
   "metadata": {
    "deletable": false,
    "editable": false,
    "nbgrader": {
     "cell_type": "markdown",
     "checksum": "c5b378a58ba1d08931e85522586cc15a",
     "grade": false,
     "grade_id": "cell-81a16b42de1bb106",
     "locked": true,
     "schema_version": 3,
     "solution": false
    }
   },
   "source": [
    "Los modelos predictivos de Scikit-learn se definen como clases que tienen al menos cuatro métodos:\n",
    "* ``__init__``: el constructor, recibe como argumentos los meta-parámetros del modelo y los almacena\n",
    "* ``fit``: recibe como argumentos X e y, entrena el modelo (calcula sus parámetros) y lo devuelve.\n",
    "* ``predict``: recibe como argumento X, calcula las predicciones y las devuelve.\n",
    "* ``score``: recibe como argumentos X e y, realiza las predicciones sobre X y calcula con ellas el error de aproximación a y. Por defecto aplica la métrica ``r2_score`` a los modelos de regresión y la métrica ``accuracy`` a los de clasifiación.\n",
    "\n",
    "Programa a continuación el método fit de la regresión lineal mediante el método de Ordinary Least Squares."
   ]
  },
  {
   "cell_type": "code",
   "execution_count": 48,
   "metadata": {
    "deletable": false,
    "nbgrader": {
     "cell_type": "code",
     "checksum": "6fbd63f2c7bd11d860bc2a5b538dd8d4",
     "grade": false,
     "grade_id": "cell-c40d4400f0cdd222",
     "locked": false,
     "schema_version": 3,
     "solution": true
    }
   },
   "outputs": [],
   "source": [
    "import numpy as np\n",
    "from sklearn.base import BaseEstimator, RegressorMixin\n",
    "from sklearn.metrics import r2_score\n",
    "\n",
    "class OLSLinearRegression(BaseEstimator, RegressorMixin):\n",
    "\n",
    "    def __init__(self):\n",
    "        pass\n",
    "\n",
    "    def fit(self, X, y):\n",
    "        if len(X.shape) == 1: X = X.reshape((-1, 1))\n",
    "        X = np.hstack((np.ones((len(X), 1)), X))\n",
    "        self.beta_ = np.linalg.inv(X.T @ X) @ X.T @ y\n",
    "        return self\n",
    "\n",
    "    def predict(self, X):\n",
    "        if len(X.shape) == 1: X = X.reshape((-1, 1))\n",
    "        X = np.hstack((np.ones((len(X), 1)), X))\n",
    "        return X @ self.beta_\n",
    "\n",
    "    def score(self, X, y):\n",
    "        preds = self.predict(X)\n",
    "        return r2_score(y, preds)"
   ]
  },
  {
   "cell_type": "markdown",
   "metadata": {
    "deletable": false,
    "editable": false,
    "nbgrader": {
     "cell_type": "markdown",
     "checksum": "5eb4ac7d9a5add4891bf1d7d406ff268",
     "grade": false,
     "grade_id": "cell-dcc5eef402a0a268",
     "locked": true,
     "schema_version": 3,
     "solution": false
    }
   },
   "source": [
    "La regresión lineal con el método de OLS ya está disponible en Scikit-learn mediante la clase ``LinearRegression`` del submódulo ``linear_model``. Si has programado el método de OLS correctamente, debería producir los mismos resultados que ``LinearRegression`` sobre los datasets de regresión de California Housing y Diabetes:"
   ]
  },
  {
   "cell_type": "code",
   "execution_count": 49,
   "metadata": {
    "deletable": false,
    "editable": false,
    "nbgrader": {
     "cell_type": "code",
     "checksum": "e99de71dc694f349d8cb063c8882c129",
     "grade": true,
     "grade_id": "cell-de1ef339d923b5a4",
     "locked": true,
     "points": 1,
     "schema_version": 3,
     "solution": false
    }
   },
   "outputs": [
    {
     "name": "stdout",
     "output_type": "stream",
     "text": [
      "fetch_california_housing:\n",
      "\tR2 OLS: 0.5911695436406857\n",
      "\tR2 LS: 0.5911695436410476\n",
      "load_diabetes:\n",
      "\tR2 OLS: 0.35940880381777063\n",
      "\tR2 LS: 0.3594088038177712\n"
     ]
    }
   ],
   "source": [
    "from sklearn.datasets import fetch_california_housing, load_diabetes\n",
    "from sklearn.linear_model import LinearRegression\n",
    "from sklearn.model_selection import train_test_split\n",
    "\n",
    "for loader in (fetch_california_housing, load_diabetes):\n",
    "    Xi, yi = loader(return_X_y=True)\n",
    "    Xi_train, Xi_test, yi_train, yi_test = train_test_split(Xi, yi, random_state=0)\n",
    "\n",
    "    ols_lr = OLSLinearRegression()\n",
    "    lr = LinearRegression()\n",
    "\n",
    "    ols_lr.fit(Xi_train, yi_train)\n",
    "    lr.fit(Xi_train, yi_train)\n",
    "\n",
    "    ols_lr_preds = ols_lr.predict(Xi_test)\n",
    "    lr_preds = lr.predict(Xi_test)\n",
    "    np.testing.assert_array_almost_equal(ols_lr_preds, lr_preds, decimal=3, err_msg='Las predicciones difieren demasiado')\n",
    "\n",
    "    ols_lr_score = ols_lr.score(Xi_test, yi_test)\n",
    "    lr_score = lr.score(Xi_test, yi_test)\n",
    "    print(loader.__name__ + ':\\n\\tR2 OLS: ' + str(ols_lr_score) + '\\n\\tR2 LS: ' + str(lr_score))\n",
    "    np.testing.assert_almost_equal(ols_lr_score, lr_score, decimal=2, err_msg='Los scores difieren demasiado')"
   ]
  }
 ],
 "metadata": {
  "kernelspec": {
   "display_name": "machine",
   "language": "python",
   "name": "python3"
  },
  "language_info": {
   "codemirror_mode": {
    "name": "ipython",
    "version": 3
   },
   "file_extension": ".py",
   "mimetype": "text/x-python",
   "name": "python",
   "nbconvert_exporter": "python",
   "pygments_lexer": "ipython3",
   "version": "3.11.8"
  }
 },
 "nbformat": 4,
 "nbformat_minor": 4
}
