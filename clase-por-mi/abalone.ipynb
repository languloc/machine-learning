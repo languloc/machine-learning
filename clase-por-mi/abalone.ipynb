{
 "cells": [
  {
   "cell_type": "code",
   "execution_count": 12,
   "metadata": {},
   "outputs": [],
   "source": [
    "import pandas as pd\n",
    "import numpy as np\n",
    "from sklearn.datasets import fetch_openml"
   ]
  },
  {
   "cell_type": "code",
   "execution_count": 9,
   "metadata": {},
   "outputs": [
    {
     "name": "stderr",
     "output_type": "stream",
     "text": [
      "c:\\Users\\langu\\anaconda3\\envs\\machine\\Lib\\site-packages\\sklearn\\datasets\\_openml.py:303: UserWarning: Multiple active versions of the dataset matching the name abalone exist. Versions may be fundamentally different, returning version 1.\n",
      "  warn(\n",
      "c:\\Users\\langu\\anaconda3\\envs\\machine\\Lib\\site-packages\\sklearn\\datasets\\_openml.py:1002: FutureWarning: The default value of `parser` will change from `'liac-arff'` to `'auto'` in 1.4. You can set `parser='auto'` to silence this warning. Therefore, an `ImportError` will be raised from 1.4 if the dataset is dense and pandas is not installed. Note that the pandas parser may return different data types. See the Notes Section in fetch_openml's API doc for details.\n",
      "  warn(\n"
     ]
    }
   ],
   "source": [
    "abalone = fetch_openml(\"abalone\")"
   ]
  },
  {
   "cell_type": "code",
   "execution_count": 10,
   "metadata": {},
   "outputs": [
    {
     "data": {
      "text/plain": [
       "{'data':      Sex  Length  Diameter  Height  Whole_weight  Shucked_weight  \\\n",
       " 0      M   0.455     0.365   0.095        0.5140          0.2245   \n",
       " 1      M   0.350     0.265   0.090        0.2255          0.0995   \n",
       " 2      F   0.530     0.420   0.135        0.6770          0.2565   \n",
       " 3      M   0.440     0.365   0.125        0.5160          0.2155   \n",
       " 4      I   0.330     0.255   0.080        0.2050          0.0895   \n",
       " ...   ..     ...       ...     ...           ...             ...   \n",
       " 4172   F   0.565     0.450   0.165        0.8870          0.3700   \n",
       " 4173   M   0.590     0.440   0.135        0.9660          0.4390   \n",
       " 4174   M   0.600     0.475   0.205        1.1760          0.5255   \n",
       " 4175   F   0.625     0.485   0.150        1.0945          0.5310   \n",
       " 4176   M   0.710     0.555   0.195        1.9485          0.9455   \n",
       " \n",
       "       Viscera_weight  Shell_weight  \n",
       " 0             0.1010        0.1500  \n",
       " 1             0.0485        0.0700  \n",
       " 2             0.1415        0.2100  \n",
       " 3             0.1140        0.1550  \n",
       " 4             0.0395        0.0550  \n",
       " ...              ...           ...  \n",
       " 4172          0.2390        0.2490  \n",
       " 4173          0.2145        0.2605  \n",
       " 4174          0.2875        0.3080  \n",
       " 4175          0.2610        0.2960  \n",
       " 4176          0.3765        0.4950  \n",
       " \n",
       " [4177 rows x 8 columns],\n",
       " 'target': 0       15\n",
       " 1        7\n",
       " 2        9\n",
       " 3       10\n",
       " 4        7\n",
       "         ..\n",
       " 4172    11\n",
       " 4173    10\n",
       " 4174     9\n",
       " 4175    10\n",
       " 4176    12\n",
       " Name: Class_number_of_rings, Length: 4177, dtype: category\n",
       " Categories (28, object): ['1', '10', '11', '12', ..., '6', '7', '8', '9'],\n",
       " 'frame':      Sex  Length  Diameter  Height  Whole_weight  Shucked_weight  \\\n",
       " 0      M   0.455     0.365   0.095        0.5140          0.2245   \n",
       " 1      M   0.350     0.265   0.090        0.2255          0.0995   \n",
       " 2      F   0.530     0.420   0.135        0.6770          0.2565   \n",
       " 3      M   0.440     0.365   0.125        0.5160          0.2155   \n",
       " 4      I   0.330     0.255   0.080        0.2050          0.0895   \n",
       " ...   ..     ...       ...     ...           ...             ...   \n",
       " 4172   F   0.565     0.450   0.165        0.8870          0.3700   \n",
       " 4173   M   0.590     0.440   0.135        0.9660          0.4390   \n",
       " 4174   M   0.600     0.475   0.205        1.1760          0.5255   \n",
       " 4175   F   0.625     0.485   0.150        1.0945          0.5310   \n",
       " 4176   M   0.710     0.555   0.195        1.9485          0.9455   \n",
       " \n",
       "       Viscera_weight  Shell_weight Class_number_of_rings  \n",
       " 0             0.1010        0.1500                    15  \n",
       " 1             0.0485        0.0700                     7  \n",
       " 2             0.1415        0.2100                     9  \n",
       " 3             0.1140        0.1550                    10  \n",
       " 4             0.0395        0.0550                     7  \n",
       " ...              ...           ...                   ...  \n",
       " 4172          0.2390        0.2490                    11  \n",
       " 4173          0.2145        0.2605                    10  \n",
       " 4174          0.2875        0.3080                     9  \n",
       " 4175          0.2610        0.2960                    10  \n",
       " 4176          0.3765        0.4950                    12  \n",
       " \n",
       " [4177 rows x 9 columns],\n",
       " 'categories': None,\n",
       " 'feature_names': ['Sex',\n",
       "  'Length',\n",
       "  'Diameter',\n",
       "  'Height',\n",
       "  'Whole_weight',\n",
       "  'Shucked_weight',\n",
       "  'Viscera_weight',\n",
       "  'Shell_weight'],\n",
       " 'target_names': ['Class_number_of_rings'],\n",
       " 'DESCR': '**Author**:   \\n**Source**: Unknown -   \\n**Please cite**:   \\n\\n1. Title of Database: Abalone data\\n \\n 2. Sources:\\n \\n    (a) Original owners of database:\\n \\tMarine Resources Division\\n \\tMarine Research Laboratories - Taroona\\n \\tDepartment of Primary Industry and Fisheries, Tasmania\\n \\tGPO Box 619F, Hobart, Tasmania 7001, Australia\\n \\t(contact: Warwick Nash +61 02 277277, wnash@dpi.tas.gov.au)\\n \\n    (b) Donor of database:\\n \\tSam Waugh (Sam.Waugh@cs.utas.edu.au)\\n \\tDepartment of Computer Science, University of Tasmania\\n \\tGPO Box 252C, Hobart, Tasmania 7001, Australia\\n \\n    (c) Date received: December 1995\\n \\n \\n 3. Past Usage:\\n \\n    Sam Waugh (1995) \"Extending and benchmarking Cascade-Correlation\", PhD\\n    thesis, Computer Science Department, University of Tasmania.\\n \\n    -- Test set performance (final 1044 examples, first 3133 used for training):\\n \\t24.86% Cascade-Correlation (no hidden nodes)\\n \\t26.25% Cascade-Correlation (5 hidden nodes)\\n \\t21.5%  C4.5\\n \\t 0.0%  Linear Discriminate Analysis\\n \\t 3.57% k=5 Nearest Neighbour\\n       (Problem encoded as a classification task)\\n \\n    -- Data set samples are highly overlapped.  Further information is required\\n \\tto separate completely using affine combinations.  Other restrictions\\n \\tto data set examined.\\n \\n    David Clark, Zoltan Schreter, Anthony Adams \"A Quantitative Comparison of\\n    Dystal and Backpropagation\", submitted to the Australian Conference on\\n    Neural Networks (ACNN\\'96). Data set treated as a 3-category classification\\n    problem (grouping ring classes 1-8, 9 and 10, and 11 on).\\n \\n    -- Test set performance (3133 training, 1044 testing as above):\\n \\t64%    Backprop\\n \\t55%    Dystal\\n    -- Previous work (Waugh, 1995) on same data set:\\n \\t61.40% Cascade-Correlation (no hidden nodes)\\n \\t65.61% Cascade-Correlation (5 hidden nodes)\\n \\t59.2%  C4.5\\n \\t32.57% Linear Discriminate Analysis\\n \\t62.46% k=5 Nearest Neighbour\\n \\n \\n 4. Relevant Information Paragraph:\\n \\n    Predicting the age of abalone from physical measurements.  The age of\\n    abalone is determined by cutting the shell through the cone, staining it,\\n    and counting the number of rings through a microscope -- a boring and\\n    time-consuming task.  Other measurements, which are easier to obtain, are\\n    used to predict the age.  Further information, such as weather patterns\\n    and location (hence food availability) may be required to solve the problem.\\n \\n    From the original data examples with missing values were removed (the\\n    majority having the predicted value missing), and the ranges of the\\n    continuous values have been scaled for use with an ANN (by dividing by 200).\\n \\n    Data comes from an original (non-machine-learning) study:\\n \\n \\tWarwick J Nash, Tracy L Sellers, Simon R Talbot, Andrew J Cawthorn and\\n \\tWes B Ford (1994) \"The Population Biology of Abalone (_Haliotis_\\n \\tspecies) in Tasmania. I. Blacklip Abalone (_H. rubra_) from the North\\n \\tCoast and Islands of Bass Strait\", Sea Fisheries Division, Technical\\n \\tReport No. 48 (ISSN 1034-3288)\\n \\n \\n 5. Number of Instances: 4177\\n \\n \\n 6. Number of Attributes: 8\\n \\n \\n 7. Attribute information:\\n \\n    Given is the attribute name, attribute type, the measurement unit and a\\n    brief description.  The number of rings is the value to predict: either\\n    as a continuous value or as a classification problem.\\n \\n \\tName\\t\\tData Type\\tMeas.\\tDescription\\n \\t----\\t\\t---------\\t-----\\t-----------\\n \\tSex\\t\\tnominal\\t\\t\\tM, F, and I (infant)\\n \\tLength\\t\\tcontinuous\\tmm\\tLongest shell measurement\\n \\tDiameter\\tcontinuous\\tmm\\tperpendicular to length\\n \\tHeight\\t\\tcontinuous\\tmm\\twith meat in shell\\n \\tWhole weight\\tcontinuous\\tgrams\\twhole abalone\\n \\tShucked weight\\tcontinuous\\tgrams\\tweight of meat\\n \\tViscera weight\\tcontinuous\\tgrams\\tgut weight (after bleeding)\\n \\tShell weight\\tcontinuous\\tgrams\\tafter being dried\\n \\tRings\\t\\tinteger\\t\\t\\t+1.5 gives the age in years\\n \\n    Statistics for numeric domains:\\n \\n \\t\\tLength\\tDiam\\tHeight\\tWhole\\tShucked\\tViscera\\tShell\\tRings\\n \\tMin\\t0.075\\t0.055\\t0.000\\t0.002\\t0.001\\t0.001\\t0.002\\t    1\\n \\tMax\\t0.815\\t0.650\\t1.130\\t2.826\\t1.488\\t0.760\\t1.005\\t   29\\n \\tMean\\t0.524\\t0.408\\t0.140\\t0.829\\t0.359\\t0.181\\t0.239\\t9.934\\n \\tSD\\t0.120\\t0.099\\t0.042\\t0.490\\t0.222\\t0.110\\t0.139\\t3.224\\n \\tCorrel\\t0.557\\t0.575\\t0.557\\t0.540\\t0.421\\t0.504\\t0.628\\t  1.0\\n \\n \\n 8. Missing Attribute Values: None\\n \\n \\n 9. Class Distribution:\\n \\n \\tClass\\tExamples\\n \\t-----\\t--------\\n \\t1\\t1\\n \\t2\\t1\\n \\t3\\t15\\n \\t4\\t57\\n \\t5\\t115\\n \\t6\\t259\\n \\t7\\t391\\n \\t8\\t568\\n \\t9\\t689\\n \\t10\\t634\\n \\t11\\t487\\n \\t12\\t267\\n \\t13\\t203\\n \\t14\\t126\\n \\t15\\t103\\n \\t16\\t67\\n \\t17\\t58\\n \\t18\\t42\\n \\t19\\t32\\n \\t20\\t26\\n \\t21\\t14\\n \\t22\\t6\\n \\t23\\t9\\n \\t24\\t2\\n \\t25\\t1\\n \\t26\\t1\\n \\t27\\t2\\n \\t29\\t1\\n \\t-----\\t----\\n \\tTotal\\t4177\\n \\n Num Instances:     4177\\n Num Attributes:    9\\n Num Continuous:    8 (Int 1 / Real 7)\\n Num Discrete:      1\\n Missing values:    0 /  0.0%\\n\\n     name                      type enum ints real     missing    distinct  (1)\\n   1 \\'Sex\\'                     Enum 100%   0%   0%     0 /  0%     3 /  0%   0% \\n   2 \\'Length\\'                  Real   0%   0% 100%     0 /  0%   134 /  3%   0% \\n   3 \\'Diameter\\'                Real   0%   0% 100%     0 /  0%   111 /  3%   0% \\n   4 \\'Height\\'                  Real   0%   0% 100%     0 /  0%    51 /  1%   0% \\n   5 \\'Whole weight\\'            Real   0%   0% 100%     0 /  0%  2429 / 58%  31% \\n   6 \\'Shucked weight\\'          Real   0%   0% 100%     0 /  0%  1515 / 36%  10% \\n   7 \\'Viscera weight\\'          Real   0%   0% 100%     0 /  0%   880 / 21%   3% \\n   8 \\'Shell weight\\'            Real   0%   0% 100%     0 /  0%   926 / 22%   8% \\n   9 \\'Class_Rings\\'             Int    0% 100%   0%     0 /  0%    28 /  1%   0%\\n\\nDownloaded from openml.org.',\n",
       " 'details': {'id': '183',\n",
       "  'name': 'abalone',\n",
       "  'version': '1',\n",
       "  'description_version': '1',\n",
       "  'format': 'ARFF',\n",
       "  'contributor': 'S. Waugh',\n",
       "  'collection_date': '12/1995',\n",
       "  'upload_date': '2014-04-23T13:15:04',\n",
       "  'language': 'English',\n",
       "  'licence': 'Public',\n",
       "  'url': 'https://api.openml.org/data/v1/download/3620/abalone.arff',\n",
       "  'parquet_url': 'https://openml1.win.tue.nl/datasets/0000/0183/dataset_183.pq',\n",
       "  'file_id': '3620',\n",
       "  'default_target_attribute': 'Class_number_of_rings',\n",
       "  'version_label': '1',\n",
       "  'tag': ['Life Science',\n",
       "   'Machine Learning',\n",
       "   'study_1',\n",
       "   'study_130',\n",
       "   'study_14',\n",
       "   'study_34',\n",
       "   'study_37',\n",
       "   'study_41',\n",
       "   'study_7',\n",
       "   'study_70',\n",
       "   'study_76'],\n",
       "  'visibility': 'public',\n",
       "  'minio_url': 'https://openml1.win.tue.nl/datasets/0000/0183/dataset_183.pq',\n",
       "  'status': 'active',\n",
       "  'processing_date': '2020-11-20 19:31:03',\n",
       "  'md5_checksum': 'a9555b1cfe39eb55df2c520f09172a96'},\n",
       " 'url': 'https://www.openml.org/d/183'}"
      ]
     },
     "execution_count": 10,
     "metadata": {},
     "output_type": "execute_result"
    }
   ],
   "source": [
    "abalone"
   ]
  },
  {
   "cell_type": "code",
   "execution_count": 14,
   "metadata": {},
   "outputs": [],
   "source": [
    "X = abalone[\"data\"]\n",
    "y =abalone[\"target\"].astype(np.float32)"
   ]
  },
  {
   "cell_type": "code",
   "execution_count": 29,
   "metadata": {},
   "outputs": [
    {
     "ename": "KeyError",
     "evalue": "-1.0",
     "output_type": "error",
     "traceback": [
      "\u001b[1;31m---------------------------------------------------------------------------\u001b[0m",
      "\u001b[1;31mKeyError\u001b[0m                                  Traceback (most recent call last)",
      "Cell \u001b[1;32mIn[29], line 1\u001b[0m\n\u001b[1;32m----> 1\u001b[0m X[\u001b[38;5;124m'\u001b[39m\u001b[38;5;124mSex\u001b[39m\u001b[38;5;124m'\u001b[39m] \u001b[38;5;241m=\u001b[39m X[\u001b[38;5;124m'\u001b[39m\u001b[38;5;124mSex\u001b[39m\u001b[38;5;124m'\u001b[39m]\u001b[38;5;241m.\u001b[39mapply(\u001b[38;5;28;01mlambda\u001b[39;00m x: {\u001b[38;5;124m\"\u001b[39m\u001b[38;5;124mM\u001b[39m\u001b[38;5;124m\"\u001b[39m: \u001b[38;5;241m1.0\u001b[39m, \u001b[38;5;124m\"\u001b[39m\u001b[38;5;124mI\u001b[39m\u001b[38;5;124m\"\u001b[39m: \u001b[38;5;241m0.0\u001b[39m, \u001b[38;5;124m\"\u001b[39m\u001b[38;5;124mF\u001b[39m\u001b[38;5;124m\"\u001b[39m: \u001b[38;5;241m-\u001b[39m\u001b[38;5;241m1.0\u001b[39m}[x])\n",
      "File \u001b[1;32mc:\\Users\\langu\\anaconda3\\envs\\machine\\Lib\\site-packages\\pandas\\core\\series.py:4764\u001b[0m, in \u001b[0;36mSeries.apply\u001b[1;34m(self, func, convert_dtype, args, by_row, **kwargs)\u001b[0m\n\u001b[0;32m   4629\u001b[0m \u001b[38;5;28;01mdef\u001b[39;00m \u001b[38;5;21mapply\u001b[39m(\n\u001b[0;32m   4630\u001b[0m     \u001b[38;5;28mself\u001b[39m,\n\u001b[0;32m   4631\u001b[0m     func: AggFuncType,\n\u001b[1;32m   (...)\u001b[0m\n\u001b[0;32m   4636\u001b[0m     \u001b[38;5;241m*\u001b[39m\u001b[38;5;241m*\u001b[39mkwargs,\n\u001b[0;32m   4637\u001b[0m ) \u001b[38;5;241m-\u001b[39m\u001b[38;5;241m>\u001b[39m DataFrame \u001b[38;5;241m|\u001b[39m Series:\n\u001b[0;32m   4638\u001b[0m \u001b[38;5;250m    \u001b[39m\u001b[38;5;124;03m\"\"\"\u001b[39;00m\n\u001b[0;32m   4639\u001b[0m \u001b[38;5;124;03m    Invoke function on values of Series.\u001b[39;00m\n\u001b[0;32m   4640\u001b[0m \n\u001b[1;32m   (...)\u001b[0m\n\u001b[0;32m   4755\u001b[0m \u001b[38;5;124;03m    dtype: float64\u001b[39;00m\n\u001b[0;32m   4756\u001b[0m \u001b[38;5;124;03m    \"\"\"\u001b[39;00m\n\u001b[0;32m   4757\u001b[0m     \u001b[38;5;28;01mreturn\u001b[39;00m SeriesApply(\n\u001b[0;32m   4758\u001b[0m         \u001b[38;5;28mself\u001b[39m,\n\u001b[0;32m   4759\u001b[0m         func,\n\u001b[0;32m   4760\u001b[0m         convert_dtype\u001b[38;5;241m=\u001b[39mconvert_dtype,\n\u001b[0;32m   4761\u001b[0m         by_row\u001b[38;5;241m=\u001b[39mby_row,\n\u001b[0;32m   4762\u001b[0m         args\u001b[38;5;241m=\u001b[39margs,\n\u001b[0;32m   4763\u001b[0m         kwargs\u001b[38;5;241m=\u001b[39mkwargs,\n\u001b[1;32m-> 4764\u001b[0m     )\u001b[38;5;241m.\u001b[39mapply()\n",
      "File \u001b[1;32mc:\\Users\\langu\\anaconda3\\envs\\machine\\Lib\\site-packages\\pandas\\core\\apply.py:1209\u001b[0m, in \u001b[0;36mSeriesApply.apply\u001b[1;34m(self)\u001b[0m\n\u001b[0;32m   1206\u001b[0m     \u001b[38;5;28;01mreturn\u001b[39;00m \u001b[38;5;28mself\u001b[39m\u001b[38;5;241m.\u001b[39mapply_compat()\n\u001b[0;32m   1208\u001b[0m \u001b[38;5;66;03m# self.func is Callable\u001b[39;00m\n\u001b[1;32m-> 1209\u001b[0m \u001b[38;5;28;01mreturn\u001b[39;00m \u001b[38;5;28mself\u001b[39m\u001b[38;5;241m.\u001b[39mapply_standard()\n",
      "File \u001b[1;32mc:\\Users\\langu\\anaconda3\\envs\\machine\\Lib\\site-packages\\pandas\\core\\apply.py:1289\u001b[0m, in \u001b[0;36mSeriesApply.apply_standard\u001b[1;34m(self)\u001b[0m\n\u001b[0;32m   1283\u001b[0m \u001b[38;5;66;03m# row-wise access\u001b[39;00m\n\u001b[0;32m   1284\u001b[0m \u001b[38;5;66;03m# apply doesn't have a `na_action` keyword and for backward compat reasons\u001b[39;00m\n\u001b[0;32m   1285\u001b[0m \u001b[38;5;66;03m# we need to give `na_action=\"ignore\"` for categorical data.\u001b[39;00m\n\u001b[0;32m   1286\u001b[0m \u001b[38;5;66;03m# TODO: remove the `na_action=\"ignore\"` when that default has been changed in\u001b[39;00m\n\u001b[0;32m   1287\u001b[0m \u001b[38;5;66;03m#  Categorical (GH51645).\u001b[39;00m\n\u001b[0;32m   1288\u001b[0m action \u001b[38;5;241m=\u001b[39m \u001b[38;5;124m\"\u001b[39m\u001b[38;5;124mignore\u001b[39m\u001b[38;5;124m\"\u001b[39m \u001b[38;5;28;01mif\u001b[39;00m \u001b[38;5;28misinstance\u001b[39m(obj\u001b[38;5;241m.\u001b[39mdtype, CategoricalDtype) \u001b[38;5;28;01melse\u001b[39;00m \u001b[38;5;28;01mNone\u001b[39;00m\n\u001b[1;32m-> 1289\u001b[0m mapped \u001b[38;5;241m=\u001b[39m obj\u001b[38;5;241m.\u001b[39m_map_values(\n\u001b[0;32m   1290\u001b[0m     mapper\u001b[38;5;241m=\u001b[39mcurried, na_action\u001b[38;5;241m=\u001b[39maction, convert\u001b[38;5;241m=\u001b[39m\u001b[38;5;28mself\u001b[39m\u001b[38;5;241m.\u001b[39mconvert_dtype\n\u001b[0;32m   1291\u001b[0m )\n\u001b[0;32m   1293\u001b[0m \u001b[38;5;28;01mif\u001b[39;00m \u001b[38;5;28mlen\u001b[39m(mapped) \u001b[38;5;129;01mand\u001b[39;00m \u001b[38;5;28misinstance\u001b[39m(mapped[\u001b[38;5;241m0\u001b[39m], ABCSeries):\n\u001b[0;32m   1294\u001b[0m     \u001b[38;5;66;03m# GH#43986 Need to do list(mapped) in order to get treated as nested\u001b[39;00m\n\u001b[0;32m   1295\u001b[0m     \u001b[38;5;66;03m#  See also GH#25959 regarding EA support\u001b[39;00m\n\u001b[0;32m   1296\u001b[0m     \u001b[38;5;28;01mreturn\u001b[39;00m obj\u001b[38;5;241m.\u001b[39m_constructor_expanddim(\u001b[38;5;28mlist\u001b[39m(mapped), index\u001b[38;5;241m=\u001b[39mobj\u001b[38;5;241m.\u001b[39mindex)\n",
      "File \u001b[1;32mc:\\Users\\langu\\anaconda3\\envs\\machine\\Lib\\site-packages\\pandas\\core\\base.py:919\u001b[0m, in \u001b[0;36mIndexOpsMixin._map_values\u001b[1;34m(self, mapper, na_action, convert)\u001b[0m\n\u001b[0;32m    916\u001b[0m arr \u001b[38;5;241m=\u001b[39m \u001b[38;5;28mself\u001b[39m\u001b[38;5;241m.\u001b[39m_values\n\u001b[0;32m    918\u001b[0m \u001b[38;5;28;01mif\u001b[39;00m \u001b[38;5;28misinstance\u001b[39m(arr, ExtensionArray):\n\u001b[1;32m--> 919\u001b[0m     \u001b[38;5;28;01mreturn\u001b[39;00m arr\u001b[38;5;241m.\u001b[39mmap(mapper, na_action\u001b[38;5;241m=\u001b[39mna_action)\n\u001b[0;32m    921\u001b[0m \u001b[38;5;28;01mreturn\u001b[39;00m algorithms\u001b[38;5;241m.\u001b[39mmap_array(arr, mapper, na_action\u001b[38;5;241m=\u001b[39mna_action, convert\u001b[38;5;241m=\u001b[39mconvert)\n",
      "File \u001b[1;32mc:\\Users\\langu\\anaconda3\\envs\\machine\\Lib\\site-packages\\pandas\\core\\arrays\\categorical.py:1530\u001b[0m, in \u001b[0;36mCategorical.map\u001b[1;34m(self, mapper, na_action)\u001b[0m\n\u001b[0;32m   1526\u001b[0m     na_action \u001b[38;5;241m=\u001b[39m \u001b[38;5;124m\"\u001b[39m\u001b[38;5;124mignore\u001b[39m\u001b[38;5;124m\"\u001b[39m\n\u001b[0;32m   1528\u001b[0m \u001b[38;5;28;01massert\u001b[39;00m \u001b[38;5;28mcallable\u001b[39m(mapper) \u001b[38;5;129;01mor\u001b[39;00m is_dict_like(mapper)\n\u001b[1;32m-> 1530\u001b[0m new_categories \u001b[38;5;241m=\u001b[39m \u001b[38;5;28mself\u001b[39m\u001b[38;5;241m.\u001b[39mcategories\u001b[38;5;241m.\u001b[39mmap(mapper)\n\u001b[0;32m   1532\u001b[0m has_nans \u001b[38;5;241m=\u001b[39m np\u001b[38;5;241m.\u001b[39many(\u001b[38;5;28mself\u001b[39m\u001b[38;5;241m.\u001b[39m_codes \u001b[38;5;241m==\u001b[39m \u001b[38;5;241m-\u001b[39m\u001b[38;5;241m1\u001b[39m)\n\u001b[0;32m   1534\u001b[0m na_val \u001b[38;5;241m=\u001b[39m np\u001b[38;5;241m.\u001b[39mnan\n",
      "File \u001b[1;32mc:\\Users\\langu\\anaconda3\\envs\\machine\\Lib\\site-packages\\pandas\\core\\indexes\\base.py:6419\u001b[0m, in \u001b[0;36mIndex.map\u001b[1;34m(self, mapper, na_action)\u001b[0m\n\u001b[0;32m   6383\u001b[0m \u001b[38;5;250m\u001b[39m\u001b[38;5;124;03m\"\"\"\u001b[39;00m\n\u001b[0;32m   6384\u001b[0m \u001b[38;5;124;03mMap values using an input mapping or function.\u001b[39;00m\n\u001b[0;32m   6385\u001b[0m \n\u001b[1;32m   (...)\u001b[0m\n\u001b[0;32m   6415\u001b[0m \u001b[38;5;124;03mIndex(['A', 'B', 'C'], dtype='object')\u001b[39;00m\n\u001b[0;32m   6416\u001b[0m \u001b[38;5;124;03m\"\"\"\u001b[39;00m\n\u001b[0;32m   6417\u001b[0m \u001b[38;5;28;01mfrom\u001b[39;00m \u001b[38;5;21;01mpandas\u001b[39;00m\u001b[38;5;21;01m.\u001b[39;00m\u001b[38;5;21;01mcore\u001b[39;00m\u001b[38;5;21;01m.\u001b[39;00m\u001b[38;5;21;01mindexes\u001b[39;00m\u001b[38;5;21;01m.\u001b[39;00m\u001b[38;5;21;01mmulti\u001b[39;00m \u001b[38;5;28;01mimport\u001b[39;00m MultiIndex\n\u001b[1;32m-> 6419\u001b[0m new_values \u001b[38;5;241m=\u001b[39m \u001b[38;5;28mself\u001b[39m\u001b[38;5;241m.\u001b[39m_map_values(mapper, na_action\u001b[38;5;241m=\u001b[39mna_action)\n\u001b[0;32m   6421\u001b[0m \u001b[38;5;66;03m# we can return a MultiIndex\u001b[39;00m\n\u001b[0;32m   6422\u001b[0m \u001b[38;5;28;01mif\u001b[39;00m new_values\u001b[38;5;241m.\u001b[39msize \u001b[38;5;129;01mand\u001b[39;00m \u001b[38;5;28misinstance\u001b[39m(new_values[\u001b[38;5;241m0\u001b[39m], \u001b[38;5;28mtuple\u001b[39m):\n",
      "File \u001b[1;32mc:\\Users\\langu\\anaconda3\\envs\\machine\\Lib\\site-packages\\pandas\\core\\base.py:921\u001b[0m, in \u001b[0;36mIndexOpsMixin._map_values\u001b[1;34m(self, mapper, na_action, convert)\u001b[0m\n\u001b[0;32m    918\u001b[0m \u001b[38;5;28;01mif\u001b[39;00m \u001b[38;5;28misinstance\u001b[39m(arr, ExtensionArray):\n\u001b[0;32m    919\u001b[0m     \u001b[38;5;28;01mreturn\u001b[39;00m arr\u001b[38;5;241m.\u001b[39mmap(mapper, na_action\u001b[38;5;241m=\u001b[39mna_action)\n\u001b[1;32m--> 921\u001b[0m \u001b[38;5;28;01mreturn\u001b[39;00m algorithms\u001b[38;5;241m.\u001b[39mmap_array(arr, mapper, na_action\u001b[38;5;241m=\u001b[39mna_action, convert\u001b[38;5;241m=\u001b[39mconvert)\n",
      "File \u001b[1;32mc:\\Users\\langu\\anaconda3\\envs\\machine\\Lib\\site-packages\\pandas\\core\\algorithms.py:1814\u001b[0m, in \u001b[0;36mmap_array\u001b[1;34m(arr, mapper, na_action, convert)\u001b[0m\n\u001b[0;32m   1812\u001b[0m values \u001b[38;5;241m=\u001b[39m arr\u001b[38;5;241m.\u001b[39mastype(\u001b[38;5;28mobject\u001b[39m, copy\u001b[38;5;241m=\u001b[39m\u001b[38;5;28;01mFalse\u001b[39;00m)\n\u001b[0;32m   1813\u001b[0m \u001b[38;5;28;01mif\u001b[39;00m na_action \u001b[38;5;129;01mis\u001b[39;00m \u001b[38;5;28;01mNone\u001b[39;00m:\n\u001b[1;32m-> 1814\u001b[0m     \u001b[38;5;28;01mreturn\u001b[39;00m lib\u001b[38;5;241m.\u001b[39mmap_infer(values, mapper, convert\u001b[38;5;241m=\u001b[39mconvert)\n\u001b[0;32m   1815\u001b[0m \u001b[38;5;28;01melse\u001b[39;00m:\n\u001b[0;32m   1816\u001b[0m     \u001b[38;5;28;01mreturn\u001b[39;00m lib\u001b[38;5;241m.\u001b[39mmap_infer_mask(\n\u001b[0;32m   1817\u001b[0m         values, mapper, mask\u001b[38;5;241m=\u001b[39misna(values)\u001b[38;5;241m.\u001b[39mview(np\u001b[38;5;241m.\u001b[39muint8), convert\u001b[38;5;241m=\u001b[39mconvert\n\u001b[0;32m   1818\u001b[0m     )\n",
      "File \u001b[1;32mlib.pyx:2926\u001b[0m, in \u001b[0;36mpandas._libs.lib.map_infer\u001b[1;34m()\u001b[0m\n",
      "Cell \u001b[1;32mIn[29], line 1\u001b[0m, in \u001b[0;36m<lambda>\u001b[1;34m(x)\u001b[0m\n\u001b[1;32m----> 1\u001b[0m X[\u001b[38;5;124m'\u001b[39m\u001b[38;5;124mSex\u001b[39m\u001b[38;5;124m'\u001b[39m] \u001b[38;5;241m=\u001b[39m X[\u001b[38;5;124m'\u001b[39m\u001b[38;5;124mSex\u001b[39m\u001b[38;5;124m'\u001b[39m]\u001b[38;5;241m.\u001b[39mapply(\u001b[38;5;28;01mlambda\u001b[39;00m x: {\u001b[38;5;124m\"\u001b[39m\u001b[38;5;124mM\u001b[39m\u001b[38;5;124m\"\u001b[39m: \u001b[38;5;241m1.0\u001b[39m, \u001b[38;5;124m\"\u001b[39m\u001b[38;5;124mI\u001b[39m\u001b[38;5;124m\"\u001b[39m: \u001b[38;5;241m0.0\u001b[39m, \u001b[38;5;124m\"\u001b[39m\u001b[38;5;124mF\u001b[39m\u001b[38;5;124m\"\u001b[39m: \u001b[38;5;241m-\u001b[39m\u001b[38;5;241m1.0\u001b[39m}[x])\n",
      "\u001b[1;31mKeyError\u001b[0m: -1.0"
     ]
    }
   ],
   "source": [
    "X['Sex'] = X['Sex'].apply(lambda x: {\"M\": 1.0, \"I\": 0.0, \"F\": -1.0}[x])"
   ]
  },
  {
   "cell_type": "code",
   "execution_count": 24,
   "metadata": {},
   "outputs": [],
   "source": [
    "from sklearn.ensemble import RandomForestRegressor\n",
    "\n",
    "reg = RandomForestRegressor(n_estimators=100, max_depth=None)"
   ]
  },
  {
   "cell_type": "code",
   "execution_count": 25,
   "metadata": {},
   "outputs": [
    {
     "data": {
      "text/plain": [
       "0.9357510573654358"
      ]
     },
     "execution_count": 25,
     "metadata": {},
     "output_type": "execute_result"
    }
   ],
   "source": [
    "reg.fit(X,y)\n",
    "reg.score(X,y)"
   ]
  },
  {
   "cell_type": "code",
   "execution_count": 33,
   "metadata": {},
   "outputs": [
    {
     "data": {
      "text/plain": [
       "{'fit_time': array([3.62879682, 3.43330908, 3.44828081]),\n",
       " 'score_time': array([0.02916861, 0.02509594, 0.03243518]),\n",
       " 'test_score': array([0.53750318, 0.52367514, 0.49130489])}"
      ]
     },
     "execution_count": 33,
     "metadata": {},
     "output_type": "execute_result"
    }
   ],
   "source": [
    "from sklearn.model_selection import cross_validate\n",
    "\n",
    "scores = cross_validate(reg, X, y, cv=3)\n",
    "scores"
   ]
  },
  {
   "cell_type": "code",
   "execution_count": 34,
   "metadata": {},
   "outputs": [
    {
     "data": {
      "text/plain": [
       "0.5174943997730351"
      ]
     },
     "execution_count": 34,
     "metadata": {},
     "output_type": "execute_result"
    }
   ],
   "source": [
    "np.mean(scores[\"test_score\"])"
   ]
  }
 ],
 "metadata": {
  "kernelspec": {
   "display_name": "machine",
   "language": "python",
   "name": "python3"
  },
  "language_info": {
   "codemirror_mode": {
    "name": "ipython",
    "version": 3
   },
   "file_extension": ".py",
   "mimetype": "text/x-python",
   "name": "python",
   "nbconvert_exporter": "python",
   "pygments_lexer": "ipython3",
   "version": "3.11.8"
  }
 },
 "nbformat": 4,
 "nbformat_minor": 2
}
