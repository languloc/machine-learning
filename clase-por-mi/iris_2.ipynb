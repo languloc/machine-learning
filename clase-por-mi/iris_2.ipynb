{
 "cells": [
  {
   "cell_type": "code",
   "execution_count": 9,
   "metadata": {},
   "outputs": [],
   "source": [
    "import numpy as np\n",
    "from sklearn.datasets import load_iris\n",
    "from sklearn.model_selection import cross_validate, train_test_split\n",
    "from sklearn.neighbors import KNeighborsClassifier\n",
    "from sklearn.pipeline import Pipeline\n",
    "from sklearn.decomposition import PCA\n",
    "from sklearn.discriminant_analysis import LinearDiscriminantAnalysis as LDA\n",
    "\n",
    "X, y = load_iris(return_X_y=True)"
   ]
  },
  {
   "cell_type": "code",
   "execution_count": 10,
   "metadata": {},
   "outputs": [
    {
     "name": "stdout",
     "output_type": "stream",
     "text": [
      "Trai accurancy: 0.9733333333333334\n"
     ]
    }
   ],
   "source": [
    "# El código crea un modelo que combina PCA para reducir datos a 2 dimensiones y KNN con 5 vecinos, lo entrena con X, y, y muestra su precisión.\n",
    "\n",
    "n_neighbors = 5\n",
    "estimator = Pipeline ([\n",
    "    (\"lda\", LDA(n_components=2)),\n",
    "    (\"km\", KNeighborsClassifier(n_neighbors=n_neighbors))\n",
    "])\n",
    "\n",
    "estimator.fit(X,y)\n",
    "score = estimator.score(X,y)\n",
    "print(f\"Trai accurancy: {score}\")"
   ]
  },
  {
   "cell_type": "code",
   "execution_count": 11,
   "metadata": {},
   "outputs": [
    {
     "name": "stdout",
     "output_type": "stream",
     "text": [
      "Train accuracy: 0.9666666666666667\n",
      "Cross validation results: {'fit_time': array([0.00399041, 0.00221395, 0.00221086, 0.00171828, 0.00329757,\n",
      "       0.00320721, 0.00384307, 0.00398278, 0.        ]), 'score_time': array([0.00278807, 0.00218701, 0.0022893 , 0.00050783, 0.00395155,\n",
      "       0.00063562, 0.        , 0.        , 0.00392365]), 'test_score': array([1.        , 1.        , 1.        , 0.94117647, 0.94117647,\n",
      "       0.76470588, 0.9375    , 1.        , 1.        ])}, CV Accuracy: 0.9538398692810459\n"
     ]
    }
   ],
   "source": [
    "X_train, X_test, y_train, y_test = train_test_split(X, y , test_size=0.2, stratify=y)\n",
    "estimator.fit(X_train, y_train)\n",
    "score = estimator.score(X_test, y_test)\n",
    "print(f'Train accuracy: {score}')\n",
    "\n",
    "cv_results = cross_validate(estimator, X=X, y=y, cv=9)\n",
    "print(f\"Cross validation results: {cv_results}, CV Accuracy: {np.mean(cv_results['test_score'])}\")"
   ]
  }
 ],
 "metadata": {
  "kernelspec": {
   "display_name": "machine",
   "language": "python",
   "name": "python3"
  },
  "language_info": {
   "codemirror_mode": {
    "name": "ipython",
    "version": 3
   },
   "file_extension": ".py",
   "mimetype": "text/x-python",
   "name": "python",
   "nbconvert_exporter": "python",
   "pygments_lexer": "ipython3",
   "version": "3.11.8"
  }
 },
 "nbformat": 4,
 "nbformat_minor": 2
}
