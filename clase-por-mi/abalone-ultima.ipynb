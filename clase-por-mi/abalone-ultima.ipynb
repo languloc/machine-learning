{
 "cells": [
  {
   "cell_type": "code",
   "execution_count": null,
   "metadata": {},
   "outputs": [],
   "source": [
    "# Ejercicio 1: • Abalone dataset • Grid search Random Forest • Revisar resultados de la búsqueda"
   ]
  },
  {
   "cell_type": "code",
   "execution_count": 2,
   "metadata": {},
   "outputs": [
    {
     "name": "stderr",
     "output_type": "stream",
     "text": [
      "c:\\Users\\langu\\anaconda3\\envs\\machine\\Lib\\site-packages\\sklearn\\datasets\\_openml.py:303: UserWarning: Multiple active versions of the dataset matching the name abalone exist. Versions may be fundamentally different, returning version 1.\n",
      "  warn(\n",
      "c:\\Users\\langu\\anaconda3\\envs\\machine\\Lib\\site-packages\\sklearn\\datasets\\_openml.py:1002: FutureWarning: The default value of `parser` will change from `'liac-arff'` to `'auto'` in 1.4. You can set `parser='auto'` to silence this warning. Therefore, an `ImportError` will be raised from 1.4 if the dataset is dense and pandas is not installed. Note that the pandas parser may return different data types. See the Notes Section in fetch_openml's API doc for details.\n",
      "  warn(\n"
     ]
    },
    {
     "data": {
      "text/plain": [
       "{'data':      Sex  Length  Diameter  Height  Whole_weight  Shucked_weight  \\\n",
       " 0      M   0.455     0.365   0.095        0.5140          0.2245   \n",
       " 1      M   0.350     0.265   0.090        0.2255          0.0995   \n",
       " 2      F   0.530     0.420   0.135        0.6770          0.2565   \n",
       " 3      M   0.440     0.365   0.125        0.5160          0.2155   \n",
       " 4      I   0.330     0.255   0.080        0.2050          0.0895   \n",
       " ...   ..     ...       ...     ...           ...             ...   \n",
       " 4172   F   0.565     0.450   0.165        0.8870          0.3700   \n",
       " 4173   M   0.590     0.440   0.135        0.9660          0.4390   \n",
       " 4174   M   0.600     0.475   0.205        1.1760          0.5255   \n",
       " 4175   F   0.625     0.485   0.150        1.0945          0.5310   \n",
       " 4176   M   0.710     0.555   0.195        1.9485          0.9455   \n",
       " \n",
       "       Viscera_weight  Shell_weight  \n",
       " 0             0.1010        0.1500  \n",
       " 1             0.0485        0.0700  \n",
       " 2             0.1415        0.2100  \n",
       " 3             0.1140        0.1550  \n",
       " 4             0.0395        0.0550  \n",
       " ...              ...           ...  \n",
       " 4172          0.2390        0.2490  \n",
       " 4173          0.2145        0.2605  \n",
       " 4174          0.2875        0.3080  \n",
       " 4175          0.2610        0.2960  \n",
       " 4176          0.3765        0.4950  \n",
       " \n",
       " [4177 rows x 8 columns],\n",
       " 'target': 0       15\n",
       " 1        7\n",
       " 2        9\n",
       " 3       10\n",
       " 4        7\n",
       "         ..\n",
       " 4172    11\n",
       " 4173    10\n",
       " 4174     9\n",
       " 4175    10\n",
       " 4176    12\n",
       " Name: Class_number_of_rings, Length: 4177, dtype: category\n",
       " Categories (28, object): ['1', '10', '11', '12', ..., '6', '7', '8', '9'],\n",
       " 'frame':      Sex  Length  Diameter  Height  Whole_weight  Shucked_weight  \\\n",
       " 0      M   0.455     0.365   0.095        0.5140          0.2245   \n",
       " 1      M   0.350     0.265   0.090        0.2255          0.0995   \n",
       " 2      F   0.530     0.420   0.135        0.6770          0.2565   \n",
       " 3      M   0.440     0.365   0.125        0.5160          0.2155   \n",
       " 4      I   0.330     0.255   0.080        0.2050          0.0895   \n",
       " ...   ..     ...       ...     ...           ...             ...   \n",
       " 4172   F   0.565     0.450   0.165        0.8870          0.3700   \n",
       " 4173   M   0.590     0.440   0.135        0.9660          0.4390   \n",
       " 4174   M   0.600     0.475   0.205        1.1760          0.5255   \n",
       " 4175   F   0.625     0.485   0.150        1.0945          0.5310   \n",
       " 4176   M   0.710     0.555   0.195        1.9485          0.9455   \n",
       " \n",
       "       Viscera_weight  Shell_weight Class_number_of_rings  \n",
       " 0             0.1010        0.1500                    15  \n",
       " 1             0.0485        0.0700                     7  \n",
       " 2             0.1415        0.2100                     9  \n",
       " 3             0.1140        0.1550                    10  \n",
       " 4             0.0395        0.0550                     7  \n",
       " ...              ...           ...                   ...  \n",
       " 4172          0.2390        0.2490                    11  \n",
       " 4173          0.2145        0.2605                    10  \n",
       " 4174          0.2875        0.3080                     9  \n",
       " 4175          0.2610        0.2960                    10  \n",
       " 4176          0.3765        0.4950                    12  \n",
       " \n",
       " [4177 rows x 9 columns],\n",
       " 'categories': None,\n",
       " 'feature_names': ['Sex',\n",
       "  'Length',\n",
       "  'Diameter',\n",
       "  'Height',\n",
       "  'Whole_weight',\n",
       "  'Shucked_weight',\n",
       "  'Viscera_weight',\n",
       "  'Shell_weight'],\n",
       " 'target_names': ['Class_number_of_rings'],\n",
       " 'DESCR': '**Author**:   \\n**Source**: Unknown -   \\n**Please cite**:   \\n\\n1. Title of Database: Abalone data\\n \\n 2. Sources:\\n \\n    (a) Original owners of database:\\n \\tMarine Resources Division\\n \\tMarine Research Laboratories - Taroona\\n \\tDepartment of Primary Industry and Fisheries, Tasmania\\n \\tGPO Box 619F, Hobart, Tasmania 7001, Australia\\n \\t(contact: Warwick Nash +61 02 277277, wnash@dpi.tas.gov.au)\\n \\n    (b) Donor of database:\\n \\tSam Waugh (Sam.Waugh@cs.utas.edu.au)\\n \\tDepartment of Computer Science, University of Tasmania\\n \\tGPO Box 252C, Hobart, Tasmania 7001, Australia\\n \\n    (c) Date received: December 1995\\n \\n \\n 3. Past Usage:\\n \\n    Sam Waugh (1995) \"Extending and benchmarking Cascade-Correlation\", PhD\\n    thesis, Computer Science Department, University of Tasmania.\\n \\n    -- Test set performance (final 1044 examples, first 3133 used for training):\\n \\t24.86% Cascade-Correlation (no hidden nodes)\\n \\t26.25% Cascade-Correlation (5 hidden nodes)\\n \\t21.5%  C4.5\\n \\t 0.0%  Linear Discriminate Analysis\\n \\t 3.57% k=5 Nearest Neighbour\\n       (Problem encoded as a classification task)\\n \\n    -- Data set samples are highly overlapped.  Further information is required\\n \\tto separate completely using affine combinations.  Other restrictions\\n \\tto data set examined.\\n \\n    David Clark, Zoltan Schreter, Anthony Adams \"A Quantitative Comparison of\\n    Dystal and Backpropagation\", submitted to the Australian Conference on\\n    Neural Networks (ACNN\\'96). Data set treated as a 3-category classification\\n    problem (grouping ring classes 1-8, 9 and 10, and 11 on).\\n \\n    -- Test set performance (3133 training, 1044 testing as above):\\n \\t64%    Backprop\\n \\t55%    Dystal\\n    -- Previous work (Waugh, 1995) on same data set:\\n \\t61.40% Cascade-Correlation (no hidden nodes)\\n \\t65.61% Cascade-Correlation (5 hidden nodes)\\n \\t59.2%  C4.5\\n \\t32.57% Linear Discriminate Analysis\\n \\t62.46% k=5 Nearest Neighbour\\n \\n \\n 4. Relevant Information Paragraph:\\n \\n    Predicting the age of abalone from physical measurements.  The age of\\n    abalone is determined by cutting the shell through the cone, staining it,\\n    and counting the number of rings through a microscope -- a boring and\\n    time-consuming task.  Other measurements, which are easier to obtain, are\\n    used to predict the age.  Further information, such as weather patterns\\n    and location (hence food availability) may be required to solve the problem.\\n \\n    From the original data examples with missing values were removed (the\\n    majority having the predicted value missing), and the ranges of the\\n    continuous values have been scaled for use with an ANN (by dividing by 200).\\n \\n    Data comes from an original (non-machine-learning) study:\\n \\n \\tWarwick J Nash, Tracy L Sellers, Simon R Talbot, Andrew J Cawthorn and\\n \\tWes B Ford (1994) \"The Population Biology of Abalone (_Haliotis_\\n \\tspecies) in Tasmania. I. Blacklip Abalone (_H. rubra_) from the North\\n \\tCoast and Islands of Bass Strait\", Sea Fisheries Division, Technical\\n \\tReport No. 48 (ISSN 1034-3288)\\n \\n \\n 5. Number of Instances: 4177\\n \\n \\n 6. Number of Attributes: 8\\n \\n \\n 7. Attribute information:\\n \\n    Given is the attribute name, attribute type, the measurement unit and a\\n    brief description.  The number of rings is the value to predict: either\\n    as a continuous value or as a classification problem.\\n \\n \\tName\\t\\tData Type\\tMeas.\\tDescription\\n \\t----\\t\\t---------\\t-----\\t-----------\\n \\tSex\\t\\tnominal\\t\\t\\tM, F, and I (infant)\\n \\tLength\\t\\tcontinuous\\tmm\\tLongest shell measurement\\n \\tDiameter\\tcontinuous\\tmm\\tperpendicular to length\\n \\tHeight\\t\\tcontinuous\\tmm\\twith meat in shell\\n \\tWhole weight\\tcontinuous\\tgrams\\twhole abalone\\n \\tShucked weight\\tcontinuous\\tgrams\\tweight of meat\\n \\tViscera weight\\tcontinuous\\tgrams\\tgut weight (after bleeding)\\n \\tShell weight\\tcontinuous\\tgrams\\tafter being dried\\n \\tRings\\t\\tinteger\\t\\t\\t+1.5 gives the age in years\\n \\n    Statistics for numeric domains:\\n \\n \\t\\tLength\\tDiam\\tHeight\\tWhole\\tShucked\\tViscera\\tShell\\tRings\\n \\tMin\\t0.075\\t0.055\\t0.000\\t0.002\\t0.001\\t0.001\\t0.002\\t    1\\n \\tMax\\t0.815\\t0.650\\t1.130\\t2.826\\t1.488\\t0.760\\t1.005\\t   29\\n \\tMean\\t0.524\\t0.408\\t0.140\\t0.829\\t0.359\\t0.181\\t0.239\\t9.934\\n \\tSD\\t0.120\\t0.099\\t0.042\\t0.490\\t0.222\\t0.110\\t0.139\\t3.224\\n \\tCorrel\\t0.557\\t0.575\\t0.557\\t0.540\\t0.421\\t0.504\\t0.628\\t  1.0\\n \\n \\n 8. Missing Attribute Values: None\\n \\n \\n 9. Class Distribution:\\n \\n \\tClass\\tExamples\\n \\t-----\\t--------\\n \\t1\\t1\\n \\t2\\t1\\n \\t3\\t15\\n \\t4\\t57\\n \\t5\\t115\\n \\t6\\t259\\n \\t7\\t391\\n \\t8\\t568\\n \\t9\\t689\\n \\t10\\t634\\n \\t11\\t487\\n \\t12\\t267\\n \\t13\\t203\\n \\t14\\t126\\n \\t15\\t103\\n \\t16\\t67\\n \\t17\\t58\\n \\t18\\t42\\n \\t19\\t32\\n \\t20\\t26\\n \\t21\\t14\\n \\t22\\t6\\n \\t23\\t9\\n \\t24\\t2\\n \\t25\\t1\\n \\t26\\t1\\n \\t27\\t2\\n \\t29\\t1\\n \\t-----\\t----\\n \\tTotal\\t4177\\n \\n Num Instances:     4177\\n Num Attributes:    9\\n Num Continuous:    8 (Int 1 / Real 7)\\n Num Discrete:      1\\n Missing values:    0 /  0.0%\\n\\n     name                      type enum ints real     missing    distinct  (1)\\n   1 \\'Sex\\'                     Enum 100%   0%   0%     0 /  0%     3 /  0%   0% \\n   2 \\'Length\\'                  Real   0%   0% 100%     0 /  0%   134 /  3%   0% \\n   3 \\'Diameter\\'                Real   0%   0% 100%     0 /  0%   111 /  3%   0% \\n   4 \\'Height\\'                  Real   0%   0% 100%     0 /  0%    51 /  1%   0% \\n   5 \\'Whole weight\\'            Real   0%   0% 100%     0 /  0%  2429 / 58%  31% \\n   6 \\'Shucked weight\\'          Real   0%   0% 100%     0 /  0%  1515 / 36%  10% \\n   7 \\'Viscera weight\\'          Real   0%   0% 100%     0 /  0%   880 / 21%   3% \\n   8 \\'Shell weight\\'            Real   0%   0% 100%     0 /  0%   926 / 22%   8% \\n   9 \\'Class_Rings\\'             Int    0% 100%   0%     0 /  0%    28 /  1%   0%\\n\\nDownloaded from openml.org.',\n",
       " 'details': {'id': '183',\n",
       "  'name': 'abalone',\n",
       "  'version': '1',\n",
       "  'description_version': '1',\n",
       "  'format': 'ARFF',\n",
       "  'contributor': 'S. Waugh',\n",
       "  'collection_date': '12/1995',\n",
       "  'upload_date': '2014-04-23T13:15:04',\n",
       "  'language': 'English',\n",
       "  'licence': 'Public',\n",
       "  'url': 'https://api.openml.org/data/v1/download/3620/abalone.arff',\n",
       "  'parquet_url': 'https://openml1.win.tue.nl/datasets/0000/0183/dataset_183.pq',\n",
       "  'file_id': '3620',\n",
       "  'default_target_attribute': 'Class_number_of_rings',\n",
       "  'version_label': '1',\n",
       "  'tag': ['Life Science',\n",
       "   'Machine Learning',\n",
       "   'study_1',\n",
       "   'study_130',\n",
       "   'study_14',\n",
       "   'study_34',\n",
       "   'study_37',\n",
       "   'study_41',\n",
       "   'study_7',\n",
       "   'study_70',\n",
       "   'study_76'],\n",
       "  'visibility': 'public',\n",
       "  'minio_url': 'https://openml1.win.tue.nl/datasets/0000/0183/dataset_183.pq',\n",
       "  'status': 'active',\n",
       "  'processing_date': '2020-11-20 19:31:03',\n",
       "  'md5_checksum': 'a9555b1cfe39eb55df2c520f09172a96'},\n",
       " 'url': 'https://www.openml.org/d/183'}"
      ]
     },
     "execution_count": 2,
     "metadata": {},
     "output_type": "execute_result"
    }
   ],
   "source": [
    "import numpy as np\n",
    "from sklearn.datasets import fetch_openml\n",
    "\n",
    "abalone = fetch_openml(\"abalone\")\n",
    "abalone"
   ]
  },
  {
   "cell_type": "code",
   "execution_count": 5,
   "metadata": {},
   "outputs": [
    {
     "name": "stderr",
     "output_type": "stream",
     "text": [
      "c:\\Users\\langu\\anaconda3\\envs\\machine\\Lib\\site-packages\\sklearn\\datasets\\_openml.py:303: UserWarning: Multiple active versions of the dataset matching the name abalone exist. Versions may be fundamentally different, returning version 1.\n",
      "  warn(\n",
      "c:\\Users\\langu\\anaconda3\\envs\\machine\\Lib\\site-packages\\sklearn\\datasets\\_openml.py:1002: FutureWarning: The default value of `parser` will change from `'liac-arff'` to `'auto'` in 1.4. You can set `parser='auto'` to silence this warning. Therefore, an `ImportError` will be raised from 1.4 if the dataset is dense and pandas is not installed. Note that the pandas parser may return different data types. See the Notes Section in fetch_openml's API doc for details.\n",
      "  warn(\n"
     ]
    }
   ],
   "source": [
    "X, y = fetch_openml(name=\"abalone\", return_X_y=True)\n",
    "# La variable \"Sex\" puede tomar valores M (Male), F (Female) o I (Infant), y\n",
    "# parece que lo mejor es que I tome un valor intermedio entre M y F puesto que\n",
    "# puede acabar en cualquiera de esas dos clases pasado un tiempo\n",
    "X[\"Sex\"] = X[\"Sex\"].apply(lambda x: {\"M\": 1.0, \"I\": 0.0, \"F\": -1.0}[x])\n",
    "y = y.astype(np.float32)"
   ]
  },
  {
   "cell_type": "code",
   "execution_count": 13,
   "metadata": {},
   "outputs": [],
   "source": [
    "from sklearn.ensemble import RandomForestRegressor\n",
    "from sklearn.model_selection import GridSearchCV"
   ]
  },
  {
   "cell_type": "code",
   "execution_count": 19,
   "metadata": {},
   "outputs": [],
   "source": [
    "estimator = RandomForestRegressor()\n",
    "grid = {\"n_estimators\": [20, 50, 100], \"max_depth\": [2, 4, 6]}\n",
    "\n",
    "search = GridSearchCV(estimator, grid, cv = 3)"
   ]
  },
  {
   "cell_type": "code",
   "execution_count": 20,
   "metadata": {},
   "outputs": [
    {
     "data": {
      "text/html": [
       "<style>#sk-container-id-3 {color: black;}#sk-container-id-3 pre{padding: 0;}#sk-container-id-3 div.sk-toggleable {background-color: white;}#sk-container-id-3 label.sk-toggleable__label {cursor: pointer;display: block;width: 100%;margin-bottom: 0;padding: 0.3em;box-sizing: border-box;text-align: center;}#sk-container-id-3 label.sk-toggleable__label-arrow:before {content: \"▸\";float: left;margin-right: 0.25em;color: #696969;}#sk-container-id-3 label.sk-toggleable__label-arrow:hover:before {color: black;}#sk-container-id-3 div.sk-estimator:hover label.sk-toggleable__label-arrow:before {color: black;}#sk-container-id-3 div.sk-toggleable__content {max-height: 0;max-width: 0;overflow: hidden;text-align: left;background-color: #f0f8ff;}#sk-container-id-3 div.sk-toggleable__content pre {margin: 0.2em;color: black;border-radius: 0.25em;background-color: #f0f8ff;}#sk-container-id-3 input.sk-toggleable__control:checked~div.sk-toggleable__content {max-height: 200px;max-width: 100%;overflow: auto;}#sk-container-id-3 input.sk-toggleable__control:checked~label.sk-toggleable__label-arrow:before {content: \"▾\";}#sk-container-id-3 div.sk-estimator input.sk-toggleable__control:checked~label.sk-toggleable__label {background-color: #d4ebff;}#sk-container-id-3 div.sk-label input.sk-toggleable__control:checked~label.sk-toggleable__label {background-color: #d4ebff;}#sk-container-id-3 input.sk-hidden--visually {border: 0;clip: rect(1px 1px 1px 1px);clip: rect(1px, 1px, 1px, 1px);height: 1px;margin: -1px;overflow: hidden;padding: 0;position: absolute;width: 1px;}#sk-container-id-3 div.sk-estimator {font-family: monospace;background-color: #f0f8ff;border: 1px dotted black;border-radius: 0.25em;box-sizing: border-box;margin-bottom: 0.5em;}#sk-container-id-3 div.sk-estimator:hover {background-color: #d4ebff;}#sk-container-id-3 div.sk-parallel-item::after {content: \"\";width: 100%;border-bottom: 1px solid gray;flex-grow: 1;}#sk-container-id-3 div.sk-label:hover label.sk-toggleable__label {background-color: #d4ebff;}#sk-container-id-3 div.sk-serial::before {content: \"\";position: absolute;border-left: 1px solid gray;box-sizing: border-box;top: 0;bottom: 0;left: 50%;z-index: 0;}#sk-container-id-3 div.sk-serial {display: flex;flex-direction: column;align-items: center;background-color: white;padding-right: 0.2em;padding-left: 0.2em;position: relative;}#sk-container-id-3 div.sk-item {position: relative;z-index: 1;}#sk-container-id-3 div.sk-parallel {display: flex;align-items: stretch;justify-content: center;background-color: white;position: relative;}#sk-container-id-3 div.sk-item::before, #sk-container-id-3 div.sk-parallel-item::before {content: \"\";position: absolute;border-left: 1px solid gray;box-sizing: border-box;top: 0;bottom: 0;left: 50%;z-index: -1;}#sk-container-id-3 div.sk-parallel-item {display: flex;flex-direction: column;z-index: 1;position: relative;background-color: white;}#sk-container-id-3 div.sk-parallel-item:first-child::after {align-self: flex-end;width: 50%;}#sk-container-id-3 div.sk-parallel-item:last-child::after {align-self: flex-start;width: 50%;}#sk-container-id-3 div.sk-parallel-item:only-child::after {width: 0;}#sk-container-id-3 div.sk-dashed-wrapped {border: 1px dashed gray;margin: 0 0.4em 0.5em 0.4em;box-sizing: border-box;padding-bottom: 0.4em;background-color: white;}#sk-container-id-3 div.sk-label label {font-family: monospace;font-weight: bold;display: inline-block;line-height: 1.2em;}#sk-container-id-3 div.sk-label-container {text-align: center;}#sk-container-id-3 div.sk-container {/* jupyter's `normalize.less` sets `[hidden] { display: none; }` but bootstrap.min.css set `[hidden] { display: none !important; }` so we also need the `!important` here to be able to override the default hidden behavior on the sphinx rendered scikit-learn.org. See: https://github.com/scikit-learn/scikit-learn/issues/21755 */display: inline-block !important;position: relative;}#sk-container-id-3 div.sk-text-repr-fallback {display: none;}</style><div id=\"sk-container-id-3\" class=\"sk-top-container\"><div class=\"sk-text-repr-fallback\"><pre>GridSearchCV(cv=3, estimator=RandomForestRegressor(),\n",
       "             param_grid={&#x27;max_depth&#x27;: [2, 4, 6], &#x27;n_estimators&#x27;: [20, 50, 100]})</pre><b>In a Jupyter environment, please rerun this cell to show the HTML representation or trust the notebook. <br />On GitHub, the HTML representation is unable to render, please try loading this page with nbviewer.org.</b></div><div class=\"sk-container\" hidden><div class=\"sk-item sk-dashed-wrapped\"><div class=\"sk-label-container\"><div class=\"sk-label sk-toggleable\"><input class=\"sk-toggleable__control sk-hidden--visually\" id=\"sk-estimator-id-3\" type=\"checkbox\" ><label for=\"sk-estimator-id-3\" class=\"sk-toggleable__label sk-toggleable__label-arrow\">GridSearchCV</label><div class=\"sk-toggleable__content\"><pre>GridSearchCV(cv=3, estimator=RandomForestRegressor(),\n",
       "             param_grid={&#x27;max_depth&#x27;: [2, 4, 6], &#x27;n_estimators&#x27;: [20, 50, 100]})</pre></div></div></div><div class=\"sk-parallel\"><div class=\"sk-parallel-item\"><div class=\"sk-item\"><div class=\"sk-label-container\"><div class=\"sk-label sk-toggleable\"><input class=\"sk-toggleable__control sk-hidden--visually\" id=\"sk-estimator-id-4\" type=\"checkbox\" ><label for=\"sk-estimator-id-4\" class=\"sk-toggleable__label sk-toggleable__label-arrow\">estimator: RandomForestRegressor</label><div class=\"sk-toggleable__content\"><pre>RandomForestRegressor()</pre></div></div></div><div class=\"sk-serial\"><div class=\"sk-item\"><div class=\"sk-estimator sk-toggleable\"><input class=\"sk-toggleable__control sk-hidden--visually\" id=\"sk-estimator-id-5\" type=\"checkbox\" ><label for=\"sk-estimator-id-5\" class=\"sk-toggleable__label sk-toggleable__label-arrow\">RandomForestRegressor</label><div class=\"sk-toggleable__content\"><pre>RandomForestRegressor()</pre></div></div></div></div></div></div></div></div></div></div>"
      ],
      "text/plain": [
       "GridSearchCV(cv=3, estimator=RandomForestRegressor(),\n",
       "             param_grid={'max_depth': [2, 4, 6], 'n_estimators': [20, 50, 100]})"
      ]
     },
     "execution_count": 20,
     "metadata": {},
     "output_type": "execute_result"
    }
   ],
   "source": [
    "search.fit(X, y)"
   ]
  },
  {
   "cell_type": "code",
   "execution_count": 21,
   "metadata": {},
   "outputs": [
    {
     "data": {
      "text/plain": [
       "array([ 9.70540784,  8.23072085, 10.8302553 , ..., 10.96657943,\n",
       "       10.2945569 , 11.62550594])"
      ]
     },
     "execution_count": 21,
     "metadata": {},
     "output_type": "execute_result"
    }
   ],
   "source": [
    "search.predict(X)"
   ]
  },
  {
   "cell_type": "code",
   "execution_count": 22,
   "metadata": {},
   "outputs": [
    {
     "data": {
      "text/plain": [
       "{'mean_fit_time': array([0.10244203, 0.2361598 , 0.52567959, 0.18150926, 0.4279987 ,\n",
       "        0.87490431, 0.27668484, 0.7053469 , 1.41479802]),\n",
       " 'std_fit_time': array([0.00494003, 0.00959185, 0.01793836, 0.01069832, 0.01126351,\n",
       "        0.03397666, 0.02137592, 0.03051938, 0.02759709]),\n",
       " 'mean_score_time': array([0.00400027, 0.00633454, 0.01064714, 0.00433389, 0.00774487,\n",
       "        0.01318955, 0.00483823, 0.00974774, 0.02068178]),\n",
       " 'std_score_time': array([1.74478677e-06, 1.87873856e-03, 2.28397121e-03, 1.24581482e-03,\n",
       "        2.69721588e-03, 2.07532263e-03, 2.29302738e-04, 1.80833069e-03,\n",
       "        6.36225321e-03]),\n",
       " 'param_max_depth': masked_array(data=[2, 2, 2, 4, 4, 4, 6, 6, 6],\n",
       "              mask=[False, False, False, False, False, False, False, False,\n",
       "                    False],\n",
       "        fill_value='?',\n",
       "             dtype=object),\n",
       " 'param_n_estimators': masked_array(data=[20, 50, 100, 20, 50, 100, 20, 50, 100],\n",
       "              mask=[False, False, False, False, False, False, False, False,\n",
       "                    False],\n",
       "        fill_value='?',\n",
       "             dtype=object),\n",
       " 'params': [{'max_depth': 2, 'n_estimators': 20},\n",
       "  {'max_depth': 2, 'n_estimators': 50},\n",
       "  {'max_depth': 2, 'n_estimators': 100},\n",
       "  {'max_depth': 4, 'n_estimators': 20},\n",
       "  {'max_depth': 4, 'n_estimators': 50},\n",
       "  {'max_depth': 4, 'n_estimators': 100},\n",
       "  {'max_depth': 6, 'n_estimators': 20},\n",
       "  {'max_depth': 6, 'n_estimators': 50},\n",
       "  {'max_depth': 6, 'n_estimators': 100}],\n",
       " 'split0_test_score': array([0.3552634 , 0.36070372, 0.35891632, 0.4822224 , 0.47895814,\n",
       "        0.48635057, 0.51502274, 0.52310595, 0.52591239]),\n",
       " 'split1_test_score': array([0.38075764, 0.37583623, 0.37445274, 0.51044185, 0.50992115,\n",
       "        0.51464921, 0.52667953, 0.53621249, 0.54899312]),\n",
       " 'split2_test_score': array([0.35802017, 0.36571754, 0.36761205, 0.48643228, 0.48870985,\n",
       "        0.49253203, 0.50364546, 0.50930692, 0.51263635]),\n",
       " 'mean_test_score': array([0.3646804 , 0.36741916, 0.3669937 , 0.49303218, 0.49252971,\n",
       "        0.49784394, 0.51511591, 0.52287512, 0.52918062]),\n",
       " 'std_test_score': array([0.0114239 , 0.0062939 , 0.00635777, 0.01242989, 0.01292595,\n",
       "        0.01214813, 0.00940385, 0.01098537, 0.01502142]),\n",
       " 'rank_test_score': array([9, 7, 8, 5, 6, 4, 3, 2, 1])}"
      ]
     },
     "execution_count": 22,
     "metadata": {},
     "output_type": "execute_result"
    }
   ],
   "source": [
    "search.cv_results_"
   ]
  },
  {
   "cell_type": "code",
   "execution_count": 23,
   "metadata": {},
   "outputs": [],
   "source": [
    "from sklearn.model_selection import cross_validate\n",
    "\n",
    "scores = cross_validate(search, X, y, cv=3)"
   ]
  },
  {
   "cell_type": "code",
   "execution_count": 24,
   "metadata": {},
   "outputs": [
    {
     "data": {
      "text/plain": [
       "{'fit_time': array([12.39679098, 12.32968163, 12.11736202]),\n",
       " 'score_time': array([0.01400042, 0.01638532, 0.0149982 ]),\n",
       " 'test_score': array([0.52634822, 0.54612575, 0.50995974])}"
      ]
     },
     "execution_count": 24,
     "metadata": {},
     "output_type": "execute_result"
    }
   ],
   "source": [
    "scores"
   ]
  },
  {
   "cell_type": "code",
   "execution_count": 25,
   "metadata": {},
   "outputs": [
    {
     "data": {
      "text/plain": [
       "0.5274779050685933"
      ]
     },
     "execution_count": 25,
     "metadata": {},
     "output_type": "execute_result"
    }
   ],
   "source": [
    "np.mean(scores[\"test_score\"])"
   ]
  }
 ],
 "metadata": {
  "kernelspec": {
   "display_name": "machine",
   "language": "python",
   "name": "python3"
  },
  "language_info": {
   "codemirror_mode": {
    "name": "ipython",
    "version": 3
   },
   "file_extension": ".py",
   "mimetype": "text/x-python",
   "name": "python",
   "nbconvert_exporter": "python",
   "pygments_lexer": "ipython3",
   "version": "3.11.8"
  }
 },
 "nbformat": 4,
 "nbformat_minor": 2
}
