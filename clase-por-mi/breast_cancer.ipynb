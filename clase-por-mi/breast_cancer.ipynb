{
 "cells": [
  {
   "cell_type": "code",
   "execution_count": 14,
   "metadata": {},
   "outputs": [],
   "source": [
    "from sklearn.datasets import load_breast_cancer\n",
    "from sklearn.svm import SVC\n",
    "from sklearn.model_selection import StratifiedKFold\n",
    "from sklearn.feature_selection import RFECV\n",
    "import matplotlib.pyplot as plt\n",
    "from sklearn.linear_model import LogisticRegression"
   ]
  },
  {
   "cell_type": "code",
   "execution_count": 3,
   "metadata": {},
   "outputs": [],
   "source": [
    "# Cargar el dataset de cáncer de mama\n",
    "X, y = load_breast_cancer(return_X_y=True)"
   ]
  },
  {
   "cell_type": "code",
   "execution_count": 16,
   "metadata": {},
   "outputs": [],
   "source": [
    "lr = LogisticRegression(max_iter=5000)\n",
    "rfcev = RFECV(estimator=lr, step=1, cv=StratifiedKFold(2),\n",
    "              scoring='recall')\n",
    "\n"
   ]
  },
  {
   "cell_type": "code",
   "execution_count": 18,
   "metadata": {},
   "outputs": [
    {
     "name": "stdout",
     "output_type": "stream",
     "text": [
      "optimal number or features: 14\n"
     ]
    }
   ],
   "source": [
    "rfecv.fit(X,y)\n",
    "print(\"optimal number or features: %d\" % rfecv.n_features_)"
   ]
  },
  {
   "cell_type": "code",
   "execution_count": 21,
   "metadata": {},
   "outputs": [
    {
     "name": "stdout",
     "output_type": "stream",
     "text": [
      "{'estimator': SVC(kernel='linear'), 'step': 1, 'importance_getter': 'auto', 'cv': StratifiedKFold(n_splits=5, random_state=None, shuffle=False), 'scoring': 'accuracy', 'verbose': 0, 'n_jobs': None, 'min_features_to_select': 1, 'n_features_in_': 30, 'support_': array([ True, False, False, False,  True,  True,  True,  True,  True,\n",
      "       False, False,  True,  True, False, False, False, False, False,\n",
      "       False, False,  True, False, False, False,  True,  True,  True,\n",
      "        True,  True, False]), 'n_features_': 14, 'ranking_': array([ 1,  8,  3, 17,  1,  1,  1,  1,  1, 14, 12,  1,  1,  9, 10,  6,  5,\n",
      "        7, 15, 13,  1,  2, 11, 16,  1,  1,  1,  1,  1,  4]), 'estimator_': SVC(kernel='linear'), 'cv_results_': {'mean_test_score': array([0.8770222 , 0.87179009, 0.87525229, 0.87525229, 0.88226983,\n",
      "       0.91035553, 0.9561093 , 0.95958702, 0.96134141, 0.96134141,\n",
      "       0.96134141, 0.96134141, 0.95958702, 0.96137246, 0.94730632,\n",
      "       0.95081509, 0.95432386, 0.95432386, 0.95432386, 0.95256948,\n",
      "       0.94904518, 0.94904518, 0.94904518, 0.95079957, 0.95079957,\n",
      "       0.95256948, 0.95256948, 0.95081509, 0.9490607 , 0.94553641]), 'std_test_score': array([0.0212793 , 0.03242365, 0.03047328, 0.03290158, 0.06063576,\n",
      "       0.03902539, 0.02144878, 0.0089099 , 0.00698753, 0.00698753,\n",
      "       0.00698753, 0.00698753, 0.00422243, 0.0142069 , 0.01834127,\n",
      "       0.01621632, 0.02174167, 0.02174167, 0.02174167, 0.01419963,\n",
      "       0.01505646, 0.01505646, 0.01505646, 0.01526843, 0.01526843,\n",
      "       0.01622304, 0.01622304, 0.01621632, 0.01867971, 0.01868869]), 'split0_test_score': array([0.87719298, 0.87719298, 0.9122807 , 0.9122807 , 0.9122807 ,\n",
      "       0.9122807 , 0.92105263, 0.95614035, 0.95614035, 0.95614035,\n",
      "       0.95614035, 0.95614035, 0.95614035, 0.95614035, 0.92982456,\n",
      "       0.94736842, 0.94736842, 0.94736842, 0.94736842, 0.94736842,\n",
      "       0.94736842, 0.94736842, 0.94736842, 0.95614035, 0.95614035,\n",
      "       0.95614035, 0.95614035, 0.94736842, 0.94736842, 0.94736842]), 'split1_test_score': array([0.84210526, 0.8245614 , 0.8245614 , 0.81578947, 0.80701754,\n",
      "       0.84210526, 0.94736842, 0.94736842, 0.95614035, 0.95614035,\n",
      "       0.95614035, 0.95614035, 0.95614035, 0.94736842, 0.93859649,\n",
      "       0.93859649, 0.93859649, 0.93859649, 0.93859649, 0.93859649,\n",
      "       0.93859649, 0.93859649, 0.93859649, 0.93859649, 0.93859649,\n",
      "       0.93859649, 0.93859649, 0.93859649, 0.93859649, 0.92982456]), 'split2_test_score': array([0.86842105, 0.88596491, 0.88596491, 0.88596491, 0.97368421,\n",
      "       0.95614035, 0.97368421, 0.97368421, 0.97368421, 0.97368421,\n",
      "       0.97368421, 0.97368421, 0.96491228, 0.97368421, 0.97368421,\n",
      "       0.97368421, 0.99122807, 0.99122807, 0.99122807, 0.97368421,\n",
      "       0.97368421, 0.97368421, 0.97368421, 0.97368421, 0.97368421,\n",
      "       0.97368421, 0.97368421, 0.97368421, 0.97368421, 0.97368421]), 'split3_test_score': array([0.89473684, 0.85087719, 0.85964912, 0.86842105, 0.8245614 ,\n",
      "       0.93859649, 0.95614035, 0.95614035, 0.95614035, 0.95614035,\n",
      "       0.95614035, 0.95614035, 0.95614035, 0.94736842, 0.92982456,\n",
      "       0.92982456, 0.92982456, 0.92982456, 0.92982456, 0.93859649,\n",
      "       0.92982456, 0.92982456, 0.92982456, 0.92982456, 0.92982456,\n",
      "       0.92982456, 0.92982456, 0.92982456, 0.92105263, 0.92105263]), 'split4_test_score': array([0.90265487, 0.92035398, 0.89380531, 0.89380531, 0.89380531,\n",
      "       0.90265487, 0.98230088, 0.96460177, 0.96460177, 0.96460177,\n",
      "       0.96460177, 0.96460177, 0.96460177, 0.98230088, 0.96460177,\n",
      "       0.96460177, 0.96460177, 0.96460177, 0.96460177, 0.96460177,\n",
      "       0.95575221, 0.95575221, 0.95575221, 0.95575221, 0.95575221,\n",
      "       0.96460177, 0.96460177, 0.96460177, 0.96460177, 0.95575221])}}\n",
      "{'decision_function_shape': 'ovr', 'break_ties': False, 'kernel': 'linear', 'degree': 3, 'gamma': 'scale', 'coef0': 0.0, 'tol': 0.001, 'C': 1.0, 'nu': 0.0, 'epsilon': 0.0, 'shrinking': True, 'probability': False, 'cache_size': 200, 'class_weight': None, 'verbose': False, 'max_iter': -1, 'random_state': None}\n"
     ]
    }
   ],
   "source": [
    "print(rfecv.__dict__)\n",
    "print(rfecv.estimator.__dict__)"
   ]
  }
 ],
 "metadata": {
  "kernelspec": {
   "display_name": "machine",
   "language": "python",
   "name": "python3"
  },
  "language_info": {
   "codemirror_mode": {
    "name": "ipython",
    "version": 3
   },
   "file_extension": ".py",
   "mimetype": "text/x-python",
   "name": "python",
   "nbconvert_exporter": "python",
   "pygments_lexer": "ipython3",
   "version": "3.11.8"
  }
 },
 "nbformat": 4,
 "nbformat_minor": 2
}
