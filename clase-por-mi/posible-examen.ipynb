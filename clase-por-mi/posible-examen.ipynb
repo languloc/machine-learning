{
 "cells": [
  {
   "cell_type": "code",
   "execution_count": null,
   "metadata": {},
   "outputs": [],
   "source": [
    "# Ejercicio 2: \n",
    "# • Diabetes dataset \n",
    "# • Randomsearch MLP \n",
    "# • Revisar resultados de la búsqueda"
   ]
  },
  {
   "cell_type": "code",
   "execution_count": 20,
   "metadata": {},
   "outputs": [],
   "source": [
    "import numpy as np\n",
    "from sklearn.datasets import load_diabetes\n",
    "from sklearn.neural_network import MLPRegressor\n",
    "from sklearn.model_selection import RandomizedSearchCV\n",
    "from sklearn.preprocessing import StandardScaler\n",
    "from sklearn.pipeline import Pipeline\n",
    "from scipy.stats import uniform"
   ]
  },
  {
   "cell_type": "code",
   "execution_count": 3,
   "metadata": {},
   "outputs": [],
   "source": [
    "X, y = load_diabetes(return_X_y=True)"
   ]
  },
  {
   "cell_type": "code",
   "execution_count": 22,
   "metadata": {},
   "outputs": [
    {
     "data": {
      "text/html": [
       "<style>#sk-container-id-2 {color: black;}#sk-container-id-2 pre{padding: 0;}#sk-container-id-2 div.sk-toggleable {background-color: white;}#sk-container-id-2 label.sk-toggleable__label {cursor: pointer;display: block;width: 100%;margin-bottom: 0;padding: 0.3em;box-sizing: border-box;text-align: center;}#sk-container-id-2 label.sk-toggleable__label-arrow:before {content: \"▸\";float: left;margin-right: 0.25em;color: #696969;}#sk-container-id-2 label.sk-toggleable__label-arrow:hover:before {color: black;}#sk-container-id-2 div.sk-estimator:hover label.sk-toggleable__label-arrow:before {color: black;}#sk-container-id-2 div.sk-toggleable__content {max-height: 0;max-width: 0;overflow: hidden;text-align: left;background-color: #f0f8ff;}#sk-container-id-2 div.sk-toggleable__content pre {margin: 0.2em;color: black;border-radius: 0.25em;background-color: #f0f8ff;}#sk-container-id-2 input.sk-toggleable__control:checked~div.sk-toggleable__content {max-height: 200px;max-width: 100%;overflow: auto;}#sk-container-id-2 input.sk-toggleable__control:checked~label.sk-toggleable__label-arrow:before {content: \"▾\";}#sk-container-id-2 div.sk-estimator input.sk-toggleable__control:checked~label.sk-toggleable__label {background-color: #d4ebff;}#sk-container-id-2 div.sk-label input.sk-toggleable__control:checked~label.sk-toggleable__label {background-color: #d4ebff;}#sk-container-id-2 input.sk-hidden--visually {border: 0;clip: rect(1px 1px 1px 1px);clip: rect(1px, 1px, 1px, 1px);height: 1px;margin: -1px;overflow: hidden;padding: 0;position: absolute;width: 1px;}#sk-container-id-2 div.sk-estimator {font-family: monospace;background-color: #f0f8ff;border: 1px dotted black;border-radius: 0.25em;box-sizing: border-box;margin-bottom: 0.5em;}#sk-container-id-2 div.sk-estimator:hover {background-color: #d4ebff;}#sk-container-id-2 div.sk-parallel-item::after {content: \"\";width: 100%;border-bottom: 1px solid gray;flex-grow: 1;}#sk-container-id-2 div.sk-label:hover label.sk-toggleable__label {background-color: #d4ebff;}#sk-container-id-2 div.sk-serial::before {content: \"\";position: absolute;border-left: 1px solid gray;box-sizing: border-box;top: 0;bottom: 0;left: 50%;z-index: 0;}#sk-container-id-2 div.sk-serial {display: flex;flex-direction: column;align-items: center;background-color: white;padding-right: 0.2em;padding-left: 0.2em;position: relative;}#sk-container-id-2 div.sk-item {position: relative;z-index: 1;}#sk-container-id-2 div.sk-parallel {display: flex;align-items: stretch;justify-content: center;background-color: white;position: relative;}#sk-container-id-2 div.sk-item::before, #sk-container-id-2 div.sk-parallel-item::before {content: \"\";position: absolute;border-left: 1px solid gray;box-sizing: border-box;top: 0;bottom: 0;left: 50%;z-index: -1;}#sk-container-id-2 div.sk-parallel-item {display: flex;flex-direction: column;z-index: 1;position: relative;background-color: white;}#sk-container-id-2 div.sk-parallel-item:first-child::after {align-self: flex-end;width: 50%;}#sk-container-id-2 div.sk-parallel-item:last-child::after {align-self: flex-start;width: 50%;}#sk-container-id-2 div.sk-parallel-item:only-child::after {width: 0;}#sk-container-id-2 div.sk-dashed-wrapped {border: 1px dashed gray;margin: 0 0.4em 0.5em 0.4em;box-sizing: border-box;padding-bottom: 0.4em;background-color: white;}#sk-container-id-2 div.sk-label label {font-family: monospace;font-weight: bold;display: inline-block;line-height: 1.2em;}#sk-container-id-2 div.sk-label-container {text-align: center;}#sk-container-id-2 div.sk-container {/* jupyter's `normalize.less` sets `[hidden] { display: none; }` but bootstrap.min.css set `[hidden] { display: none !important; }` so we also need the `!important` here to be able to override the default hidden behavior on the sphinx rendered scikit-learn.org. See: https://github.com/scikit-learn/scikit-learn/issues/21755 */display: inline-block !important;position: relative;}#sk-container-id-2 div.sk-text-repr-fallback {display: none;}</style><div id=\"sk-container-id-2\" class=\"sk-top-container\"><div class=\"sk-text-repr-fallback\"><pre>RandomizedSearchCV(estimator=Pipeline(steps=[(&#x27;std&#x27;, StandardScaler()),\n",
       "                                             (&#x27;mlp&#x27;,\n",
       "                                              MLPRegressor(max_iter=300))]),\n",
       "                   param_distributions={&#x27;mlp__hidden_layer_sizes&#x27;: [[50, 20],\n",
       "                                                                    [30, 30],\n",
       "                                                                    [100, 50,\n",
       "                                                                     10]],\n",
       "                                        &#x27;mlp__learning_rate_init&#x27;: &lt;scipy.stats._distn_infrastructure.rv_continuous_frozen object at 0x00000250B85DAA90&gt;})</pre><b>In a Jupyter environment, please rerun this cell to show the HTML representation or trust the notebook. <br />On GitHub, the HTML representation is unable to render, please try loading this page with nbviewer.org.</b></div><div class=\"sk-container\" hidden><div class=\"sk-item sk-dashed-wrapped\"><div class=\"sk-label-container\"><div class=\"sk-label sk-toggleable\"><input class=\"sk-toggleable__control sk-hidden--visually\" id=\"sk-estimator-id-4\" type=\"checkbox\" ><label for=\"sk-estimator-id-4\" class=\"sk-toggleable__label sk-toggleable__label-arrow\">RandomizedSearchCV</label><div class=\"sk-toggleable__content\"><pre>RandomizedSearchCV(estimator=Pipeline(steps=[(&#x27;std&#x27;, StandardScaler()),\n",
       "                                             (&#x27;mlp&#x27;,\n",
       "                                              MLPRegressor(max_iter=300))]),\n",
       "                   param_distributions={&#x27;mlp__hidden_layer_sizes&#x27;: [[50, 20],\n",
       "                                                                    [30, 30],\n",
       "                                                                    [100, 50,\n",
       "                                                                     10]],\n",
       "                                        &#x27;mlp__learning_rate_init&#x27;: &lt;scipy.stats._distn_infrastructure.rv_continuous_frozen object at 0x00000250B85DAA90&gt;})</pre></div></div></div><div class=\"sk-parallel\"><div class=\"sk-parallel-item\"><div class=\"sk-item\"><div class=\"sk-label-container\"><div class=\"sk-label sk-toggleable\"><input class=\"sk-toggleable__control sk-hidden--visually\" id=\"sk-estimator-id-5\" type=\"checkbox\" ><label for=\"sk-estimator-id-5\" class=\"sk-toggleable__label sk-toggleable__label-arrow\">estimator: Pipeline</label><div class=\"sk-toggleable__content\"><pre>Pipeline(steps=[(&#x27;std&#x27;, StandardScaler()), (&#x27;mlp&#x27;, MLPRegressor(max_iter=300))])</pre></div></div></div><div class=\"sk-serial\"><div class=\"sk-item\"><div class=\"sk-serial\"><div class=\"sk-item\"><div class=\"sk-estimator sk-toggleable\"><input class=\"sk-toggleable__control sk-hidden--visually\" id=\"sk-estimator-id-6\" type=\"checkbox\" ><label for=\"sk-estimator-id-6\" class=\"sk-toggleable__label sk-toggleable__label-arrow\">StandardScaler</label><div class=\"sk-toggleable__content\"><pre>StandardScaler()</pre></div></div></div><div class=\"sk-item\"><div class=\"sk-estimator sk-toggleable\"><input class=\"sk-toggleable__control sk-hidden--visually\" id=\"sk-estimator-id-7\" type=\"checkbox\" ><label for=\"sk-estimator-id-7\" class=\"sk-toggleable__label sk-toggleable__label-arrow\">MLPRegressor</label><div class=\"sk-toggleable__content\"><pre>MLPRegressor(max_iter=300)</pre></div></div></div></div></div></div></div></div></div></div></div></div>"
      ],
      "text/plain": [
       "RandomizedSearchCV(estimator=Pipeline(steps=[('std', StandardScaler()),\n",
       "                                             ('mlp',\n",
       "                                              MLPRegressor(max_iter=300))]),\n",
       "                   param_distributions={'mlp__hidden_layer_sizes': [[50, 20],\n",
       "                                                                    [30, 30],\n",
       "                                                                    [100, 50,\n",
       "                                                                     10]],\n",
       "                                        'mlp__learning_rate_init': <scipy.stats._distn_infrastructure.rv_continuous_frozen object at 0x00000250B85DAA90>})"
      ]
     },
     "execution_count": 22,
     "metadata": {},
     "output_type": "execute_result"
    }
   ],
   "source": [
    "estimator = Pipeline([\n",
    "    (\"std\", StandardScaler()),\n",
    "    (\"mlp\", MLPRegressor(max_iter=300))\n",
    "])\n",
    "\n",
    "search_space = {\n",
    "    \"mlp__hidden_layer_sizes\": [[50, 20], [30, 30], [100, 50, 10]],\n",
    "    \"mlp__learning_rate_init\": uniform(0, 2)\n",
    "}\n",
    "\n",
    "search = RandomizedSearchCV(estimator, search_space, n_iter=10)\n",
    "\n",
    "search.fit(X, y)"
   ]
  },
  {
   "cell_type": "code",
   "execution_count": 23,
   "metadata": {},
   "outputs": [
    {
     "data": {
      "text/plain": [
       "{'mean_fit_time': array([0.10346103, 0.0474503 , 0.01634846, 0.01626005, 0.02313585,\n",
       "        0.04880686, 0.03332968, 0.02802892, 0.13348918, 0.13738356]),\n",
       " 'std_fit_time': array([0.09860336, 0.00882596, 0.00082367, 0.00065878, 0.00085205,\n",
       "        0.05543704, 0.01981542, 0.00292646, 0.15274264, 0.06475477]),\n",
       " 'mean_score_time': array([0.00105953, 0.00079894, 0.00039978, 0.00050101, 0.00143108,\n",
       "        0.00040002, 0.00083899, 0.00058346, 0.0010076 , 0.00100718]),\n",
       " 'std_score_time': array([9.66828936e-05, 3.99531324e-04, 4.89629049e-04, 6.34031698e-04,\n",
       "        3.54192946e-04, 4.89920894e-04, 4.29650443e-04, 4.84414886e-04,\n",
       "        1.08058076e-05, 8.91137082e-06]),\n",
       " 'param_mlp__hidden_layer_sizes': masked_array(data=[list([30, 30]), list([100, 50, 10]), list([30, 30]),\n",
       "                    list([30, 30]), list([50, 20]), list([50, 20]),\n",
       "                    list([30, 30]), list([50, 20]), list([50, 20]),\n",
       "                    list([50, 20])],\n",
       "              mask=[False, False, False, False, False, False, False, False,\n",
       "                    False, False],\n",
       "        fill_value='?',\n",
       "             dtype=object),\n",
       " 'param_mlp__learning_rate_init': masked_array(data=[0.6757879395964901, 1.8383459620104914,\n",
       "                    0.9810605971136506, 1.9963683665723575,\n",
       "                    0.8868242369800872, 1.0603444342694686,\n",
       "                    1.48568984724388, 1.9643916743562029,\n",
       "                    0.9974104631990925, 0.48137225977994347],\n",
       "              mask=[False, False, False, False, False, False, False, False,\n",
       "                    False, False],\n",
       "        fill_value='?',\n",
       "             dtype=object),\n",
       " 'params': [{'mlp__hidden_layer_sizes': [30, 30],\n",
       "   'mlp__learning_rate_init': 0.6757879395964901},\n",
       "  {'mlp__hidden_layer_sizes': [100, 50, 10],\n",
       "   'mlp__learning_rate_init': 1.8383459620104914},\n",
       "  {'mlp__hidden_layer_sizes': [30, 30],\n",
       "   'mlp__learning_rate_init': 0.9810605971136506},\n",
       "  {'mlp__hidden_layer_sizes': [30, 30],\n",
       "   'mlp__learning_rate_init': 1.9963683665723575},\n",
       "  {'mlp__hidden_layer_sizes': [50, 20],\n",
       "   'mlp__learning_rate_init': 0.8868242369800872},\n",
       "  {'mlp__hidden_layer_sizes': [50, 20],\n",
       "   'mlp__learning_rate_init': 1.0603444342694686},\n",
       "  {'mlp__hidden_layer_sizes': [30, 30],\n",
       "   'mlp__learning_rate_init': 1.48568984724388},\n",
       "  {'mlp__hidden_layer_sizes': [50, 20],\n",
       "   'mlp__learning_rate_init': 1.9643916743562029},\n",
       "  {'mlp__hidden_layer_sizes': [50, 20],\n",
       "   'mlp__learning_rate_init': 0.9974104631990925},\n",
       "  {'mlp__hidden_layer_sizes': [50, 20],\n",
       "   'mlp__learning_rate_init': 0.48137225977994347}],\n",
       " 'split0_test_score': array([ 0.3256592 , -4.16314267, -3.27776699, -3.84914286, -3.05595277,\n",
       "        -3.17467268, -3.67390454, -4.05286558,  0.05707862, -3.29118346]),\n",
       " 'split1_test_score': array([-3.63186384, -4.57816522, -3.8721892 , -4.43011106, -3.88311218,\n",
       "         0.47160413, -4.18517959, -4.47309884, -3.91107363,  0.40270257]),\n",
       " 'split2_test_score': array([-3.01828926e+00, -4.00673205e+00, -3.27604669e+00, -3.87763768e+00,\n",
       "        -3.21881142e+00, -3.32880948e+00, -5.76331379e-01, -3.90025255e+00,\n",
       "        -5.87295853e-04, -3.19303359e-02]),\n",
       " 'split3_test_score': array([ 0.06389377, -5.20224012, -4.31899797, -5.03788443, -4.13044391,\n",
       "        -4.31119933, -4.51158318, -4.98633805, -4.53599762,  0.1467071 ]),\n",
       " 'split4_test_score': array([-3.20447977, -4.12917803, -3.37745804, -3.94284243, -3.27930432,\n",
       "        -3.45955276, -3.80698011, -3.90408445, -3.33701199,  0.32904624]),\n",
       " 'mean_test_score': array([-1.89301598, -4.41589162, -3.62449178, -4.22752369, -3.51352492,\n",
       "        -2.76052602, -3.35079576, -4.26332789, -2.34551838, -0.48893158]),\n",
       " 'std_test_score': array([1.71824238, 0.43776134, 0.4114245 , 0.45702557, 0.41671846,\n",
       "        1.66339141, 1.41801127, 0.41759346, 1.97501373, 1.40922684]),\n",
       " 'rank_test_score': array([ 2, 10,  7,  8,  6,  4,  5,  9,  3,  1])}"
      ]
     },
     "execution_count": 23,
     "metadata": {},
     "output_type": "execute_result"
    }
   ],
   "source": [
    "search.cv_results_"
   ]
  },
  {
   "cell_type": "code",
   "execution_count": null,
   "metadata": {},
   "outputs": [],
   "source": [
    "# Lo mismo con test size"
   ]
  },
  {
   "cell_type": "code",
   "execution_count": 25,
   "metadata": {},
   "outputs": [
    {
     "data": {
      "text/html": [
       "<style>#sk-container-id-3 {color: black;}#sk-container-id-3 pre{padding: 0;}#sk-container-id-3 div.sk-toggleable {background-color: white;}#sk-container-id-3 label.sk-toggleable__label {cursor: pointer;display: block;width: 100%;margin-bottom: 0;padding: 0.3em;box-sizing: border-box;text-align: center;}#sk-container-id-3 label.sk-toggleable__label-arrow:before {content: \"▸\";float: left;margin-right: 0.25em;color: #696969;}#sk-container-id-3 label.sk-toggleable__label-arrow:hover:before {color: black;}#sk-container-id-3 div.sk-estimator:hover label.sk-toggleable__label-arrow:before {color: black;}#sk-container-id-3 div.sk-toggleable__content {max-height: 0;max-width: 0;overflow: hidden;text-align: left;background-color: #f0f8ff;}#sk-container-id-3 div.sk-toggleable__content pre {margin: 0.2em;color: black;border-radius: 0.25em;background-color: #f0f8ff;}#sk-container-id-3 input.sk-toggleable__control:checked~div.sk-toggleable__content {max-height: 200px;max-width: 100%;overflow: auto;}#sk-container-id-3 input.sk-toggleable__control:checked~label.sk-toggleable__label-arrow:before {content: \"▾\";}#sk-container-id-3 div.sk-estimator input.sk-toggleable__control:checked~label.sk-toggleable__label {background-color: #d4ebff;}#sk-container-id-3 div.sk-label input.sk-toggleable__control:checked~label.sk-toggleable__label {background-color: #d4ebff;}#sk-container-id-3 input.sk-hidden--visually {border: 0;clip: rect(1px 1px 1px 1px);clip: rect(1px, 1px, 1px, 1px);height: 1px;margin: -1px;overflow: hidden;padding: 0;position: absolute;width: 1px;}#sk-container-id-3 div.sk-estimator {font-family: monospace;background-color: #f0f8ff;border: 1px dotted black;border-radius: 0.25em;box-sizing: border-box;margin-bottom: 0.5em;}#sk-container-id-3 div.sk-estimator:hover {background-color: #d4ebff;}#sk-container-id-3 div.sk-parallel-item::after {content: \"\";width: 100%;border-bottom: 1px solid gray;flex-grow: 1;}#sk-container-id-3 div.sk-label:hover label.sk-toggleable__label {background-color: #d4ebff;}#sk-container-id-3 div.sk-serial::before {content: \"\";position: absolute;border-left: 1px solid gray;box-sizing: border-box;top: 0;bottom: 0;left: 50%;z-index: 0;}#sk-container-id-3 div.sk-serial {display: flex;flex-direction: column;align-items: center;background-color: white;padding-right: 0.2em;padding-left: 0.2em;position: relative;}#sk-container-id-3 div.sk-item {position: relative;z-index: 1;}#sk-container-id-3 div.sk-parallel {display: flex;align-items: stretch;justify-content: center;background-color: white;position: relative;}#sk-container-id-3 div.sk-item::before, #sk-container-id-3 div.sk-parallel-item::before {content: \"\";position: absolute;border-left: 1px solid gray;box-sizing: border-box;top: 0;bottom: 0;left: 50%;z-index: -1;}#sk-container-id-3 div.sk-parallel-item {display: flex;flex-direction: column;z-index: 1;position: relative;background-color: white;}#sk-container-id-3 div.sk-parallel-item:first-child::after {align-self: flex-end;width: 50%;}#sk-container-id-3 div.sk-parallel-item:last-child::after {align-self: flex-start;width: 50%;}#sk-container-id-3 div.sk-parallel-item:only-child::after {width: 0;}#sk-container-id-3 div.sk-dashed-wrapped {border: 1px dashed gray;margin: 0 0.4em 0.5em 0.4em;box-sizing: border-box;padding-bottom: 0.4em;background-color: white;}#sk-container-id-3 div.sk-label label {font-family: monospace;font-weight: bold;display: inline-block;line-height: 1.2em;}#sk-container-id-3 div.sk-label-container {text-align: center;}#sk-container-id-3 div.sk-container {/* jupyter's `normalize.less` sets `[hidden] { display: none; }` but bootstrap.min.css set `[hidden] { display: none !important; }` so we also need the `!important` here to be able to override the default hidden behavior on the sphinx rendered scikit-learn.org. See: https://github.com/scikit-learn/scikit-learn/issues/21755 */display: inline-block !important;position: relative;}#sk-container-id-3 div.sk-text-repr-fallback {display: none;}</style><div id=\"sk-container-id-3\" class=\"sk-top-container\"><div class=\"sk-text-repr-fallback\"><pre>RandomizedSearchCV(estimator=Pipeline(steps=[(&#x27;std&#x27;, StandardScaler()),\n",
       "                                             (&#x27;mlp&#x27;,\n",
       "                                              MLPRegressor(max_iter=300))]),\n",
       "                   param_distributions={&#x27;mlp__hidden_layer_sizes&#x27;: [[50, 20],\n",
       "                                                                    [30, 30],\n",
       "                                                                    [100, 50,\n",
       "                                                                     10]],\n",
       "                                        &#x27;mlp__learning_rate_init&#x27;: &lt;scipy.stats._distn_infrastructure.rv_continuous_frozen object at 0x00000250B85DAA90&gt;})</pre><b>In a Jupyter environment, please rerun this cell to show the HTML representation or trust the notebook. <br />On GitHub, the HTML representation is unable to render, please try loading this page with nbviewer.org.</b></div><div class=\"sk-container\" hidden><div class=\"sk-item sk-dashed-wrapped\"><div class=\"sk-label-container\"><div class=\"sk-label sk-toggleable\"><input class=\"sk-toggleable__control sk-hidden--visually\" id=\"sk-estimator-id-8\" type=\"checkbox\" ><label for=\"sk-estimator-id-8\" class=\"sk-toggleable__label sk-toggleable__label-arrow\">RandomizedSearchCV</label><div class=\"sk-toggleable__content\"><pre>RandomizedSearchCV(estimator=Pipeline(steps=[(&#x27;std&#x27;, StandardScaler()),\n",
       "                                             (&#x27;mlp&#x27;,\n",
       "                                              MLPRegressor(max_iter=300))]),\n",
       "                   param_distributions={&#x27;mlp__hidden_layer_sizes&#x27;: [[50, 20],\n",
       "                                                                    [30, 30],\n",
       "                                                                    [100, 50,\n",
       "                                                                     10]],\n",
       "                                        &#x27;mlp__learning_rate_init&#x27;: &lt;scipy.stats._distn_infrastructure.rv_continuous_frozen object at 0x00000250B85DAA90&gt;})</pre></div></div></div><div class=\"sk-parallel\"><div class=\"sk-parallel-item\"><div class=\"sk-item\"><div class=\"sk-label-container\"><div class=\"sk-label sk-toggleable\"><input class=\"sk-toggleable__control sk-hidden--visually\" id=\"sk-estimator-id-9\" type=\"checkbox\" ><label for=\"sk-estimator-id-9\" class=\"sk-toggleable__label sk-toggleable__label-arrow\">estimator: Pipeline</label><div class=\"sk-toggleable__content\"><pre>Pipeline(steps=[(&#x27;std&#x27;, StandardScaler()), (&#x27;mlp&#x27;, MLPRegressor(max_iter=300))])</pre></div></div></div><div class=\"sk-serial\"><div class=\"sk-item\"><div class=\"sk-serial\"><div class=\"sk-item\"><div class=\"sk-estimator sk-toggleable\"><input class=\"sk-toggleable__control sk-hidden--visually\" id=\"sk-estimator-id-10\" type=\"checkbox\" ><label for=\"sk-estimator-id-10\" class=\"sk-toggleable__label sk-toggleable__label-arrow\">StandardScaler</label><div class=\"sk-toggleable__content\"><pre>StandardScaler()</pre></div></div></div><div class=\"sk-item\"><div class=\"sk-estimator sk-toggleable\"><input class=\"sk-toggleable__control sk-hidden--visually\" id=\"sk-estimator-id-11\" type=\"checkbox\" ><label for=\"sk-estimator-id-11\" class=\"sk-toggleable__label sk-toggleable__label-arrow\">MLPRegressor</label><div class=\"sk-toggleable__content\"><pre>MLPRegressor(max_iter=300)</pre></div></div></div></div></div></div></div></div></div></div></div></div>"
      ],
      "text/plain": [
       "RandomizedSearchCV(estimator=Pipeline(steps=[('std', StandardScaler()),\n",
       "                                             ('mlp',\n",
       "                                              MLPRegressor(max_iter=300))]),\n",
       "                   param_distributions={'mlp__hidden_layer_sizes': [[50, 20],\n",
       "                                                                    [30, 30],\n",
       "                                                                    [100, 50,\n",
       "                                                                     10]],\n",
       "                                        'mlp__learning_rate_init': <scipy.stats._distn_infrastructure.rv_continuous_frozen object at 0x00000250B85DAA90>})"
      ]
     },
     "execution_count": 25,
     "metadata": {},
     "output_type": "execute_result"
    }
   ],
   "source": [
    "from sklearn.model_selection import train_test_split\n",
    "\n",
    "X_train, X_test, y_train, y_test = train_test_split(X, y, test_size=0.2)\n",
    "\n",
    "search.fit(X_train, y_train)"
   ]
  },
  {
   "cell_type": "code",
   "execution_count": 26,
   "metadata": {},
   "outputs": [
    {
     "data": {
      "text/plain": [
       "0.2889219230028285"
      ]
     },
     "execution_count": 26,
     "metadata": {},
     "output_type": "execute_result"
    }
   ],
   "source": [
    "search.score(X_test, y_test)"
   ]
  },
  {
   "cell_type": "code",
   "execution_count": 27,
   "metadata": {},
   "outputs": [
    {
     "name": "stdout",
     "output_type": "stream",
     "text": [
      "Mejores parámetros:  {'knn__n_neighbors': 21, 'knn__p': 2, 'knn__weights': 'distance'}\n",
      "Mejor score (validación cruzada):  0.40233085798170354\n",
      "Score en el conjunto de prueba:  0.4330375913733606\n"
     ]
    }
   ],
   "source": [
    "# lo mismo con un KNN\n",
    "\n",
    "# Importar las librerías necesarias\n",
    "from sklearn.datasets import load_diabetes\n",
    "from sklearn.pipeline import Pipeline\n",
    "from sklearn.preprocessing import StandardScaler\n",
    "from sklearn.neighbors import KNeighborsRegressor\n",
    "from sklearn.model_selection import RandomizedSearchCV, train_test_split\n",
    "from scipy.stats import randint\n",
    "\n",
    "# Cargar el dataset de diabetes\n",
    "X, y = load_diabetes(return_X_y=True)\n",
    "\n",
    "# Crear el pipeline que incluye el escalado de características y el modelo KNN\n",
    "estimator = Pipeline([\n",
    "    (\"std\", StandardScaler()),\n",
    "    (\"knn\", KNeighborsRegressor())\n",
    "])\n",
    "\n",
    "# Definir el espacio de búsqueda para los hiperparámetros del KNN\n",
    "search_space = {\n",
    "    \"knn__n_neighbors\": randint(1, 30), # Número de vecinos\n",
    "    \"knn__weights\": ['uniform', 'distance'], # Ponderación de los vecinos\n",
    "    \"knn__p\": [1, 2] # Parámetro de potencia para la métrica de Minkowski\n",
    "}\n",
    "\n",
    "# Configurar la búsqueda aleatoria\n",
    "search = RandomizedSearchCV(estimator, search_space, n_iter=10, cv=5, random_state=42)\n",
    "\n",
    "# Dividir los datos en conjuntos de entrenamiento y prueba\n",
    "X_train, X_test, y_train, y_test = train_test_split(X, y, test_size=0.2, random_state=42)\n",
    "\n",
    "# Realizar la búsqueda aleatoria\n",
    "search.fit(X_train, y_train)\n",
    "\n",
    "# Imprimir los mejores parámetros y el mejor score obtenido en la validación cruzada\n",
    "print(\"Mejores parámetros: \", search.best_params_)\n",
    "print(\"Mejor score (validación cruzada): \", search.best_score_)\n",
    "\n",
    "# Evaluar el modelo en el conjunto de prueba\n",
    "test_score = search.score(X_test, y_test)\n",
    "print(\"Score en el conjunto de prueba: \", test_score)\n"
   ]
  }
 ],
 "metadata": {
  "kernelspec": {
   "display_name": "machine",
   "language": "python",
   "name": "python3"
  },
  "language_info": {
   "codemirror_mode": {
    "name": "ipython",
    "version": 3
   },
   "file_extension": ".py",
   "mimetype": "text/x-python",
   "name": "python",
   "nbconvert_exporter": "python",
   "pygments_lexer": "ipython3",
   "version": "3.11.8"
  }
 },
 "nbformat": 4,
 "nbformat_minor": 2
}
